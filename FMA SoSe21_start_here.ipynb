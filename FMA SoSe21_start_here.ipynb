{
 "cells": [
  {
   "cell_type": "markdown",
   "metadata": {},
   "source": [
    "# FMA Interactive Jupyter Notebooks SoSe21"
   ]
  },
  {
   "cell_type": "markdown",
   "metadata": {},
   "source": [
    "Willkommen zu den Interaktiven Notebooks der Veranstaltung FMA. Diese Seite ist das Portal zu den verschiedenen Notebooks. Wenn Sie sich angemeldet haben, erzeugt der JupyterHub eine eigene Instanz für ihren Nutzeraccount. Sie können keine Daten von anderen löschen, aber ggf. Inhalte in Ihrer Instanz. Eine Synchronisation mit dem Repo ist möglich, aber für Ihre Inhalte sind Sie selbst verantwortlich.\n",
    "\n",
    "Sie finden hier die interaktiven Notebooks zu den Vorlesungen und auch alle Übungen."
   ]
  },
  {
   "cell_type": "markdown",
   "metadata": {},
   "source": [
    "## Dokumentation zu Jupyter\n",
    "Es gibt viele Informationen zu Jupyter Notebooks, da Jupyter für den Bereich Data Science ein wichtiges Werkzeug geworden ist. An dieser Stelle sammeln wir eine Auswahl. Wer bessere Referenzen findet, bitte im Forum kommunizieren:\n",
    "\n",
    "- Offizielle Dokumentation des [Jupyter-Projekts](https://jupyter.org/documentation)\n",
    "- Jupyter Tutorial [Link](https://jupyter-tutorial.readthedocs.io/de/latest/)\n",
    "- Tutorial des Bryn Mawr College, USA zur Nutzung des User Interface [Link](https://jupyter.brynmawr.edu/services/public/dblank/Jupyter%20Notebook%20Users%20Manual.ipynb)\n",
    "- Jupyter Notebook Tutorial von C. Schafer: Introduction, Setup, and Walkthrough [Youtube Tutorial ](https://www.youtube.com/watch?v=HW29067qVWk)"
   ]
  },
  {
   "cell_type": "markdown",
   "metadata": {},
   "source": [
    "## Aktuelle Inhalte und Nachrichten"
   ]
  },
  {
   "cell_type": "markdown",
   "metadata": {},
   "source": [
    "--"
   ]
  },
  {
   "cell_type": "markdown",
   "metadata": {},
   "source": [
    "# Notebook Struktur für FMA 2020"
   ]
  },
  {
   "cell_type": "markdown",
   "metadata": {},
   "source": [
    "### Bemerkung zu den Notebooks:\n",
    "Die folgenden Ausführungen sind eine automatische Übersetzung von deepl (https://www.deepl.com/translator) der Webseite Problem Solving with Algorithms and Data Structures Using Python (https://runestone.academy/runestone/books/published/pythonds/index.html). Es wurde zum Teil nur in geringem Maße modifiziert bzw. wird ständig verbessert, daher sind einige Formulierungen und Darstellungen noch etwas \"seltsam\". Eigene Ergänzungen sind bereits zum Teil erfolgt."
   ]
  }
 ],
 "metadata": {
  "celltoolbar": "Visualize",
  "kernelspec": {
   "display_name": "Python 3",
   "language": "python",
   "name": "python3"
  },
  "language_info": {
   "codemirror_mode": {
    "name": "ipython",
    "version": 3
   },
   "file_extension": ".py",
   "mimetype": "text/x-python",
   "name": "python",
   "nbconvert_exporter": "python",
   "pygments_lexer": "ipython3",
   "version": "3.7.6"
  }
 },
 "nbformat": 4,
 "nbformat_minor": 4
}
