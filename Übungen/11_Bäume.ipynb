{
 "cells": [
  {
   "cell_type": "markdown",
   "metadata": {},
   "source": [
    "[<img src=\"Bilder/MIREVIBanner.jpg\">](00_Überblick.ipynb)\n",
    "# FMA Übung\n",
    "## Bäume\n",
    "Diese Übung beschäftigt sich mit dem Thema Bäume.\n",
    "\n",
    "Was ist das und warum brauche ich das?      \n",
    "Ein Baum ist ein zusammenhängender Graph ohne Kreise. Bäume werden in der Informatik häufig als Datenstruktur eingesetzt. Sie finden Einsatz in unterschiedlichen Bereichen. \n",
    "\n",
    "Welche besonderen Bäume gibt es?     \n",
    "Binärbaum: Bäume mit einem Grad von 2.    \n",
    "Ternärbaum: Bäume mit einem Grad von 3.    \n",
    "Vollständig balancierter Baum: Die Abstände zweier beliebiger Blätter von der Wurzel weichen höchstens um 1 voneinander ab."
   ]
  },
  {
   "cell_type": "markdown",
   "metadata": {},
   "source": [
    "<a id='Aufgabe_Traversierung'></a>\n",
    "### Traversierung \n",
    "Durchlaufen Sie folgenden Baum in:    \n",
    "1. Preorder\n",
    "2. Postorder\n",
    "3. Inorder\n",
    "\n",
    "![Aufgabe Traversierung](Bilder/11_Baeume/Traversierung.PNG)\n",
    "\n",
    "[zur Lösung](#Lösung_Traversierung)"
   ]
  },
  {
   "cell_type": "markdown",
   "metadata": {},
   "source": [
    "<a id='Aufgabe_BinärerSuchbaum'></a>\n",
    "### Binärer Suchbaum\n",
    "1. Fügen Sie folgende Zahlen in der angegebenen Reihenfolge in einen binären Suchbaum ein:     \n",
    "    5, 3, 1, 6, 4, 2, 7\n",
    "2. Visualisieren Sie die Suche nach den Schlüsseln 0 und 4\n",
    "3. Löschen Sie den Schlüssel 3 aus dem Baum\n",
    "\n",
    "[zur Lösung](#Lösung_BinärerSuchbaum)"
   ]
  },
  {
   "cell_type": "markdown",
   "metadata": {},
   "source": [
    "<a id='Aufgabe_AVLBaum'></a>\n",
    "### AVL Baum\n",
    "Gegeben ist folgender AVL Baum. Fügen Sie nacheinander folgende Zahlen ein:    \n",
    "95, 99, 80, 20, 30, 40, 45    \n",
    "Geben Sie auch jeweils die Balance und die benötigten Rotationen an.\n",
    "\n",
    "![Aufgabe AVL Baum](Bilder/11_Baeume/AVLBaum.png)\n",
    "\n",
    "[zur Lösung](#Lösung_AVLBaum)"
   ]
  },
  {
   "cell_type": "markdown",
   "metadata": {},
   "source": [
    "## Lösungen"
   ]
  },
  {
   "cell_type": "markdown",
   "metadata": {},
   "source": [
    "<a id='Lösung_Traversierung'></a>\n",
    "### Traversierung \n",
    "Durchlaufen Sie folgenden Baum in:    \n",
    "1. Preorder     \n",
    "Ausgabe: A - B - D - C - E - G - F - H - I\n",
    "\n",
    "2. Postorder   \n",
    "Ausgabe: D - B - G - E - H - I - F - C - A\n",
    "\n",
    "3. Inorder   \n",
    "Ausgabe: D - B - A - G - E - C - H - F - I\n",
    "\n",
    "[zurück zur Aufgabe](#Aufgabe_Traversierung)"
   ]
  },
  {
   "cell_type": "markdown",
   "metadata": {},
   "source": [
    "<a id='Lösung_BinärerSuchbaum'></a>\n",
    "### Binärer Suchbaum\n",
    "1. Fügen Sie folgende Zahlen in der angegebenen Reihenfolge in einen binären Suchbaum ein:     \n",
    "    5, 3, 1, 6, 4, 2, 7    \n",
    "![Binärer Suchbaum Lösung 1](Bilder/11_Baeume/BinaerBaum_1.1.png)    \n",
    "![Binärer Suchbaum Lösung 1](Bilder/11_Baeume/BinaerBaum_1.2.png)\n",
    "![Binärer Suchbaum Lösung 1](Bilder/11_Baeume/BinaerBaum_1.3.png)\n",
    "![Binärer Suchbaum Lösung 1](Bilder/11_Baeume/BinaerBaum_1.4.png)\n",
    "![Binärer Suchbaum Lösung 1](Bilder/11_Baeume/BinaerBaum_1.5.png)\n",
    "![Binärer Suchbaum Lösung 1](Bilder/11_Baeume/BinaerBaum_1.6.png)\n",
    "![Binärer Suchbaum Lösung 1](Bilder/11_Baeume/BinaerBaum_1.7.png)\n",
    "    \n",
    "2. Visualisieren Sie die Suche nach den Schlüsseln 0 und 4\n",
    "![Binärer Suchbaum Lösung 2](Bilder/11_Baeume/BinaerBaum_2.1.png)\n",
    "![Binärer Suchbaum Lösung 2](Bilder/11_Baeume/BinaerBaum_2.2.png)\n",
    "![Binärer Suchbaum Lösung 2](Bilder/11_Baeume/BinaerBaum_2.3.png)\n",
    "![Binärer Suchbaum Lösung 2](Bilder/11_Baeume/BinaerBaum_2.4.png)\n",
    "![Binärer Suchbaum Lösung 2](Bilder/11_Baeume/BinaerBaum_2.5.png)\n",
    "![Binärer Suchbaum Lösung 2](Bilder/11_Baeume/BinaerBaum_2.6.png)\n",
    "\n",
    "3. Löschen Sie den Schlüssel 3 aus dem Baum\n",
    "![Binärer Suchbaum Lösung 2](Bilder/11_Baeume/BinaerBaum_3.1.png)\n",
    "\n",
    "[zurück zur Aufgabe](#Aufgabe_BinärerSuchbaum)"
   ]
  },
  {
   "cell_type": "markdown",
   "metadata": {},
   "source": [
    "<a id='Lösung_AVLBaum'></a>\n",
    "### AVL Baum\n",
    "Gegeben ist folgender AVL Baum. Fügen Sie nacheinander folgende Zahlen ein:    \n",
    "95 - keine Rotation nötig    \n",
    "![Lösung AVL Baum 95](Bilder/11_Baeume/AVLBaum_1.png)\n",
    "\n",
    "99 - Linksrotation   \n",
    "![Lösung AVL Baum 99](Bilder/11_Baeume/AVLBaum_2.1.png)\n",
    "![Lösung AVL Baum 99](Bilder/11_Baeume/AVLBaum_2.2.png)     \n",
    "\n",
    "80 - Rechtslinksrotation\n",
    "![Lösung AVL Baum 99](Bilder/11_Baeume/AVLBaum_3.1.png)\n",
    "![Lösung AVL Baum 99](Bilder/11_Baeume/AVLBaum_3.2.png)\n",
    "![Lösung AVL Baum 99](Bilder/11_Baeume/AVLBaum_3.3.png)\n",
    "\n",
    "20 - keine Rotation nötig\n",
    "![Lösung AVL Baum 99](Bilder/11_Baeume/AVLBaum_4.png)\n",
    "\n",
    "30 - Linksrechtsrotation\n",
    "![Lösung AVL Baum 99](Bilder/11_Baeume/AVLBaum_5.1.png)\n",
    "![Lösung AVL Baum 99](Bilder/11_Baeume/AVLBaum_5.2.png)\n",
    "![Lösung AVL Baum 99](Bilder/11_Baeume/AVLBaum_5.3.png)\n",
    "\n",
    "40 - Linksrechtsrotation\n",
    "![Lösung AVL Baum 99](Bilder/11_Baeume/AVLBaum_6.1.png)\n",
    "![Lösung AVL Baum 99](Bilder/11_Baeume/AVLBaum_6.2.png)\n",
    "![Lösung AVL Baum 99](Bilder/11_Baeume/AVLBaum_6.3.png)\n",
    "\n",
    "45 - Rechtsrotation\n",
    "![Lösung AVL Baum 99](Bilder/11_Baeume/AVLBaum_7.1.png)\n",
    "![Lösung AVL Baum 99](Bilder/11_Baeume/AVLBaum_7.2.png)\n",
    "\n",
    "\n",
    "[zurück zur Aufgabe](#Aufgabe_AVLBaum)"
   ]
  }
 ],
 "metadata": {
  "kernelspec": {
   "display_name": "Python 3",
   "language": "python",
   "name": "python3"
  },
  "language_info": {
   "codemirror_mode": {
    "name": "ipython",
    "version": 3
   },
   "file_extension": ".py",
   "mimetype": "text/x-python",
   "name": "python",
   "nbconvert_exporter": "python",
   "pygments_lexer": "ipython3",
   "version": "3.7.6"
  }
 },
 "nbformat": 4,
 "nbformat_minor": 4
}
