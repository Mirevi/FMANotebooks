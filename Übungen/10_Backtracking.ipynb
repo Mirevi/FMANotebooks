{
 "cells": [
  {
   "cell_type": "markdown",
   "metadata": {},
   "source": [
    "[<img src=\"Bilder/MIREVIBanner.jpg\">](00_Überblick.ipynb)\n",
    "# FMA Übung\n",
    "## Backtracking\n",
    "Diese Übung befasst sich mit dem Thema Backtracking.\n",
    "\n",
    "Zusammenfassung:     \n",
    "Was ist Backtracking?    \n",
    "Das Backtracking realisiert eine systematische Suchtechnik, die die Menge aller möglichen Lösungen eines Problems vollständig durchsucht. Führt die Lösung auf einem Weg nicht zum Ziel, wird zur letzten Entscheidung zurückgegangen und dort eine\n",
    "Alternative untersucht. Da alle möglichen Lösungen untersucht werden, wird eine Lösung – wenn sie existiert – stets gefunden.   \n",
    "Backtracking ist als Verfahren nicht notwendigerweise rekursiv, wird aber meist rekursiv implementiert.\n",
    "\n",
    "Wie funktioniert das?    \n",
    "1. Schaue, ob Du am Ziel bist. Wenn ja, dann endet der Algorithmus an dieser Stelle, wenn nicht gehe zu 2.   \n",
    "2. Wähle an der aktuellen Position einen noch nicht untersuchten Weg zum Ziel und gehe zu 1.   \n",
    "3. Falls es keine möglichen Wege gibt, dann gehe zurück zu der Position, die noch unerforschte Wege bietet und gehe zu 1.\n",
    "4. Führt ein Teilweg nicht zum Ziel, dann wird dieser Weg verworfen und an der Verzweigung des vorherigen Teilwegs weitergesucht."
   ]
  },
  {
   "cell_type": "markdown",
   "metadata": {},
   "source": [
    "<a id='Aufgabe_Graphen'></a>\n",
    "### Graphen\n",
    "1. Erstellen Sie den gegebenen Graphen   \n",
    "2. Entwerfen Sie einen Algorithmus, der den kürzesten Weg findet, der alle Knoten ausgehend von v0 miteinander verbindet. Nutzen Sie Rekursion und Backtracking.   \n",
    "\n",
    "|               |  v<sub>0</sub>  |  v<sub>1</sub>  |  v<sub>2</sub> |  v<sub>3</sub> |\n",
    "|:-------------:|:---------------:|:---------------:|:--------------:|:--------------:|\n",
    "| v<sub>0</sub> |                 | 2.75            | 3.1            | 3.6            |\n",
    "| v<sub>1</sub> | 2.75            |                 |  1             |  2             |\n",
    "| v<sub>2</sub> |  3.1            |   1             |                |  3             |\n",
    "| v<sub>3</sub> |  3.6            |   2             |  3             |                |\n",
    "\n",
    "[zur Lösung](#Lösung_Graph)"
   ]
  },
  {
   "cell_type": "markdown",
   "metadata": {},
   "source": [
    "## Lösungen"
   ]
  },
  {
   "cell_type": "markdown",
   "metadata": {},
   "source": [
    "<a id='Lösung_Graph'></a>\n",
    "1. Erstellen Sie den gegebenen Graphen    \n",
    "![Lösung](Bilder/10_Backtracking/Backtracking_Graph.PNG)\n",
    "\n",
    "2. Entwerfen Sie einen Algorithmus, der den kürzesten Weg findet, der alle Knoten ausgehend von v0 miteinander verbindet. Nutzen Sie Rekursion und Backtracking.   \n",
    "Die Idee:   \n",
    "    * Wähle zuerst nearest Neighbour.   \n",
    "    * Bisheriger Pfad ist nicht länger als bisher gefundenes Optimum?   \n",
    "    Gehe zu nächstem Punkt, streiche Punkt aus Liste der verfügbaren Punkte.\n",
    "    * Keine Punkte mehr verfügbar?   \n",
    "    Speichere Lösung; Gehe zurück und wähle nächsten verfügbaren Punkt.    \n",
    "    \n",
    "So könnte das implementiert aussehen: (Achtung nur pseudocode-mäßig, keine komplette Implementierung!)\n",
    "```python\n",
    "def nearest_neighbours(j):\n",
    "  \"\"\"returns sorted array of nearest adjacent\"\"\" \n",
    "  return k[]\n",
    "\n",
    "def deg(i):\n",
    "  \"\"\"returns number of remaining adjacent vertices in List\"\"\"\n",
    "  return deg\n",
    "\n",
    "def algorithm(List, path):\n",
    "    \"\"\"Backtracking algorithm\"\"\"\n",
    "  if pathlength(path) > global_pathlength:\n",
    "    #Solution is worse than former one --> Backtrack\n",
    "  if deg(path[end]) == 0:\n",
    "    #Save solution if pathlength(path) < global_pathlength; Backtrack\n",
    "  if deg(path[end]) > 0:\n",
    "    List_reduced = List.delete(path[end])\n",
    "    k = nearest_neighbours(path[end])\n",
    "    foreach i in k:\n",
    "      path.append(k)\n",
    "      algorithm(List_reduced, path)\n",
    "    if length(path)==1:\n",
    "      print(global_solution, global_pathlength)\n",
    "```\n",
    "\n",
    "[zurück zur Aufgabe](#Aufgabe_Graphen)"
   ]
  }
 ],
 "metadata": {
  "kernelspec": {
   "display_name": "Python 3",
   "language": "python",
   "name": "python3"
  },
  "language_info": {
   "codemirror_mode": {
    "name": "ipython",
    "version": 3
   },
   "file_extension": ".py",
   "mimetype": "text/x-python",
   "name": "python",
   "nbconvert_exporter": "python",
   "pygments_lexer": "ipython3",
   "version": "3.7.6"
  }
 },
 "nbformat": 4,
 "nbformat_minor": 4
}
