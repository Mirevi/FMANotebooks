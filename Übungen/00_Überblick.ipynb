{
 "cells": [
  {
   "cell_type": "markdown",
   "metadata": {},
   "source": [
    "<img src=\"Bilder/MIREVIBanner.jpg\">\n",
    "\n",
    "# FMA Übungen - Überblick \n",
    "\n",
    "## Übungen:\n",
    "\n",
    "* [01 Knobelaufgaben](01_Knobelaufgaben.ipynb)\n",
    "* [02 Induktionsbeweise](02_Induktionsbeweise.ipynb)\n",
    "* [03 Funktionale Spezifikation](03_FunktionaleSpezifikation.ipynb)\n",
    "* [04 Aufwand](04_Aufwand.ipynb)\n",
    "* [05 Abstrakte Datentypen](05_AbstrakteDatentypen.ipynb)\n",
    "* [06 Einfache Sortieralgorithmen](06_EinfacheSortieralgortihmen.ipynb)\n",
    "* [07 Komplexe Sortieralgorithmen](07_KomplexeSortieralgortihmen.ipynb)\n",
    "* [08 Hashing und Heaps](08_HashingUndHeaps.ipynb)\n",
    "\n",
    "---\n",
    "## Informationen\n",
    "\n",
    "Dieses Semester wird die FMA Übung zum ersten Mal Online abgehalten. Falls mal etwas nicht auf Anhieb funktioniert, habt bitte etwas Nachsicht mit uns.\n",
    "\n"
   ]
  },
  {
   "cell_type": "markdown",
   "metadata": {},
   "source": [
    "### Die Tutoren\n",
    "\n",
    "Dieses Semester betreuen euch **Sarah von Styp Rekowski** und **Katja Wallner**. Wir sind beide wissenschaftliche Hilfsräfte, die im Team von Prof. Chris Geiger arbeiten, und die den Master Medieninformatik studieren.\n",
    "\n",
    "Erreichbar sind wir über meinFbm und Moodle s. [Foren in Moodle](#Foren)."
   ]
  },
  {
   "cell_type": "markdown",
   "metadata": {},
   "source": [
    "### Übungsablauf\n",
    "\n",
    "Jede Woche Mittwoch wird eine Übung veröffentlicht. Diese behandelt die Themen der letzten Vorlesung und ist eine gute Vorbereitung aber keine Vorraussetzung für die Klausur. Die Übung ist eigenständig zu bearbeiten und zu kontrollieren.\n",
    "\n",
    "Fragen können im Forum in Moodle gestellt werden und werden zeitnah beantwortet."
   ]
  },
  {
   "cell_type": "markdown",
   "metadata": {},
   "source": [
    "<a id='Foren' ></a>\n",
    "### Foren in Moodle\n",
    "\n",
    "Auf Moodle findet ihr jeweils ein Forum für die Vorlesung und eins für die Übung. Für jede Übung wird ein eigenes Thema von uns eröffnet, in dem ihr dann spezifische Fragen stellen könnt. Bitte lest auch die Fragen der anderen Kursteilnehmer durch, vielleicht wurde eure Frage ja schon einmal gestellt."
   ]
  },
  {
   "cell_type": "markdown",
   "metadata": {},
   "source": [
    "### Bonuspunkte für die Klausur\n",
    "\n",
    "Auch dieses Semester ist es möglich sich Bonuspunkte für die Klausur zu verdienen. Dafür wird ab dem 05.05. ca. alle 2 1/2 Wochen ein Aufgabenblatt hochgeladen. Insgesamt wird es vorraussichtlich **fünf** Aufgabenblätter geben.\n",
    "\n",
    "Die Aufgabenblätter werden zum einen schriftlich zu bearbeitende klausurähnliche Aufgaben und zum anderen Programmieraufgaben enthalten. Die Programmieraufgaben sind in Python zu programmieren, jeder Einzelschritt ist in den Kommentaren zu erklären, damit wir eure Lösungen gut nachvollziehen können (Für uns ist nichts selbsterklärend). Natürlich sollte das Programm fehlerfrei laufen.\n",
    "Hier ein Codebeispiel für ausführlich kommentierten Code:"
   ]
  },
  {
   "cell_type": "code",
   "execution_count": 1,
   "metadata": {
    "scrolled": true
   },
   "outputs": [
    {
     "name": "stdout",
     "output_type": "stream",
     "text": [
      "Hello Jack\n",
      "Hello Jill\n",
      "Hello Bob\n"
     ]
    }
   ],
   "source": [
    "# Methodendefinition für eine Methode, die die angegebende Person grüßt\n",
    "def greet(name):\n",
    "    print ('Hello', name) #Gibt den angegebenen String aus\n",
    "\n",
    "greet('Jack') # Diese Zeile gibt Hello Jack aus\n",
    "greet('Jill') # Diese Zeile gibt Hello Jill aus\n",
    "greet('Bob') # Diese Zeile gibt Hello Bob aus"
   ]
  },
  {
   "cell_type": "markdown",
   "metadata": {},
   "source": [
    "Um Bonuspunkte zu erhalten, müssen nicht alle Aufgabenblätter vollständig gelöst sein, für jede Aufgabe werden einzeln Punkte vergeben.\n",
    "\n",
    "Die Aufgaben sind in 3er Teams zu bearbeiten und abzugeben. Bitte findet euch zu Gruppen zusammen und bleibt auch in diesen Gruppen über das Semester. Wenn ihr Schwierigkeiten habt, eine Gruppe zu finden, haben wir für euch ein Thema in den Foren erstellt,  wo ihr nach Gruppenpartnern suchen könnt. **Jeder** der Gruppe gibt die gemeinsam bearbeitete Aufgabe auf Moodle in den dafür vorgesehenen Ordner ab. **Bitte schreibt** ***ganz oben*** **auf eure Abgabe die Namen und Matrikelnummern von euch und euren Gruppenmitgliedern.**\n",
    "\n",
    "Erkennen wir, dass Gruppen exakt das gleiche abgegeben haben, also ein Plagiat vorliegt, bekommt keine dieser Gruppen Punkte für dieses Aufgabenblatt. Eine erneute Abgabe ist nicht möglich.\n",
    "\n",
    "Für die Aufgabenblätter habt ihr immer zwei Wochen Zeit, den Endtermin für die jeweilige Aufgabe geben wir aber auch immer in der Aufgabenstellung mit an. Eure Abgaben bewerten wir so schnell wie möglich, vermerken eure Punkte und teilen sie euch anschließend auf Moodle mit."
   ]
  }
 ],
 "metadata": {
  "kernelspec": {
   "display_name": "Python 3",
   "language": "python",
   "name": "python3"
  },
  "language_info": {
   "codemirror_mode": {
    "name": "ipython",
    "version": 3
   },
   "file_extension": ".py",
   "mimetype": "text/x-python",
   "name": "python",
   "nbconvert_exporter": "python",
   "pygments_lexer": "ipython3",
   "version": "3.7.6"
  }
 },
 "nbformat": 4,
 "nbformat_minor": 4
}
