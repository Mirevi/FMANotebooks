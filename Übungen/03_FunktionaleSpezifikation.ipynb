{
 "cells": [
  {
   "cell_type": "markdown",
   "metadata": {},
   "source": [
    "[<img src=\"Bilder/MIREVIBanner.jpg\">](00_Überblick.ipynb)\n",
    "\n",
    "# FMA Übungen\n",
    "## Funktionale Spezifikation\n",
    "In dieser Übung beschäftigen wir uns mit dem Thema der Funktionalen Spezifikation.\n",
    "\n",
    "Was ist das und warum brauche ich das?    \n",
    "Die Funktionale Spezifikation hilft dabei, ein Problem genauer zu beschreiben und so eine Lösung für dieses Problem zu finden. Dabei betrachtet es drei Dinge: Welche Werte haben wir am Anfang? Was wollen wir am Ende eigentlich herausfinden? Und wie kommen wir dahin?\n",
    "\n",
    "### Aufbau\n",
    "Eine Funktionale Spezifikation besteht aus drei Teilen    \n",
    "**Eingabe**    \n",
    "Welche Variablen geben wir in den Algorithmus ein? Welches Format müssen sie haben?    \n",
    "(Zu vergleichen mit der Parametereingabe einer Funktion)    \n",
    "**Ausgabe**    \n",
    "Welche Varaible(n) erwarten wir vom Algorithmus zurück? In welchem Format soll diese sein?    \n",
    "(Zu vergleichen mit dem Rückgabewert einer Funktion)   \n",
    "**Funktionaler Zusammenhang**   \n",
    "Wie kommt man von der Eingabe auf die Ausgabe?      \n",
    "(Zu vergleichen mit dem Body einer Funktion)    \n",
    "\n",
    "Anmerkung für die Klausur     \n",
    "Es gibt auch Teilpunkte. D.h. selbst wenn ihr euch bei der Aufgabe nicht sicher seit, wie der Funktionale Zusammenhang zwischen der EIngabe und der Ausgabe ist, schreibt wenigstens die beiden Sachen (Eingabe, Ausgabe) hin anstatt gar nichts zu machen!"
   ]
  },
  {
   "cell_type": "markdown",
   "metadata": {},
   "source": [
    "<a id='Aufgabe_Dreieckszahl'></a>\n",
    "### Dreieckszahlen\n",
    "Eine Dreieckszahl ist eine natürliche Zahl, die der Summe aller Zahlen von 1 bis zu einer Obergrenze n entspricht.  \n",
    "\n",
    "Beispiel für n=4:  \n",
    "1 + 2 + 3 + 4 = 10   \n",
    "\n",
    "Bestimmen Sie die Funktionale Spezifikation für Dreieickszahlen.\n",
    "\n",
    "[zur Lösung](#Lösung_Dreieckszahl)"
   ]
  },
  {
   "cell_type": "markdown",
   "metadata": {},
   "source": [
    "<a id='Aufgabe_abundanteZahl'></a>\n",
    "### Abundante Zahlen\n",
    "Eine natürliche Zahl heißt abundant (lat. abundans „überladen“), wenn ihre echte Teilersumme (die Summe aller Teiler, ohne die Zahl selbst) größer ist als die Zahl selbst.\n",
    "\n",
    "Beispiel für die Zahl 12:    \n",
    "1+2+3+4+6 = 16 > 12\n",
    "\n",
    "Bestimmen Sie die Funktionale Spezifikation für abundante Zahlen.\n",
    "\n",
    "[zur Lösung](#Lösung_abundanteZahl)"
   ]
  },
  {
   "cell_type": "markdown",
   "metadata": {},
   "source": [
    "<a id='Aufgabe_befreundeteZahl'></a>\n",
    "### Befreundete Zahlen\n",
    "Zwei verschiedene natürliche Zahlen, von denen wechselseitig jeweils eine Zahl gleich der Summe der echten Teiler der anderen Zahl ist, bilden ein Paar befreundeter Zahlen.   \n",
    "\n",
    "Beispiel:      \n",
    "Die Summe der echten Teiler von 220: 1 + 2 + 4 + 5 + 10 + 11 + 20 + 22 + 44 + 55 + 110 = 284   \n",
    "Die Summe der echten Teiler von 284: 1 + 2 + 4 + 71 + 142 = 220.\n",
    "\n",
    "Bestimmen Sie die Funktionale Spezifikation für befrreundete Zahlen.\n",
    "\n",
    "[zur Lösung](#Lösung_befreundeteZahl)"
   ]
  },
  {
   "cell_type": "markdown",
   "metadata": {},
   "source": [
    "<a id='Aufgabe_perfekteZahl'></a>\n",
    "### Perfekte Zahlen\n",
    "Eine natürliche Zahl n ist perfekt, wenn Sie die Summe ihrer echten Teiler ohne sich selbst ist.   \n",
    "\n",
    "Beispiele (die ersten 10 perfekten Zahlen):   \n",
    "1+2+3 = 6   \n",
    "1+2+4+7+14 = 28   \n",
    "1+2+4+8+16+31+62+124+248 = 496   \n",
    "1+2+4+8+16+32+64+127+254+508+1016+2032+4064 = 8.128    \n",
    "33.550.336   \n",
    "8.589.869.056   \n",
    "137.438.691.328   \n",
    "2.305.843.008.139.952.128   \n",
    "2.658.455.991.569.831.744.654.692.615.953.842.176   \n",
    "191.561.942.608.236.107.294.793.378.084.303.638.130.997.321.548.169.216\n",
    "\n",
    "Bestimmen Sie die Funktionale Spezifikation für perfekte Zahlen.\n",
    "\n",
    "[zur Lösung](#Lösung_perfekteZahl)"
   ]
  },
  {
   "cell_type": "markdown",
   "metadata": {},
   "source": [
    "<a id='Aufgabe_kgV'></a>\n",
    "### Kleinstes gemeinsames Vielfaches\n",
    "Das kleinste gemeinsame Vielfache zweier ganzer Zahlen ist die kleinste positive natürliche Zahl, die ein Vielfaches dieser beider Zahlen ist.\n",
    "\n",
    "Beispiel:   \n",
    "kgV(4, 6) = 12\n",
    "\n",
    "Bestimmen Sie die Funktionale Spezifikation für kleinste gemeinsame Vielfache.\n",
    "\n",
    "[zur Lösung](#Lösung_kgV)"
   ]
  },
  {
   "cell_type": "markdown",
   "metadata": {},
   "source": [
    "## Lösungen"
   ]
  },
  {
   "cell_type": "markdown",
   "metadata": {},
   "source": [
    "<a id='Lösung_Dreieckszahl'></a>\n",
    "### Dreieckszahlen\n",
    "**Eingabe:**   \n",
    "a∈ℕ    \n",
    "**Ausgabe:**    \n",
    "boolean true/false    \n",
    "**Funktionaler Zusammenhang:**    \n",
    "∃n: n∈ℕ, a=∑i, i∈ℕ, i≤n\n",
    "\n",
    "[zurück zur Aufgabe](#Aufgabe_Dreieckszahl)"
   ]
  },
  {
   "cell_type": "markdown",
   "metadata": {},
   "source": [
    "<a id='Lösung_abundanteZahl'></a>\n",
    "### Abundante Zahlen\n",
    "**Eingabe:**   \n",
    "n∈ℕ    \n",
    "**Ausgabe:**   \n",
    "boolean true/false   \n",
    "**Funktionaler Zusammenhang:**    \n",
    "∃n: n<∑i , für n mod i = 0, i∈ℕ, i<n\n",
    "                                     \n",
    "[zurück zur Aufgabe](#Aufgabe_abundanteZahl)"
   ]
  },
  {
   "cell_type": "markdown",
   "metadata": {},
   "source": [
    "<a id='Lösung_befreundeteZahl'></a>\n",
    "### Befreundete Zahlen\n",
    "**Eingabe:**    \n",
    "a,b ∈ ℕ   \n",
    "**Ausgabe:**   \n",
    "boolean true/false   \n",
    "**Funktionaler Zusammenhang:**    \n",
    "<font color=#bf0040>a</font> = <font color=#859900>∑ i</font> wobei gilt <font color=#008080>b mod i = 0</font>, i∈ℕ, i<b    \n",
    "<font color=#bf0040>b</font> = <font color=#859900>∑ j</font> wobei gilt <font color=#008080>a mod j = 0</font>, j∈ℕ, j<a    \n",
    "<font color=#859900>*Die Summe*</font> <font color=#008080>*der Teiler von a/b*</font> <font color=#bf0040>*ergibt b/a*</font>\n",
    "\n",
    "[zurück zur Aufgabe](#Aufgabe_befreundeteZahl)"
   ]
  },
  {
   "cell_type": "markdown",
   "metadata": {},
   "source": [
    "<a id='Lösung_perfekteZahl'></a>\n",
    "### Perfekte Zahlen\n",
    "**Eingabe:**   \n",
    "n∈ℕ    \n",
    "**Ausgabe:**   \n",
    "boolean true/false   \n",
    "**Funktionaler Zusammenhang:**   \n",
    "n = ∑ i , für n mod i = 0, i∈ℕ1 < n\n",
    "\n",
    "[zurück zur Aufgabe](#Aufgabe_perfekteZahl)"
   ]
  },
  {
   "cell_type": "markdown",
   "metadata": {},
   "source": [
    "<a id='Lösung_kgV'></a>\n",
    "### Kleinstes gemeinsames Vielfaches\n",
    "**Eingabe:**    \n",
    "a,b ∈ ℕ    \n",
    "**Ausgabe:**    \n",
    "c ∈ ℕ    \n",
    "**Funktionaler Zusammenhang:**    \n",
    "c mod a = 0, c mod b = 0,   \n",
    "∀ d∈ℕ mit d mod a = 0 und d mod b = 0 gilt d≥c\n",
    "\n",
    "[zurück zur Aufgabe](#Aufgabe_kgV)"
   ]
  }
 ],
 "metadata": {
  "kernelspec": {
   "display_name": "Python 3",
   "language": "python",
   "name": "python3"
  },
  "language_info": {
   "codemirror_mode": {
    "name": "ipython",
    "version": 3
   },
   "file_extension": ".py",
   "mimetype": "text/x-python",
   "name": "python",
   "nbconvert_exporter": "python",
   "pygments_lexer": "ipython3",
   "version": "3.7.6"
  }
 },
 "nbformat": 4,
 "nbformat_minor": 4
}
