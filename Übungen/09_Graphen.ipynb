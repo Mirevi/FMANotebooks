{
 "cells": [
  {
   "cell_type": "markdown",
   "metadata": {},
   "source": [
    "[<img src=\"Bilder/MIREVIBanner.jpg\">](00_Überblick.ipynb)\n",
    "\n",
    "# FMA Übung\n",
    "## Graphen\n",
    "Diese Übung befasst sich mit dem Thema Graphen.\n",
    "\n",
    "Was ist das und wofür brauch ich das?\n",
    "Graphen werden in vielen Bereichen der Informatik angewendet. Sie bieten eine abstrakte und überschaubare Möglichkeit Objekte und ihre Verbindungen untereinander darzustellen."
   ]
  },
  {
   "cell_type": "markdown",
   "metadata": {},
   "source": [
    "<a id='Aufgabe_Hierholzer'></a>\n",
    "### Hierholzer Algorithmus\n",
    "Gegeben ist folgender Graph. Wenden Sie den Hierholzer Algorithmus an, um festzustellen, ob eine Eulertour existiert.\n",
    "![Hierholzer Algorithmus](Bilder/09_Graphen/Hierholzer/HierholzerAlgorithmus.PNG)\n",
    "\n",
    "[zur Lösung](#Lösung_Hierholzer)"
   ]
  },
  {
   "cell_type": "markdown",
   "metadata": {},
   "source": [
    "<a id='Aufgabe_Darstellung'></a>\n",
    "### Darstellung\n",
    "Gegeben ist folgendes soziales Netzwerk der Personen Antonia(w), Berta(w), Klaus(m),\n",
    "Dirk(m), Egon(m), Frida(w), Günther(m), Xaver(m) und Zenia(w). Dabei kennen sich folgende Personen gegenseitig:    \n",
    "* Antonia kennt Berta und Dirk\n",
    "* Berta kennt Klaus und Frida\n",
    "* Klaus kennt Egon und Zenia\n",
    "* Dirk kennt alle Männer außer Günther\n",
    "* Günther ist niemandem bekannt außer Antonia\n",
    "\n",
    "Stellen Sie die Beziehungen wie folgt dar:\n",
    "1. abstrakt \n",
    "2. als ungerichteter Graph\n",
    "3. als Adjazenzmatrix\n",
    "4. als Adjazenzliste \n",
    "\n",
    "[zur Lösung](#Lösung_Darstellung)"
   ]
  },
  {
   "cell_type": "markdown",
   "metadata": {},
   "source": [
    "<a id='Aufgabe_AbstrakteDarstellung'></a>\n",
    "### Abstrakte Darstellung\n",
    "G<sub>1</sub> = ({V<sub>1</sub>:= {v<sub>0</sub> , … , v<sub>n-1</sub>} | n ≥ 4 , n mod 2 = 0}, \n",
    "          {E<sub>1</sub>:= {v<sub>i</sub>, v<sub>i mod 2</sub>} | 2 ≤ i ≤ n-1}\n",
    "         )\n",
    "\n",
    "G<sub>2</sub> = ({V<sub>2</sub>:= {v<sub>0</sub> , … , v<sub>n-1</sub>} | n ≥ 2 , n mod 4 = 0}, \n",
    "          {E<sub>2</sub>:= {v<sub>i</sub>, v<sub>j</sub>} | i,j ∈ ℕ<sub>0</sub>: i mod 2 = 0,  j mod 2 = 1}\n",
    "         )\n",
    "         \n",
    "Zeichnen Sie die Graphen G<sub>1</sub>(V, E) für n=10 und G<sub>2</sub>(V, E) für n=8.    \n",
    "Beantworten Sie jeweils für G<sub>1</sub> und G<sub>2</sub>:\n",
    "1. Ist der Graph zusammenhängend?\n",
    "2. Welchen Knotengrad deg(v) haben die einzelnen Knoten allgemein?\n",
    "3. Existiert eine Eulertour?\n",
    "4. Wie viele Kanten |E| hat der Graph allgemein?\n",
    "\n",
    "[zur Lösung](#Lösung_AbstrakteDarstellung)"
   ]
  },
  {
   "cell_type": "markdown",
   "metadata": {},
   "source": [
    "<a id='Aufgabe_Breitensuche'></a>\n",
    "### Breitensuche\n",
    "Suchen Sie mit Hilfe der Breitensuche in diesem Graph von dem roten Punkt aus den pinken Punkt. Laufreihenfolge ist von unten gegen den Uhrzeigersinn.     \n",
    "![Breitensuche](Bilder/09_Graphen/Breitensuche/Breitensuche.PNG)\n",
    "\n",
    "[zur Lösung](#Lösung_Breitensuche)"
   ]
  },
  {
   "cell_type": "markdown",
   "metadata": {},
   "source": [
    "<a id='Aufgabe_Tiefensuche'></a>\n",
    "### Tiefensuche  \n",
    "Suchen Sie mit Hilfe der Tiefensuche in diesem Graph von dem roten Punkt aus den pinken Punkt. Laufreihenfolge ist von unten gegen den Uhrzeigersinn.     \n",
    "![Tiefensuche](Bilder/09_Graphen/Tiefensuche/Tiefensuche.PNG)\n",
    "\n",
    "[zur Lösung](#Lösung_Tiefensuche)"
   ]
  },
  {
   "cell_type": "markdown",
   "metadata": {},
   "source": [
    "<a id='Aufgabe_Dijkstra'></a>\n",
    "### Dijkstra\n",
    "1. Zeichnen Sie den in der Adjazenzmatrix beschriebenen Graphen.     \n",
    "2. Führen Sie den Dijkstra-Algorithmus für den Punkt a aus.  \n",
    "\n",
    "|   | a | b | c | d | e | f |\n",
    "|:-:|:-:|:-:|:-:|:-:|:-:|:-:|\n",
    "| a |   | 2 | 3 | 1 | 3 |   |\n",
    "| b | 2 |   | 4 |   |   |   |\n",
    "| c | 3 |   |   |   | 6 | 3 |\n",
    "| d | 1 | 4 |   |   | 1 | 9 |\n",
    "| e | 3 |   | 6 | 1 |   | 3 |\n",
    "| f |   |   | 3 | 9 | 3 |   |\n",
    "\n",
    "[zur Lösung](#Lösung_Dijkstra)"
   ]
  },
  {
   "cell_type": "markdown",
   "metadata": {},
   "source": [
    "<a id='Aufgabe_AStern'></a>\n",
    "### A* Algorithmus\n",
    "1. Zeichnen Sie den in der Adjazenzliste beschriebenen Graphen.\n",
    "2. Suchen Sie mit Hilfe des A*-Algorithmus den schnellsten Weg von A nach G. Verwenden Sie die angegebene Heuristik und dokumentieren Sie jeden Schritt.    \n",
    "\n",
    "A | B (3), C (4)   \n",
    "B | A (3), D (3), E (4)   \n",
    "C | A (4), E (3), F (3)   \n",
    "D | B (3), E (2), G (4)   \n",
    "E | B (4), C (3), D (2), F (2)   \n",
    "F | C (3), E (2), G (5)   \n",
    "G | D (4), F (5)   \n",
    "\n",
    "|   Punkt   | A | B | C | D | E | F | G |\n",
    "|:---------:|:-:|:-:|:-:|:-:|:-:|:-:|:-:|\n",
    "| Heuristik | 9 | 7 | 5 | 4 | 2 | 2 | 0 |\n",
    "\n",
    "[zur Lösung](#Lösung_AStern)"
   ]
  },
  {
   "cell_type": "markdown",
   "metadata": {},
   "source": [
    "## Lösungen"
   ]
  },
  {
   "cell_type": "markdown",
   "metadata": {},
   "source": [
    "<a id='Lösung_Hierholzer'></a>\n",
    "### Hierholzer Algorithmus\n",
    "Das ist eine der möglichen Lösungen    \n",
    "![Hierholzer Algorithmus L1](Bilder/09_Graphen/Hierholzer/HierholzerAlgorithmus_L1.PNG)    \n",
    "![Hierholzer Algorithmus L2](Bilder/09_Graphen/Hierholzer/HierholzerAlgorithmus_L2.PNG)    \n",
    "![Hierholzer Algorithmus L3](Bilder/09_Graphen/Hierholzer/HierholzerAlgorithmus_L3.PNG)     \n",
    "![Hierholzer Algorithmus Lösung](Bilder/09_Graphen/Hierholzer/HierholzerAlgorithmus_Lösung.PNG)\n",
    "\n",
    "[zurück zur Aufgabe](#Aufgabe_Hierholzer)"
   ]
  },
  {
   "cell_type": "markdown",
   "metadata": {},
   "source": [
    "<a id='Lösung_Darstellung'></a>\n",
    "### Darstellung\n",
    "1. abstrakt    \n",
    "G = (V = {A, B, K, D, E, F, G, X, Z}, E = {{A,B}, {A,D}, {A,G}, {B,K}, {B,F}, {K,D}, {K,E}, {K,Z}, {D,E}, {D,X}})\n",
    "\n",
    " \n",
    "2. als ungerichteter Graph    \n",
    "![ungerichteter Graph](Bilder/09_Graphen/ungerichteterGraph.PNG)\n",
    "\n",
    "\n",
    "3. als Adjazenzmatrix     \n",
    "\n",
    "|   | A | B | K | D | E | F | G | X | Z |\n",
    "|:-:|:-:|:-:|:-:|:-:|:-:|:-:|:-:|:-:|:-:|\n",
    "| A |   | ✓ |   | ✓ |   |   | ✓ |   |   |\n",
    "| B | ✓ |   | ✓ |   |   | ✓ |   |   |   |\n",
    "| K |   | ✓ |   | ✓ | ✓ |   |   |   | ✓ |\n",
    "| D | ✓ |   | ✓ |   | ✓ |   |   | ✓ |   |\n",
    "| E |   |   | ✓ | ✓ |   |   |   |   |   |\n",
    "| F |   | ✓ |   |   |   |   |   |   |   |\n",
    "| G | ✓ |   |   |   |   |   |   |   |   |\n",
    "| X |   |   |   | ✓ |   |   |   |   |   |\n",
    "| Z |   |   | ✓ |   |   |   |   |   |   |\n",
    "\n",
    "\n",
    "4. als Adjazenzliste    \n",
    "A | B, D, G   \n",
    "B | A, K, F   \n",
    "K | B, D, E, Z   \n",
    "D | A, K, E, X   \n",
    "E | K, D   \n",
    "F | B   \n",
    "G | A   \n",
    "X | D    \n",
    "Z | K\n",
    "\n",
    "[zurück zur Aufgabe](#Aufgabe_Darstellung)"
   ]
  },
  {
   "cell_type": "markdown",
   "metadata": {},
   "source": [
    "<a id='Lösung_AbstrakteDarstellung'></a>\n",
    "### Abstrakte Darstellung\n",
    "**G<sub>1</sub>**    \n",
    "![Lösung G1](Bilder/09_Graphen/Darstellung_Graph1.PNG)   \n",
    "1. Ist der Graph zusammenhängend?    \n",
    "Nein.   \n",
    "2. Welchen Knotengrad deg(v) haben die einzelnen Knoten allgemein?   \n",
    "deg(v<sub>0</sub>,v<sub>1</sub>) = (n-2)/2   \n",
    "deg(v<sub>2</sub>,...,v<sub>n-1</sub>) = 1    \n",
    "3. Existiert eine Eulertour?    \n",
    "Nein.    \n",
    "4. Wie viele Kanten |E| hat der Graph allgemein?    \n",
    "|E<sub>G1</sub>| =  n - 2\n",
    "\n",
    "**G<sub>2</sub>**    \n",
    "![Lösung G2](Bilder/09_Graphen/Darstellung_Graph2.PNG)    \n",
    "1. Ist der Graph zusammenhängend?   \n",
    "Ja. (Vollständiger bipartiter Graph)   \n",
    "2. Welchen Knotengrad deg(v) haben die einzelnen Knoten allgemein?   \n",
    "deg(v) = n/2\n",
    "3. Existiert eine Eulertour?   \n",
    "Ja.   \n",
    "Da n mod 4=0 gilt, ist deg(v)=n/2 ein Vielfaches von 2 und somit stets gerade. Die Bedingung für eine Eulertour ist, dass es keine Knoten mit ungeradem Grad im Graphen geben darf und ist somit erfüllt.    \n",
    "4. Wie viele Kanten |E| hat der Graph allgemein?    \n",
    "|E<sub>G2</sub>| = n<sup>2</sup>/4\n",
    "\n",
    "[zurück zur Aufgabe](#Aufgabe_AbstrakteDarstellung)"
   ]
  },
  {
   "cell_type": "markdown",
   "metadata": {},
   "source": [
    "<a id='Lösung_Breitensuche'></a>\n",
    "### Breitensuche\n",
    "![Breitensuche Lösung](Bilder/09_Graphen/Breitensuche/Breitensuche_L1.PNG)\n",
    "![Breitensuche Lösung](Bilder/09_Graphen/Breitensuche/Breitensuche_L2.PNG)\n",
    "![Breitensuche Lösung](Bilder/09_Graphen/Breitensuche/Breitensuche_L3.PNG)\n",
    "![Breitensuche Lösung](Bilder/09_Graphen/Breitensuche/Breitensuche_L4.PNG)\n",
    "![Breitensuche Lösung](Bilder/09_Graphen/Breitensuche/Breitensuche_L5.PNG)\n",
    "![Breitensuche Lösung](Bilder/09_Graphen/Breitensuche/Breitensuche_L6.PNG)\n",
    "![Breitensuche Lösung](Bilder/09_Graphen/Breitensuche/Breitensuche_L7.PNG)\n",
    "![Breitensuche Lösung](Bilder/09_Graphen/Breitensuche/Breitensuche_L8.PNG)    \n",
    "\n",
    "Durch die Breitensuche entstandener Suchbaum:    \n",
    "![Breitensuche Suchbaum](Bilder/09_Graphen/Breitensuche/Breitensuche_Suchbaum.PNG)\n",
    "\n",
    "[zurück zur Aufgabe](#Aufgabe_Breitensuche)"
   ]
  },
  {
   "cell_type": "markdown",
   "metadata": {},
   "source": [
    "<a id='Lösung_Tiefensuche'></a>\n",
    "### Tiefensuche\n",
    "![Tiefensuche Lösung](Bilder/09_Graphen/Tiefensuche/Tiefensuche_L1.PNG)\n",
    "![Tiefensuche Lösung](Bilder/09_Graphen/Tiefensuche/Tiefensuche_L2.PNG)\n",
    "![Tiefensuche Lösung](Bilder/09_Graphen/Tiefensuche/Tiefensuche_L3.PNG)\n",
    "![Tiefensuche Lösung](Bilder/09_Graphen/Tiefensuche/Tiefensuche_L4.PNG)\n",
    "![Tiefensuche Lösung](Bilder/09_Graphen/Tiefensuche/Tiefensuche_L5.PNG)\n",
    "![Tiefensuche Lösung](Bilder/09_Graphen/Tiefensuche/Tiefensuche_L6.PNG)\n",
    "![Tiefensuche Lösung](Bilder/09_Graphen/Tiefensuche/Tiefensuche_L7.PNG)\n",
    "![Tiefensuche Lösung](Bilder/09_Graphen/Tiefensuche/Tiefensuche_L8.PNG)\n",
    "![Tiefensuche Lösung](Bilder/09_Graphen/Tiefensuche/Tiefensuche_L9.PNG)\n",
    "\n",
    "Durch die Tiefensuche entstandener Suchbaum:    \n",
    "![Tiefensuche Suchbaum](Bilder/09_Graphen/Tiefensuche/Tiefensuche_Suchbaum.PNG)\n",
    "\n",
    "[zurück zur Aufgabe](#Aufgabe_Tiefensuche)"
   ]
  },
  {
   "cell_type": "markdown",
   "metadata": {},
   "source": [
    "<a id='Lösung_Dijkstra'></a>\n",
    "### Dijkstra\n",
    "1. Zeichnen Sie den in der Adjazenzmatrix beschriebenen Graphen.    \n",
    "![Dijkstra Graph](Bilder/09_Graphen/Dijkstra/Dijkstra_Graph.PNG)\n",
    "\n",
    "2. Führen Sie den Dijkstra-Algorithmus für den Punkt a aus.    \n",
    "![Dijkstra Lösung](Bilder/09_Graphen/Dijkstra/Dijkstra_L1.PNG)\n",
    "![Dijkstra Lösung](Bilder/09_Graphen/Dijkstra/Dijkstra_L2.PNG)\n",
    "![Dijkstra Lösung](Bilder/09_Graphen/Dijkstra/Dijkstra_L3.PNG)\n",
    "![Dijkstra Lösung](Bilder/09_Graphen/Dijkstra/Dijkstra_L4.PNG)\n",
    "![Dijkstra Lösung](Bilder/09_Graphen/Dijkstra/Dijkstra_L5.PNG)\n",
    "![Dijkstra Lösung](Bilder/09_Graphen/Dijkstra/Dijkstra_L6.PNG)    \n",
    "Die kürzesten Wege von a zu allen anderen Knoten:    \n",
    "b: a - b = 2\t\t\n",
    "c: a - c = 3     \n",
    "d: a - d =1     \n",
    "e: a - d - e = 2    \n",
    "f: a - d - e - f = 5\n",
    "\n",
    "[zurück zur Aufgabe](#Aufgabe_Dijkstra)"
   ]
  },
  {
   "cell_type": "markdown",
   "metadata": {},
   "source": [
    "<a id='Lösung_AStern'></a>\n",
    "### A* Algorithmus\n",
    "1. Zeichnen Sie den in der Adjazenzliste beschriebenen Graphen.    \n",
    "![A-Stern Algorithmus Graph](Bilder/09_Graphen/AStern/AAlgorithmus_Graph.PNG)\n",
    "\n",
    "2. Suchen Sie mit Hilfe des A*-Algorithmus den schnellsten Weg von A nach G. Verwenden Sie die angegebene Heuristik und dokumentieren Sie jeden Schritt.    \n",
    "Merke: f(n) = g(n) + h(n)    \n",
    "![A-Stern Algorithmus Lösung](Bilder/09_Graphen/AStern/AAlgorithmus_L1.PNG)\n",
    "![A-Stern Algorithmus Lösung](Bilder/09_Graphen/AStern/AAlgorithmus_L2.PNG)\n",
    "![A-Stern Algorithmus Lösung](Bilder/09_Graphen/AStern/AAlgorithmus_L3.PNG)\n",
    "![A-Stern Algorithmus Lösung](Bilder/09_Graphen/AStern/AAlgorithmus_L4.PNG)\n",
    "![A-Stern Algorithmus Lösung](Bilder/09_Graphen/AStern/AAlgorithmus_L5.PNG)\n",
    "![A-Stern Algorithmus Lösung](Bilder/09_Graphen/AStern/AAlgorithmus_L6.PNG)\n",
    "![A-Stern Algorithmus Lösung](Bilder/09_Graphen/AStern/AAlgorithmus_L7.PNG)\n",
    "![A-Stern Algorithmus Lösung](Bilder/09_Graphen/AStern/AAlgorithmus_L8.PNG)      \n",
    "Weg: A - B - D - G = 10\n",
    "\n",
    "[zurück zur Aufgabe](#Aufgabe_AStern)"
   ]
  }
 ],
 "metadata": {
  "kernelspec": {
   "display_name": "Python 3",
   "language": "python",
   "name": "python3"
  },
  "language_info": {
   "codemirror_mode": {
    "name": "ipython",
    "version": 3
   },
   "file_extension": ".py",
   "mimetype": "text/x-python",
   "name": "python",
   "nbconvert_exporter": "python",
   "pygments_lexer": "ipython3",
   "version": "3.7.6"
  }
 },
 "nbformat": 4,
 "nbformat_minor": 4
}
