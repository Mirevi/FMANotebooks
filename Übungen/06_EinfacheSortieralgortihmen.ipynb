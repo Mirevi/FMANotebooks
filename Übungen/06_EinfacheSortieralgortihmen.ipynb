{
 "cells": [
  {
   "cell_type": "code",
   "execution_count": 1,
   "metadata": {},
   "outputs": [
    {
     "data": {
      "text/html": [
       "<script>\n",
       "code_show=true; \n",
       "function code_toggle() {\n",
       "  if (code_show) {\n",
       "    $('div.input').each(function(id) {\n",
       "      el = $(this).find('.cm-variable:first');\n",
       "      if (id == 0 || el.text() == 'hide_me') {\n",
       "        $(this).hide();\n",
       "      }\n",
       "    });\n",
       "    $('div.output_prompt').css('opacity', 0);\n",
       "  } else {\n",
       "    $('div.input').each(function(id) {\n",
       "      $(this).show();\n",
       "    });\n",
       "    $('div.output_prompt').css('opacity', 1);\n",
       "  }\n",
       "  code_show = !code_show\n",
       "} \n",
       "$( document ).ready(code_toggle);\n",
       "</script>\n",
       "<form action=\"javascript:code_toggle()\"><input style=\"opacity:0\" type=\"submit\" value=\"Click here to toggle on/off the raw code.\"></form>"
      ],
      "text/plain": [
       "<IPython.core.display.HTML object>"
      ]
     },
     "execution_count": 1,
     "metadata": {},
     "output_type": "execute_result"
    }
   ],
   "source": [
    "# This is a cell to hide code snippets from displaying\n",
    "# This must be at first cell!\n",
    "\n",
    "from IPython.display import HTML\n",
    "\n",
    "hide_me = ''\n",
    "HTML('''<script>\n",
    "code_show=true; \n",
    "function code_toggle() {\n",
    "  if (code_show) {\n",
    "    $('div.input').each(function(id) {\n",
    "      el = $(this).find('.cm-variable:first');\n",
    "      if (id == 0 || el.text() == 'hide_me') {\n",
    "        $(this).hide();\n",
    "      }\n",
    "    });\n",
    "    $('div.output_prompt').css('opacity', 0);\n",
    "  } else {\n",
    "    $('div.input').each(function(id) {\n",
    "      $(this).show();\n",
    "    });\n",
    "    $('div.output_prompt').css('opacity', 1);\n",
    "  }\n",
    "  code_show = !code_show\n",
    "} \n",
    "$( document ).ready(code_toggle);\n",
    "</script>\n",
    "<form action=\"javascript:code_toggle()\"><input style=\"opacity:0\" type=\"submit\" value=\"Click here to toggle on/off the raw code.\"></form>''')"
   ]
  },
  {
   "cell_type": "code",
   "execution_count": 19,
   "metadata": {},
   "outputs": [],
   "source": [
    "hide_me\n",
    "import ipywidgets as widgets\n",
    "from IPython.display import display"
   ]
  },
  {
   "cell_type": "markdown",
   "metadata": {},
   "source": [
    "[<img src=\"Bilder/MIREVIBanner.jpg\">](00_Überblick.ipynb)\n",
    "\n",
    "# FMA Übungen\n",
    "## Einfache Sortieralgorithmen\n",
    "Diese Übung beschäftigt sich mit dem Thema Sortieralgorithmen.\n",
    "\n",
    "Was ist das und wofür brauche ich das?   \n",
    "Wie der Name schon sagt, hilft ein Sortieralgorithmus dabei, Datensätze zu sortieren. "
   ]
  },
  {
   "cell_type": "markdown",
   "metadata": {},
   "source": [
    "<a id='Aufgabe_???Sort1'></a>\n",
    "### ???-Sort\n",
    "1. Welcher Sortieralgorithmus wird bei dem folgenden Array angewendet? \n",
    "2. Programmieren Sie den besagten Sortieralgorithmus. \n",
    "3. Zeigen Sie anhand des Beispiels, dass Ihr Code richtig arbeitet.    \n",
    "1 | 5 | 8 | 2 | 7 | 4   \n",
    "1 | 5 | 8 | 2 | 7 | 4    \n",
    "1 | 5 | 8 | 8 | 7 | 4    \n",
    "1 | 5 | 5 | 8 | 7 | 4    \n",
    "1 | 2 | 5 | 8 | 7 | 4    \n",
    "1 | 2 | 5 | 8 | 8 | 4    \n",
    "1 | 2 | 5 | 7 | 8 | 4    \n",
    "1 | 2 | 5 | 7 | 8 | 8   \n",
    "1 | 2 | 5 | 7 | 7 | 8   \n",
    "1 | 2 | 5 | 5 | 7 | 8   \n",
    "1 | 2 | 4 | 5 | 7 | 8   \n",
    "\n",
    "[zur Lösung](#Lösung_???Sort1)"
   ]
  },
  {
   "cell_type": "code",
   "execution_count": 20,
   "metadata": {},
   "outputs": [],
   "source": [
    "# Programmieren Sie den besagten Sortieralgorithmus:\n"
   ]
  },
  {
   "cell_type": "code",
   "execution_count": 21,
   "metadata": {},
   "outputs": [],
   "source": [
    "# Zeigen Sie anhand des Beispiels, dass Ihr Code richtig arbeitet:\n"
   ]
  },
  {
   "cell_type": "markdown",
   "metadata": {},
   "source": [
    "<a id='Aufgabe_???Sort2'></a>\n",
    "1. Welcher Sortieralgorithmus wird bei dem folgenden Array angewendet? \n",
    "2. Programmieren Sie den besagten Sortieralgorithmus. \n",
    "3. Zeigen Sie anhand des Beispiels, dass Ihr Code richtig arbeitet   \n",
    "1 | 5 | 8 | 2 | 7 | 4      \n",
    "1 | 5 | 8 | 2 | 7 | 4  \n",
    "1 | 5 | 2 | 8 | 7 | 4  \n",
    "1 | 5 | 2 | 7 | 8 | 4  \n",
    "1 | 5 | 2 | 7 | 4 | 8  \n",
    "1 | 2 | 5 | 7 | 4 | 8  \n",
    "1 | 2 | 5 | 4 | 7 | 8  \n",
    "1 | 2 | 4 | 5 | 7 | 8  \n",
    "1 | 2 | 4 | 5 | 7 | 8  \n",
    "1 | 2 | 4 | 5 | 7 | 8  \n",
    "1 | 2 | 4 | 5 | 7 | 8     \n",
    "\n",
    "[zur Lösung](#Lösung_???Sort2)"
   ]
  },
  {
   "cell_type": "code",
   "execution_count": 22,
   "metadata": {},
   "outputs": [],
   "source": [
    "# Programmieren Sie den besagten Sortieralgorithmus:\n"
   ]
  },
  {
   "cell_type": "code",
   "execution_count": 23,
   "metadata": {},
   "outputs": [],
   "source": [
    "# Zeigen Sie anhand des Beispiels, dass Ihr Code richtig arbeitet:\n"
   ]
  },
  {
   "cell_type": "markdown",
   "metadata": {},
   "source": [
    "<a id='Aufgabe_SelectionSort'></a>\n",
    "### SelectionSort\n",
    "Sortieren Sie folgende Zahlenfolge mit Hilfe des SelectionSort und skizzieren Sie die einzelnen Schritte im Array.  \n",
    "<center>1, 5, 8, 2, 7, 4</center>   \n",
    "\n",
    "[zur Lösung](#Lösung_SelectionSort)"
   ]
  },
  {
   "cell_type": "markdown",
   "metadata": {},
   "source": [
    "<a id='Aufgabe_ShellSort'></a>\n",
    "### ShellSort\n",
    "Sortieren Sie folgende Zahlenfolge mit Hilfe des ShellSort und skizzieren Sie die einzelnen Schritte im Array.  \n",
    "<center>2, 5, 3, 4, 3, 9, 3, 2, 5, 4, 1, 3</center> \n",
    "\n",
    "[zur Lösung](#Lösung_ShellSort)"
   ]
  },
  {
   "cell_type": "markdown",
   "metadata": {},
   "source": [
    "<a id='Aufgabe_CombSort'></a>\n",
    "### CombSort\n",
    "1. Welchen Aufwand hat der CombSort im WorstCase? Welchen im BestCase?\n",
    "2. Ist der CombSort stabil?\n",
    "3. Ist der CombSort ein In-Place-Algorithmus?\n",
    "\n",
    "[zur Lösung](#Lösung_CombSort)"
   ]
  },
  {
   "cell_type": "markdown",
   "metadata": {},
   "source": [
    "<a id='Aufgabe_MinMaxSelectionSort'></a>\n",
    "### MinMaxSelectionSort\n",
    "Sortieren Sie folgende Zahlenfolge mit Hilfe des  MinMaxSelectionSort und skizzieren Sie die einzelnen Schritte im Array.\n",
    "<center>7, 8, 5, 4, 9, 2</center>\n",
    "\n",
    "[zur Lösung](#Lösung_MinMaxSelectionSort)"
   ]
  },
  {
   "cell_type": "markdown",
   "metadata": {},
   "source": [
    "## Lösungen"
   ]
  },
  {
   "cell_type": "markdown",
   "metadata": {},
   "source": [
    "<a id='Lösung_???Sort1'></a>\n",
    "### ???-Sort - Aufagbe 1\n",
    "1. Welcher Sortieralgorithmus wird bei dem folgenden Array angewendet?    \n",
    "Der Insertion Sort.    \n",
    "![Insertion-Sort Lösung](Bilder/06_einfacheSortieralgorithmen/InsertSort_Lösung.PNG)\n",
    "\n",
    "2. Programmieren Sie den besagten Sortieralgorithmus.   \n",
    "```python\n",
    "def InsertSort(array):\n",
    "    for i in range(1, len(array)):\n",
    "        temp = array[i]\n",
    "        j = i\n",
    "        while j > 0 and array[j-1] > temp :\n",
    "            array[j] = array[j-1]\n",
    "            j -= 1\n",
    "        array[j] = temp\n",
    "    return array\n",
    "```"
   ]
  },
  {
   "cell_type": "code",
   "execution_count": 24,
   "metadata": {},
   "outputs": [
    {
     "name": "stdout",
     "output_type": "stream",
     "text": [
      "3. Zeigen Sie anhand des Beispiels, dass Ihr Code richtig arbeitet \n"
     ]
    },
    {
     "data": {
      "application/vnd.jupyter.widget-view+json": {
       "model_id": "6d93a438694542eb9e422b969e5f2c1b",
       "version_major": 2,
       "version_minor": 0
      },
      "text/plain": [
       "Textarea(value='', description='Zahlen bitte durch Komma trennen:', placeholder='Array')"
      ]
     },
     "metadata": {},
     "output_type": "display_data"
    },
    {
     "data": {
      "application/vnd.jupyter.widget-view+json": {
       "model_id": "76445b49fb8548d7a03ae67896e37f77",
       "version_major": 2,
       "version_minor": 0
      },
      "text/plain": [
       "Button(description='Run Code', style=ButtonStyle(), tooltip='Click me')"
      ]
     },
     "metadata": {},
     "output_type": "display_data"
    }
   ],
   "source": [
    "hide_me\n",
    "\n",
    "print(\"3. Zeigen Sie anhand des Beispiels, dass Ihr Code richtig arbeitet \")\n",
    "\n",
    "textarea = widgets.Textarea(\n",
    "    value='',\n",
    "    placeholder='Array',\n",
    "    description='Zahlen bitte durch Komma trennen:',\n",
    "    disabled=False\n",
    ")\n",
    "\n",
    "button = widgets.Button(\n",
    "    description='Run Code',\n",
    "    disabled=False,\n",
    "    button_style='', # 'success', 'info', 'warning', 'danger' or ''\n",
    "    tooltip='Click me'\n",
    ")\n",
    "\n",
    "display(textarea, button)\n",
    "\n",
    "def InsertSort(array):\n",
    "    for i in range(1, len(array)):\n",
    "        temp = array[i]\n",
    "        j = i\n",
    "        while j > 0 and array[j-1] > temp :\n",
    "            array[j] = array[j-1]\n",
    "            j -= 1\n",
    "        array[j] = temp\n",
    "    return array\n",
    "\n",
    "def Split_String_to_Array(text):\n",
    "    liste = text.split(\",\")\n",
    "    map_object = map(int, liste)\n",
    "    array = list(map_object)\n",
    "    return array\n",
    "\n",
    "def button_eventhandler(obj):\n",
    "    array = Split_String_to_Array(textarea.value)\n",
    "    print(\"Sortiert: \", InsertSort(array))\n",
    "    \n",
    "button.on_click(button_eventhandler)"
   ]
  },
  {
   "cell_type": "markdown",
   "metadata": {},
   "source": [
    "[zurück zur Aufgabe](#Aufgabe_???Sort1)"
   ]
  },
  {
   "cell_type": "markdown",
   "metadata": {},
   "source": [
    "<a id='Lösung_???Sort2'></a>\n",
    "### ???-Sort - Aufagbe 2\n",
    "1. Welcher Sortieralgorithmus wird bei dem folgenden Array angewendet?    \n",
    "Der Bubble Sort.    \n",
    "![Bubble-Sort Lösung](Bilder/06_einfacheSortieralgorithmen/BubbleSort_Lösung.PNG)\n",
    "\n",
    "2. Programmieren Sie den besagten Sortieralgorithmus.\n",
    "```python\n",
    "def BubbleSort(array):\n",
    "    n = len(array)\n",
    "    for i in range(1, n):\n",
    "        for j in range(0, n-i):\n",
    "            if array[j] > array[j+1]:\n",
    "                temp = array[j]\n",
    "                array[j] = array[j+1]\n",
    "                array[j+1] = temp\n",
    "    return array\n",
    "```"
   ]
  },
  {
   "cell_type": "code",
   "execution_count": 25,
   "metadata": {},
   "outputs": [
    {
     "name": "stdout",
     "output_type": "stream",
     "text": [
      "3. Zeigen Sie anhand des Beispiels, dass Ihr Code richtig arbeitet \n"
     ]
    },
    {
     "data": {
      "application/vnd.jupyter.widget-view+json": {
       "model_id": "739406539e4b42ccbd760d2953802a53",
       "version_major": 2,
       "version_minor": 0
      },
      "text/plain": [
       "Textarea(value='', description='Zahlen bitte durch Komma trennen:', placeholder='Array')"
      ]
     },
     "metadata": {},
     "output_type": "display_data"
    },
    {
     "data": {
      "application/vnd.jupyter.widget-view+json": {
       "model_id": "11426505b51542ab83b3ef72d10a51cd",
       "version_major": 2,
       "version_minor": 0
      },
      "text/plain": [
       "Button(description='Run Code', style=ButtonStyle(), tooltip='Click me')"
      ]
     },
     "metadata": {},
     "output_type": "display_data"
    }
   ],
   "source": [
    "hide_me\n",
    "\n",
    "print(\"3. Zeigen Sie anhand des Beispiels, dass Ihr Code richtig arbeitet \")\n",
    "\n",
    "textarea = widgets.Textarea(\n",
    "    value='',\n",
    "    placeholder='Array',\n",
    "    description='Zahlen bitte durch Komma trennen:',\n",
    "    disabled=False\n",
    ")\n",
    "\n",
    "button = widgets.Button(\n",
    "    description='Run Code',\n",
    "    disabled=False,\n",
    "    button_style='', # 'success', 'info', 'warning', 'danger' or ''\n",
    "    tooltip='Click me'\n",
    ")\n",
    "\n",
    "display(textarea, button)\n",
    "\n",
    "def BubbleSort(array):\n",
    "    n = len(array)\n",
    "    for i in range(1, n):\n",
    "        for j in range(0, n-i):\n",
    "            if array[j] > array[j+1]:\n",
    "                temp = array[j]\n",
    "                array[j] = array[j+1]\n",
    "                array[j+1] = temp\n",
    "    return array\n",
    "\n",
    "def Split_String_to_Array(text):\n",
    "    liste = text.split(\",\")\n",
    "    map_object = map(int, liste)\n",
    "    array = list(map_object)\n",
    "    return array\n",
    "\n",
    "def button_eventhandler(obj):\n",
    "    array = Split_String_to_Array(textarea.value)\n",
    "    print(\"Sortiert: \", BubbleSort(array))\n",
    "    \n",
    "button.on_click(button_eventhandler)"
   ]
  },
  {
   "cell_type": "markdown",
   "metadata": {},
   "source": [
    "[zurück zur Aufgabe](#Aufgabe_???Sort2)"
   ]
  },
  {
   "cell_type": "markdown",
   "metadata": {},
   "source": [
    "<a id='Lösung_SelectionSort'></a>\n",
    "### SelectionSort\n",
    "Sortieren Sie folgende Zahlenfolge mit Hilfe des SelectionSort und skizzieren Sie die einzelnen Schritte im Array.  \n",
    "![Selection-Sort Lösung](Bilder/06_einfacheSortieralgorithmen/SelectSort_Lösung.PNG)\n",
    "\n",
    "[zurück zur Aufgabe](#Aufgabe_SelectionSort)"
   ]
  },
  {
   "cell_type": "markdown",
   "metadata": {},
   "source": [
    "<a id='Lösung_ShellSort'></a>\n",
    "### ShellSort\n",
    "Sortieren Sie folgende Zahlenfolge mit Hilfe des ShellSort und skizzieren Sie die einzelnen Schritte im Array. \n",
    "\n",
    "Zahlen in 4 Spalten anordnen.   \n",
    "2 5 3 4   \n",
    "3 9 3 2   \n",
    "5 4 1 3\t  \n",
    "Jede Spalte sortieren.   \n",
    "2 4 1 2   \n",
    "3 5 3 3   \n",
    "5 9 3 4    \n",
    "Zahlenfolge: 2, 4, 1, 2, 3, 5, 3, 3, 5, 9, 3, 4      \n",
    "    \n",
    "Zahlen in 2 Spalten anordnen.       \n",
    "2 4    \n",
    "1 2    \n",
    "3 5   \n",
    "3 3   \n",
    "5 9   \n",
    "3 4   \n",
    "Jede Spalte Sortieren.    \n",
    "1 2   \n",
    "2 3   \n",
    "3 4   \n",
    "3 4   \n",
    "3 5   \n",
    "5 9  \t\n",
    "Zahlenfolge: 1, 2, 2, 3, 3, 4, 3, 4, 3, 5, 5, 9\n",
    "    \n",
    "Zahlen in 1 Spalte anordnen     \n",
    "1 2 2 3 3 4 3 4 3 5 5 9     \n",
    "Spalte sortieren     \n",
    "1 2 2 3 3 3 3 4 4 5 5 9\n",
    "Zahlenfolge: Zahlenfolge: 1, 2, 2, 3, 3, 3, 3, 4, 4, 5, 5, 9\n",
    "    \n",
    "[zurück zur Aufgabe](#Aufgabe_ShellSort)"
   ]
  },
  {
   "cell_type": "markdown",
   "metadata": {},
   "source": [
    "<a id='Lösung_CombSort'></a>\n",
    "### CombSort\n",
    "1. Welchen Aufwand hat der CombSort im WorstCase? Welchen im BestCase?    \n",
    "WorstCase: O(n<sup>2</sup>)      \n",
    "BestCase: o(n log(n))\n",
    "\n",
    "2. Ist der CombSort stabil?     \n",
    "Nein er ist nicht stabil.\n",
    "\n",
    "3. Ist der CombSort ein In-Place-Algorithmus?     \n",
    "Ja er ist ein In-Place-Algorithmus.\n",
    "\n",
    "[zurück zur Aufgabe](#Aufgabe_CombSort)"
   ]
  },
  {
   "cell_type": "markdown",
   "metadata": {},
   "source": [
    "<a id='Lösung_MinMaxSelectionSort'></a>\n",
    "### MinMaxSelectionSort\n",
    "Sortieren Sie folgende Zahlenfolge mit Hilfe des MinMaxSelectionSort und skizzieren Sie die einzelnen Schritte im Array.\n",
    "\n",
    "![MinMaxSelectionSort Lösung](Bilder/06_einfacheSortieralgorithmen/MinMaxSelectSort_Lösung.PNG)\n",
    "\n",
    "[zurück zur Aufgabe](#Aufgabe_MinMaxSelectionSort)"
   ]
  }
 ],
 "metadata": {
  "kernelspec": {
   "display_name": "Python 3",
   "language": "python",
   "name": "python3"
  },
  "language_info": {
   "codemirror_mode": {
    "name": "ipython",
    "version": 3
   },
   "file_extension": ".py",
   "mimetype": "text/x-python",
   "name": "python",
   "nbconvert_exporter": "python",
   "pygments_lexer": "ipython3",
   "version": "3.7.6"
  }
 },
 "nbformat": 4,
 "nbformat_minor": 4
}
