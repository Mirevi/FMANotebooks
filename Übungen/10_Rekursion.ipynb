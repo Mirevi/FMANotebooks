{
 "cells": [
  {
   "cell_type": "code",
   "execution_count": null,
   "metadata": {},
   "outputs": [],
   "source": [
    "# This is a cell to hide code snippets from displaying\n",
    "# This must be at first cell!\n",
    "\n",
    "from IPython.display import HTML\n",
    "\n",
    "hide_me = ''\n",
    "HTML('''<script>\n",
    "code_show=true; \n",
    "function code_toggle() {\n",
    "  if (code_show) {\n",
    "    $('div.input').each(function(id) {\n",
    "      el = $(this).find('.cm-variable:first');\n",
    "      if (id == 0 || el.text() == 'hide_me') {\n",
    "        $(this).hide();\n",
    "      }\n",
    "    });\n",
    "    $('div.output_prompt').css('opacity', 0);\n",
    "  } else {\n",
    "    $('div.input').each(function(id) {\n",
    "      $(this).show();\n",
    "    });\n",
    "    $('div.output_prompt').css('opacity', 1);\n",
    "  }\n",
    "  code_show = !code_show\n",
    "} \n",
    "$( document ).ready(code_toggle);\n",
    "</script>\n",
    "<form action=\"javascript:code_toggle()\"><input style=\"opacity:0\" type=\"submit\" value=\"Click here to toggle on/off the raw code.\"></form>''')"
   ]
  },
  {
   "cell_type": "code",
   "execution_count": null,
   "metadata": {},
   "outputs": [],
   "source": [
    "hide_me\n",
    "import ipywidgets as widgets"
   ]
  },
  {
   "cell_type": "markdown",
   "metadata": {},
   "source": [
    "[<img src=\"Bilder/MIREVIBanner.jpg\">](00_Überblick.ipynb)\n",
    "# FMA Übung\n",
    "## Rekursion\n",
    "In dieser Übung geht es um das Thema Rekursion. \n",
    "  \n",
    "Was ist Rekursion?    \n",
    "Eine Funktion (Methode) heißt rekursiv, wenn mindestens zwei Inkarnationen dieser Funktion zur gleichen Zeit bestehen können.   \n",
    "* direkte Rekursion:    \n",
    "Eine Funktion heißt direkt rekursiv, wenn sich die Funktion selbst aufruft, d.h. die zweite Inkarnation der Funktion durch die Funktion selbst erzeugt wird.   \n",
    "* indirekte Rekursion    \n",
    "Eine Funktion heißt indirekt rekursiv, wenn die zweite Inkarnation der Funktion nicht durch die Funktion selbst erzeugt wird.   \n",
    "* Reekursiontiefe   \n",
    "Anzahl der Inkarnationen einer Funktion minus 1, dh wir beginnen mit dem Zählen bei 0.\n",
    "\n",
    "Warum brauchen wir das?    \n",
    "Das Nutzen einer Rekusion ermöglicht es einem, einen sehr komplexen Sachverhalt in einer überschaubaren und eleganten Weise darzustellen."
   ]
  },
  {
   "cell_type": "markdown",
   "metadata": {},
   "source": [
    "<a id='Aufgabe_Programmieren'></a>\n",
    "### Programmieren\n",
    "1. Implementieren Sie in den nächsten Zeilen zwei rekursive Methoden (recursiveMultiply , recursiveDivide), die zwei Zahlen multiplizieren oder dividieren können. Diese sollen für die Berechnung die übrig gebliebenen Grundrechenarten verwenden. Benutzen Sie für die Implementierung Python.   \n",
    "2. Spezifizieren Sie **vorher** das Problem funktional.   \n",
    "3. Zeigen Sie die Richtigkeit ihres Codes anhand eines selbstgewählten Beispiels."
   ]
  },
  {
   "cell_type": "code",
   "execution_count": null,
   "metadata": {},
   "outputs": [],
   "source": [
    "# rekursive Methode recursiveMultiply:\n"
   ]
  },
  {
   "cell_type": "code",
   "execution_count": null,
   "metadata": {},
   "outputs": [],
   "source": [
    "# rekursive Methode recursiveDivide:\n"
   ]
  },
  {
   "cell_type": "code",
   "execution_count": null,
   "metadata": {},
   "outputs": [],
   "source": [
    "# Zeigen Sie die Richtigkeit ihres Codes anhand eines selbstgewählten Beispiels:\n"
   ]
  },
  {
   "cell_type": "markdown",
   "metadata": {},
   "source": [
    "[zur Lösung (Multiplikation)](#Lösung_Multiplikation)   \n",
    "[zur Lösung (Division)](#Lösung_Division)"
   ]
  },
  {
   "cell_type": "markdown",
   "metadata": {},
   "source": [
    "<a id='Aufgabe_Ackermannfunktion'></a>\n",
    "### Ackermannfunktion\n",
    "Die Ackermannfunktion ist eine wichtige Funktion der theoretischen Informatik.    \n",
    "Definiert (nach Péter 1955) durch:    \n",
    "a(0, y) = y + 1    \n",
    "a(x, 0) = a(x-1, 1)   \n",
    "a(x, y) = a(x-1, a(x, y-1))   \n",
    "mit x,y ∈ N ≥ 0\n",
    "\n",
    "Berechnen Sie die Ackermannfunktion für a(1, 3) ; a(2, 1) ; a(3, 0).\n",
    "\n",
    "[zur Lösung](#Lösung_Ackermannfunktion)"
   ]
  },
  {
   "cell_type": "markdown",
   "metadata": {},
   "source": [
    "<a id='Aufgabe_EuklidischerAlgorithmus'></a>\n",
    "### Euklidischer Algorithmus\n",
    "1. Implementieren Sie den Euklidischen Algorithmus (größter gemeinsamer Teiler) rekursiv. Verwenden Sie außer Rekursion nur if-else, Vergleiche und Subtraktion. \n",
    "2. Spezifizieren Sie **vorher** das Problem funktional.\n",
    "3. Zeigen Sie die Richtigkeit ihres Codes anhand eines selbstgewählten Beispiels. "
   ]
  },
  {
   "cell_type": "code",
   "execution_count": null,
   "metadata": {},
   "outputs": [],
   "source": [
    "# rekursive Methode getGGT:\n"
   ]
  },
  {
   "cell_type": "code",
   "execution_count": null,
   "metadata": {},
   "outputs": [],
   "source": [
    "# Zeigen Sie die Richtigkeit ihres Codes anhand eines selbstgewählten Beispiels: \n"
   ]
  },
  {
   "cell_type": "markdown",
   "metadata": {},
   "source": [
    "[zur Lösung](#Lösung_EuklidischenAlgorithmus)"
   ]
  },
  {
   "cell_type": "markdown",
   "metadata": {},
   "source": [
    "## Lösungen"
   ]
  },
  {
   "cell_type": "markdown",
   "metadata": {},
   "source": [
    "<a id='Lösung_Multiplikation'></a>\n",
    "### Programmieren - Multiplikation\n",
    "**Funktionale Spezifikation**    \n",
    "Eingabe: a, b ∈ Z   \n",
    "Ausgabe: c ∈ Z   \n",
    "Funktionaler Zusammenhang: a wird b mal auf c addiert\n",
    "\n",
    "**Code**      \n",
    "```python\n",
    "def recursive_multiply(a, b, c=0):\n",
    "    \"\"\"Returns multiplication of a and b\n",
    "    :params a: First factor\n",
    "    :params a: Second factor\n",
    "    :params c: Sum; Not to be set manually!\n",
    "    :return: a*b\n",
    "    \"\"\"\n",
    "    if b==0:\n",
    "        return c\n",
    "    elif b>0:\n",
    "        return recursive_multiply(a, b-1, c+a)\n",
    "    else:\n",
    "        return recursive_multiply(a, b+1, c+a)\n",
    "```"
   ]
  },
  {
   "cell_type": "code",
   "execution_count": null,
   "metadata": {
    "scrolled": true
   },
   "outputs": [],
   "source": [
    "hide_me\n",
    "\n",
    "inputA = widgets.IntText(\n",
    "    description='Zahl A:',\n",
    "    disabled=False\n",
    ")\n",
    "\n",
    "inputB = widgets.IntText(\n",
    "    value=0,\n",
    "    description='Zahl B:',\n",
    "    disabled=False\n",
    ")\n",
    "\n",
    "button = widgets.Button(\n",
    "    description='Run Code',\n",
    "    disabled=False,\n",
    "    button_style='', # 'success', 'info', 'warning', 'danger' or ''\n",
    "    tooltip='Click me'\n",
    ")\n",
    "\n",
    "display(inputA, inputB, button)\n",
    "\n",
    "def recursive_multiply(a, b, c=0):\n",
    "    \"\"\"Returns multiplication of a and b\n",
    "    :params a: First factor\n",
    "    :params a: Second factor\n",
    "    :params c: Sum; Not to be set manually!\n",
    "    :return: a*b\n",
    "    \"\"\"\n",
    "    if b==0:\n",
    "        return c\n",
    "    elif b>0:\n",
    "        return recursive_multiply(a, b-1, c+a)\n",
    "    else:\n",
    "        return recursive_multiply(a, b+1, c+a)\n",
    "\n",
    "def button_eventhandler(obj):\n",
    "    print(inputA.value, \" multipliziert mit \", inputB.value, \" ergibt \",recursive_multiply(inputA.value, inputB.value))\n",
    "    \n",
    "button.on_click(button_eventhandler)"
   ]
  },
  {
   "cell_type": "markdown",
   "metadata": {},
   "source": [
    "[zurück zur Aufgabe](#Aufgabe_Programmieren)"
   ]
  },
  {
   "cell_type": "markdown",
   "metadata": {},
   "source": [
    "<a id='Lösung_Division'></a>\n",
    "### Programmieren - Division\n",
    "**Funktionale Spezifikation**   \n",
    "Eingabe: a, b ∈ ℕ     \n",
    "Ausgabe: c, d ∈ ℕ    \n",
    "Funktionaler Zusammenhang: Wenn a>b, dann b von a abziehen und c+1, sonst a=Rest\n",
    "\n",
    "**Code**      \n",
    "```python\n",
    "def recursive_devide(a, b, c=0):\n",
    "    \"\"\"Returns division of a and b\n",
    "    :params a: First factor\n",
    "    :params a: Second factor\n",
    "    :params c: Quotient; Not to be set manually!\n",
    "    :return: a/b\n",
    "    \"\"\"\n",
    "    if a==0:\n",
    "        return c\n",
    "    elif a<b:\n",
    "        return c, a\n",
    "    else:\n",
    "        return recursive_devide(a-b, b, c+1)\n",
    "```"
   ]
  },
  {
   "cell_type": "code",
   "execution_count": null,
   "metadata": {},
   "outputs": [],
   "source": [
    "hide_me\n",
    "\n",
    "inputA = widgets.IntText(\n",
    "    value=0,\n",
    "    description='Zahl A:',\n",
    "    disabled=False\n",
    ")\n",
    "\n",
    "inputB = widgets.IntText(\n",
    "    value=0,\n",
    "    description='Zahl B:',\n",
    "    disabled=False\n",
    ")\n",
    "\n",
    "button = widgets.Button(\n",
    "    description='Run Code',\n",
    "    disabled=False,\n",
    "    button_style='', # 'success', 'info', 'warning', 'danger' or ''\n",
    "    tooltip='Click me'\n",
    ")\n",
    "\n",
    "display(inputA, inputB, button)\n",
    "\n",
    "def recursive_devide(a, b, c=0):\n",
    "    \"\"\"Returns division of a and b\n",
    "    :params a: First factor\n",
    "    :params a: Second factor\n",
    "    :params c: Quotient; Not to be set manually!\n",
    "    :return: a/b\n",
    "    \"\"\"\n",
    "    if a==0:\n",
    "        return c\n",
    "    elif a<b:\n",
    "        return c, a\n",
    "    else:\n",
    "        return recursive_devide(a-b, b, c+1)\n",
    "\n",
    "def button_eventhandler(obj):\n",
    "    print(inputA.value, \" dividiert durch \", inputB.value, \" ergibt \",recursive_devide(inputA.value, inputB.value))\n",
    "    \n",
    "button.on_click(button_eventhandler)"
   ]
  },
  {
   "cell_type": "markdown",
   "metadata": {},
   "source": [
    "[zurück zur Aufgabe](#Aufgabe_Programmieren)"
   ]
  },
  {
   "cell_type": "markdown",
   "metadata": {},
   "source": [
    "<a id='Lösung_Ackermannfunktion'></a>\n",
    "### Ackermannfunktion\n",
    "a(1,3)   \n",
    "= a(0 , a(1,2) )   \n",
    "= a(0 , a(0 , a(1,1)) )   \n",
    "= a(0 , a(0 , a(0 , a(1,0)) ) )   \n",
    "= a(0 , a(0 , a(0 , a(0,1)) ) )   \n",
    "= a(0 , a(0 , a(0,2)) )   \n",
    "= a(0 , a(0,3))   \n",
    "= a(0,4)   \n",
    "= 5   \n",
    " \n",
    "a(2,1)   \n",
    "= a(1 , a(2,0))   \n",
    "= a(1 , a(1,1))   \n",
    "= a(1 , a(0 , a(1,0)) )   \n",
    "= a(1 , a(0 , a(0,1)) )   \n",
    "= a(1 , a(0,2))   \n",
    "= a(1,3)    \n",
    "= *wie oben*   \n",
    "= 5\n",
    "\n",
    "a(3,0)    \n",
    "= a(2,1)   \n",
    "= *wie oben*   \n",
    "= 5\n",
    "\n",
    "[zurück zur Aufgabe](#Aufgabe_Ackermannfunktion)"
   ]
  },
  {
   "cell_type": "markdown",
   "metadata": {},
   "source": [
    "<a id='Lösung_EuklidischenAlgorithmus'></a>\n",
    "### Euklidischer Algorithmus\n",
    "**Funktionale Spezifikation**     \n",
    "Eingabe: a, b ∈ ℕ    \n",
    "Ausgabe: c ∈ ℕ   \n",
    "Funktionaler Zusammenhang: falls a>b, dann a-b, falls a<b, dann b-a, sonst c=a\n",
    "\n",
    "**Code**     \n",
    "```python\n",
    "def getGGT(a, b):\n",
    "    \"\"\"Returns the greatest common factor of a and b\n",
    "    :params a: First factor\n",
    "    :params a: Second factor\n",
    "    \"\"\"\n",
    "    if a==b:\n",
    "        return a\n",
    "    elif a<b:\n",
    "        return getGGT(a, b - a)\n",
    "    else:\n",
    "        return getGGT(a - b, b)\n",
    "```"
   ]
  },
  {
   "cell_type": "code",
   "execution_count": null,
   "metadata": {},
   "outputs": [],
   "source": [
    "hide_me\n",
    "\n",
    "inputA = widgets.IntText(\n",
    "    value=0,\n",
    "    description='Zahl A:',\n",
    "    disabled=False\n",
    ")\n",
    "\n",
    "inputB = widgets.IntText(\n",
    "    value=0,\n",
    "    description='Zahl B:',\n",
    "    disabled=False\n",
    ")\n",
    "\n",
    "button = widgets.Button(\n",
    "    description='Run Code',\n",
    "    disabled=False,\n",
    "    button_style='', # 'success', 'info', 'warning', 'danger' or ''\n",
    "    tooltip='Click me'\n",
    ")\n",
    "\n",
    "display(inputA, inputB, button)\n",
    "\n",
    "def getGGT(a, b):\n",
    "    \"\"\"Returns the greatest common factor of a and b\n",
    "    :params a: First factor\n",
    "    :params a: Second factor\n",
    "    \"\"\"\n",
    "    if a==b:\n",
    "        return a\n",
    "    elif a<b:\n",
    "        return getGGT(a, b - a)\n",
    "    else:\n",
    "        return getGGT(a - b, b)\n",
    "    \n",
    "def button_eventhandler(obj):\n",
    "    print(\"Der größte gemeinsame Teiler von \",inputA.value, \" und \", inputB.value, \" ist \",getGGT(inputA.value, inputB.value))\n",
    "    \n",
    "button.on_click(button_eventhandler)"
   ]
  },
  {
   "cell_type": "markdown",
   "metadata": {},
   "source": [
    "[zurück zur Aufgabe](#Aufgabe_EuklidischerAlgorithmus)"
   ]
  }
 ],
 "metadata": {
  "kernelspec": {
   "display_name": "Python 3",
   "language": "python",
   "name": "python3"
  },
  "language_info": {
   "codemirror_mode": {
    "name": "ipython",
    "version": 3
   },
   "file_extension": ".py",
   "mimetype": "text/x-python",
   "name": "python",
   "nbconvert_exporter": "python",
   "pygments_lexer": "ipython3",
   "version": "3.7.6"
  }
 },
 "nbformat": 4,
 "nbformat_minor": 4
}
