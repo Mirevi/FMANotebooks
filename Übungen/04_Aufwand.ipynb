{
 "cells": [
  {
   "cell_type": "markdown",
   "metadata": {
    "deletable": false,
    "editable": false
   },
   "source": [
    "[<img src=\"Bilder/MIREVIBanner.jpg\">](00_Überblick.ipynb)\n",
    "\n",
    "# FMA Übung\n",
    "## Aufwand\n",
    "In dieser Übung beschäftigen wir uns mit dem Thema Aufwand.   \n",
    "\n",
    "Was ist Aufwand und warum brauchen wir das?    \n",
    "Für die meisten Probleme existieren unterschiedliche Lösungswege (Algorithmen). Diese können sich z.B. in ihrer Korrektheit/Genauigkeit, Funktionalität, Verständlichkeit und/oder Effizienz unterscheiden. Mit der Aufwandsbestimmung kann man untersuchen, welcher der Algorithmen am effektivsten arbeitet. Das hilft einem dabei, den für sein Problem am besten geeigneten Algorithmus zu finden.\n",
    "\n",
    "Welche Methoden gibt es den Aufwand zu bestimmen?    \n",
    "Es gibt viele Methoden den Aufwand eines Algorithmus anzugeben. In FMA betrachten wir dre davon näher, die exakte Laufzeitberechnung T(n), die O-Notation (auch O-Kalkül genannt) und die Theta-Notation.    \n",
    "Dabei kann man jede Aufwandsanalyse in drei Szenrarien betrachten:    \n",
    "* Worst-Case: die im schlechtesten Fall erforderliche Laufzeit, also das Maximum aller möglichen Laufzeiten   \n",
    "* Average-Case: die im mittleren Fall (Durchschnitt, arithmetisches Mittel, Erwartungswert) erforderliche Laufzeit    \n",
    "* Best-Case: die im günstigsten Fall, d.h. für die aufwandsgünstige Instanz, erforderliche Laufzeit    \n",
    "Informatiker sind im Grunde Pessimisten, deswegen wird in den meisten Fällen nur der Worst-Case betrachtet."
   ]
  },
  {
   "cell_type": "markdown",
   "metadata": {
    "deletable": false,
    "editable": false
   },
   "source": [
    "<a id='Aufgabe_Laufzeit'></a>\n",
    "### Exakte Laufzeit\n",
    "Bestimmen Sie die exakte Laufzeit des Algorithmus (Tipp: Informatiker sind Pessimisten):    \n",
    "![Code](Bilder/04_Aufwand/LaufzeitBerechnen_Code.PNG)   \n",
    "\n",
    "[zur Lösung](#Lösung_Laufzeit)"
   ]
  },
  {
   "cell_type": "markdown",
   "metadata": {
    "deletable": false,
    "editable": false
   },
   "source": [
    "<a id='Aufgabe_ONotation'></a>\n",
    "### O-Notation\n",
    "Gegeben sind zwei Algorithmen A(n) und B(n) mit einer exakten Laufzeit von T<sub>A</sub>(n)=3n·(n-1)·(n+1)-3n und  T<sub>B</sub>(n)=10n+n·log(n)+15.   \n",
    "Welche Laufzeit im O-Kalkül haben folgende Algorithmen C1, C2, C3 mit Eingabe n?    \n",
    "![Augabe O-Notation](Bilder/04_Aufwand/OKalkühlA1.PNG)\n",
    "\n",
    "[zur Lösung](#Lösung_ONotation)"
   ]
  },
  {
   "cell_type": "markdown",
   "metadata": {
    "deletable": false,
    "editable": false
   },
   "source": [
    "<a id='Aufgabe_ThetaNotation'></a>\n",
    "### Theta-Notation\n",
    "Bestimmen Sie das minimal mögliche c in   \n",
    "3n<sup>3</sup> + 12n<sup>2</sup> + 7 ∈ O(n<sup>3</sup>)    \n",
    "für n<sub>0</sub> = 1 und n<sub>0</sub> = 3    \n",
    "Zur Erinnerung: Es muss gelten: c ⋅ g(n) ≥ f(n) \n",
    "\n",
    "[zur Lösung](#Lösung_ThetaNotation)"
   ]
  },
  {
   "cell_type": "markdown",
   "metadata": {
    "deletable": false,
    "editable": false
   },
   "source": [
    "<a id='Aufgabe_Aufwand'></a>\n",
    "### Aufwand bestimmen\n",
    "Wir betrachten einen Algorithmus A mit der exakten Laufzeit    \n",
    "T<sub>A</sub>(n) = 0,5n<sup>3</sup> ⋅ 6n + 16. \n",
    "\n",
    "1. Geben Sie Werte an für O(T<sub>A</sub>(n)), c, n<sub>0</sub> im Sinne des O-Kalküls.   \n",
    "2. Sei 6n der Aufwand für eine lineare Suche im Algorithmus A. Wie ändert sich die Laufzeit O(T<sub>B</sub>(n)), wenn die lineare Suche durch eine binäre Suche ersetzt wird? \n",
    "3. Welche zusätzliche Bedingung muss in diesem Falle für die Daten gelten?\n",
    "\n",
    "[zur Lösung](#Lösung_Aufwand)"
   ]
  },
  {
   "cell_type": "markdown",
   "metadata": {
    "deletable": false,
    "editable": false
   },
   "source": [
    "## Lösungen"
   ]
  },
  {
   "cell_type": "markdown",
   "metadata": {
    "deletable": false,
    "editable": false
   },
   "source": [
    "<a id='Lösung_Laufzeit'></a>\n",
    "### exakte Laufzeit\n",
    "![Lösung](Bilder/04_Aufwand/LaufzeitBerechnen_Lösung.PNG)    \n",
    "<font color=#008080>1</font> + <font color=#008080>1</font> + <font color=#bf0040>n * (</font><font color=#859900>1</font> + <font color=#008080>1</font> + <font color=#008080>1</font><font color=#bf0040>)</font> + <font color=#008080>1</font>  =  **3 + 3n**\n",
    "\n",
    "[zurück zur Aufgabe](#Aufgabe_Laufzeit)"
   ]
  },
  {
   "cell_type": "markdown",
   "metadata": {
    "deletable": false,
    "editable": false
   },
   "source": [
    "<a id='Lösung_ONotation'></a>\n",
    "### O-Notation\n",
    "T<sub>A</sub>(n) = 3n·(n-1)·(n+1) - 3n = 3n³ - 3n ∈ **O(n³)**   \n",
    "T<sub>B</sub>(n) = 10n + n·log(n) + 15 ∈ **O(n·log(n))**   \n",
    "![Augabe O-Notation](Bilder/04_Aufwand/OKalkühlA1_Lösung.PNG)\n",
    "\n",
    "[zurück zur Aufgabe](#Aufgabe_ONotation)"
   ]
  },
  {
   "cell_type": "markdown",
   "metadata": {
    "deletable": false,
    "editable": false
   },
   "source": [
    "<a id='Lösung_ThetaNotation'></a>\n",
    "### Theta-Notation\n",
    "f(n) = 3n<sup>3</sup> + 12n<sup>2</sup> + 7    \n",
    "g(n) = n<sup>3</sup>   \n",
    "\n",
    "n<sub>0</sub> = 1:   \n",
    "⇒ 3⋅1<sup>3</sup> + 12⋅1<sup>2</sup> + 7 < c⋅1<sup>3</sup>   \n",
    " = 3⋅1 + 12⋅1 + 7 < c    \n",
    " = 22 ≤ c    \n",
    " \n",
    "n<sub>0</sub> = 3:   \n",
    "⇒ 3⋅3<sup>3</sup>+ 12⋅3<sup>2</sup> + 7 <  c⋅3<sup>3</sup>   \n",
    " = 3⋅27 + 12⋅9 + 7 < 27⋅c   \n",
    " = 196 < 27⋅c   \n",
    " = 7,26 ≤ c  \n",
    " \n",
    "[zurück zur Aufgabe](#Aufgabe_ThetaNotation)"
   ]
  },
  {
   "cell_type": "markdown",
   "metadata": {
    "deletable": false,
    "editable": false
   },
   "source": [
    "<a id='Lösung_Aufwand'></a>\n",
    "### Aufwand bestimmen\n",
    "1. Geben Sie Werte an für O(TA(n)), c, n0 im Sinne des O-Kalküls.   \n",
    "O(T<sub>A</sub>(n)) = O(n<sup>4</sup>)    \n",
    "f(n) = 0,5n<sup>3</sup> ⋅ 6n + 16.  \n",
    "g(n) = n<sup>4</sup> \n",
    "n<sub>0</sub> kann selbstständig gewählt werden    \n",
    "Beispiele:    \n",
    "n<sub>0</sub> = 1   \n",
    "0,5n<sup>3</sup> ⋅ 6n + 16 < c ⋅ n<sup>4</sup>   \n",
    "0,5⋅1<sup>3</sup> ⋅ 6⋅1 + 16 < c ⋅ 1<sup>4</sup>   \n",
    "0,5 ⋅ 6 + 16 < c   \n",
    "19 < c   \n",
    "\n",
    "2. Sei 6n der Aufwand für eine lineare Suche im Algorithmus A. Wie ändert sich die Laufzeit O(TB(n)), wenn die lineare Suche durch eine binäre Suche ersetzt wird?      \n",
    "O(T<sub>B</sub>(n)) = O(n<sup>3</sup>⋅log(n))   \n",
    "\n",
    "3. Welche zusätzliche Bedingung muss in diesem Falle für die Daten gelten?        \n",
    "Die Daten müssen sortiert sein.\n",
    "\n",
    "[zurück zur Aufgabe](#Aufgabe_Aufwand)"
   ]
  }
 ],
 "metadata": {
  "kernelspec": {
   "display_name": "Python 3",
   "language": "python",
   "name": "python3"
  },
  "language_info": {
   "codemirror_mode": {
    "name": "ipython",
    "version": 3
   },
   "file_extension": ".py",
   "mimetype": "text/x-python",
   "name": "python",
   "nbconvert_exporter": "python",
   "pygments_lexer": "ipython3",
   "version": "3.7.6"
  }
 },
 "nbformat": 4,
 "nbformat_minor": 4
}
