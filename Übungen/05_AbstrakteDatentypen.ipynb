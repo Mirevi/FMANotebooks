{
 "cells": [
  {
   "cell_type": "markdown",
   "metadata": {},
   "source": [
    "[<img src=\"Bilder/MIREVIBanner.jpg\">](00_Überblick.ipynb)\n",
    "\n",
    "# FMA Übungen\n",
    "## Abstrakte Datentypen"
   ]
  },
  {
   "cell_type": "markdown",
   "metadata": {},
   "source": [
    "<a id='Aufgabe_Stack'></a>\n",
    "### Stack\n",
    "Einem leeren Stack `stack` werden die Elemente 4, 3, 8, 1 hinzugefügt. \n",
    "1.  Zeigen Sie wie `stack` nach dem Einfügen aussieht.  \n",
    "2.  Nacheinander werden nun die folgenden Befehle aufgerufen. Wie sieht `stack` nach jedem Schritt aus?       \n",
    "\t1: stack.push(2)    \n",
    "\t2: stack.pop()    \n",
    "\t3: stack.pop()     \n",
    "\t4: stack.push(9)      \n",
    "\n",
    "Hinweis: Das Programmieren dieser Aufagbe ist optional.\n",
    "\n",
    "[zur Lösung](#Lösung_Stack)"
   ]
  },
  {
   "cell_type": "markdown",
   "metadata": {},
   "source": [
    "<a id='Aufgabe_Queue'></a>\n",
    "### Queue \n",
    "Einer leeren Queue `queue` werden die Elemente 4, 3, 8, 1 hinzugefügt.     \n",
    "1.  Zeigen Sie wie `queue` nach dem Einfügen aussieht.     \n",
    "2.  Nacheinander werden nun die folgenden Befehle aufgerufen. Wie sieht `queue` nach jedem Schritt aus?       \n",
    "\t1: queue.dequeue()    \n",
    "\t2: queue.enqueue(13)    \n",
    "\t3: queue.dequeue()    \n",
    "\t4: queue.dequeue()     \n",
    "\n",
    "Hinweis: Das Programmieren dieser Aufagbe ist optional.\n",
    "\n",
    "[zur Lösung](#Lösung_Queue)"
   ]
  },
  {
   "cell_type": "markdown",
   "metadata": {},
   "source": [
    "<a id='Aufgabe_Deque'></a>\n",
    "### Deque\n",
    "Einer leeren Deque `deque` werden die Elemente 4, 3, 8, 1 hinzugefügt.     \n",
    "1.  Zeigen Sie wie `deque` nach dem Einfügen aussieht. Gehen Sie davon aus, das abwechselnd erst von vorne und dann von hinten ein Element eingefügt wird.       \n",
    "2.  Nacheinander werden nun die folgenden Befehle aufgerufen. Wie sieht `deque` nach jedem Schritt aus?       \n",
    "\t1: deque.addFront(2)   \n",
    "\t2: deque.removeRear()     \n",
    "\t3: deque.addRear(9)    \n",
    "\t4: deque.removeFront()\n",
    "\n",
    "Hinweis: Das Programmieren dieser Aufagbe ist optional.\n",
    "\n",
    "[zur Lösung](#Lösung_Deque)"
   ]
  },
  {
   "cell_type": "markdown",
   "metadata": {},
   "source": [
    "<a id='Aufgabe_Liste'></a>\n",
    "### Liste\n",
    "Einer leeren, geordnete Liste `list` werden die Elemente 3, 1, 8 hinzugefügt.\n",
    "1. Zeigen Sie wie `list` nach dem Einfügen aussieht.\n",
    "2. Nun wird der Liste `list` das Element \"4\" hinzugefügt. Zeichnen Sie schrittweise das Hinzufügen des Elements auf.\n",
    "3. Nun soll nach dem Element \"7\" gesucht werden. Stellen Sie das vorgehen des Programms visuell dar (mit next, current, found, stop).\n",
    "4. Nun soll das Element \"4\" entfernt werden. Stellen Sie das vorgehen des Programms visuell dar (mit next, current, previous)   \n",
    "    \n",
    "Hinweis: Das Programmieren dieser Aufagbe ist optional.\n",
    "\n",
    "[zur Lösung](#Lösung_Liste)"
   ]
  },
  {
   "cell_type": "markdown",
   "metadata": {},
   "source": [
    "## Lösungen"
   ]
  },
  {
   "cell_type": "markdown",
   "metadata": {},
   "source": [
    "<a id='Lösung_Stack'></a>\n",
    "### Stack\n",
    "1.  Zeigen Sie wie `stack` jetzt aussieht?  \n",
    "[4, 3, 8, 1]\n",
    "\n",
    "2. Nacheinander werden nun die folgenden Befehle aufgerufen. Wie sieht `stack` nach jedem Schritt aus?    \n",
    "\t1: stack.push(2) -> [4, 3, 8, 1, 2]    \n",
    "\t2: stack.pop() -> [4, 3, 8, 1]    \n",
    "\t3: stack.pop() -> [4, 3, 8]    \n",
    "\t4: stack.push(9) -> [4, 3, 8, 9]     \n",
    "\n",
    "[zurück zur Aufgabe](#Aufgabe_Stack)"
   ]
  },
  {
   "cell_type": "markdown",
   "metadata": {},
   "source": [
    "<a id='Lösung_Queue'></a>\n",
    "### Queue     \n",
    "1.  Zeigen Sie wie `queue` jetzt aussieht?     \n",
    "[1, 8, 3, 4]\n",
    "\n",
    "2.  Nacheinander werden nun die folgenden Befehle aufgerufen. Wie sieht `queue` nach jedem Schritt aus?       \n",
    "\t1: queue.dequeue() -> [1, 8, 3]    \n",
    "\t2: queue.enqueue(13) -> [13, 1, 8, 3]    \n",
    "\t3: queue.dequeue() -> [13, 1, 8]    \n",
    "\t4: queue.dequeue() -> [13, 1]  \n",
    "    \n",
    "[zurück zur Aufgabe](#Aufgabe_Queue)"
   ]
  },
  {
   "cell_type": "markdown",
   "metadata": {},
   "source": [
    "<a id='Lösung_Deque'></a>\n",
    "### Deque\n",
    "1.  Zeigen Sie wie `deque` nach dem Einfügen aussieht. Gehen Sie davon aus, das abwechselnd erst von vorne und dann von hinten ein Element eingefügt wird.      \n",
    "[1, 3, 4, 8]\n",
    "\n",
    "2.  Nacheinander werden nun die folgenden Befehle aufgerufen. Wie sieht `deque` nach jedem Schritt aus?       \n",
    "\t1: deque.addFront(2) -> [1, 3, 4, 8, 2]     \n",
    "\t2: deque.removeRear() -> [3, 4, 8, 2]        \n",
    "\t3: deque.addRear(9) -> [9, 3, 4, 8, 2]        \n",
    "\t4: deque.removeFront() -> [9, 3, 4, 8]    \n",
    "\n",
    "[zurück zur Aufgabe](#Aufgabe_Deque)"
   ]
  },
  {
   "cell_type": "markdown",
   "metadata": {},
   "source": [
    "<a id='Lösung_Liste'></a>\n",
    "### Liste\n",
    "1. Zeigen Sie wie `list` nach dem Einfügen aussieht.\n",
    "\n",
    "<img src=\"Bilder/05_ADT/lista.png\"></img>\n",
    "\n",
    "2. Nun wird der Liste `list` das Element \"4\" hinzugefügt. Zeichnen Sie schrittweise das Hinzufügen des Elements auf.\n",
    "\n",
    "<img src=\"Bilder/05_ADT/listb.png\"></img>\n",
    "\n",
    "3. Nun soll nach dem Element \"7\" gesucht werden. Stellen Sie das vorgehen des Programms visuell dar (mit next, current, found, stop).\n",
    "\n",
    "<img src=\"Bilder/05_ADT/listc.png\"></img>\n",
    "\n",
    "4. Nun soll das Element \"4\" entfernt werden. Stellen Sie das vorgehen des Programms visuell dar (mit next, current, previous)\n",
    "\n",
    "<img src=\"Bilder/05_ADT/listd.png\"></img>\n",
    "\n",
    "\n",
    "[zurück zur Aufgabe](#Aufgabe_Liste)"
   ]
  },
  {
   "cell_type": "code",
   "execution_count": null,
   "metadata": {},
   "outputs": [],
   "source": []
  }
 ],
 "metadata": {
  "kernelspec": {
   "display_name": "Python 3",
   "language": "python",
   "name": "python3"
  },
  "language_info": {
   "codemirror_mode": {
    "name": "ipython",
    "version": 3
   },
   "file_extension": ".py",
   "mimetype": "text/x-python",
   "name": "python",
   "nbconvert_exporter": "python",
   "pygments_lexer": "ipython3",
   "version": "3.7.6"
  }
 },
 "nbformat": 4,
 "nbformat_minor": 4
}
