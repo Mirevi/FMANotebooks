{
 "cells": [
  {
   "cell_type": "markdown",
   "metadata": {},
   "source": [
    "[<img src=\"Bilder/MIREVIBanner.jpg\">](00_Überblick.ipynb)\n",
    "\n",
    "# FMA Übung\n",
    "## Komplexe Sortieralgorithmen\n",
    "Diese Übung beschäftigt sich mit dem Thema Sortieralgorithmen.\n",
    "\n",
    "Was ist das und wofür brauche ich das?   \n",
    "Wie der Name schon sagt, hilft ein Sortieralgorithmus dabei, Datensätze zu sortieren. "
   ]
  },
  {
   "cell_type": "markdown",
   "metadata": {},
   "source": [
    "<a id='Aufgabe_MergeSort'></a>\n",
    "### Merge Sort\n",
    "Erläutern Sie textuell und/oder visuell am folgenden Beispiel wie der rekursive Sortieralgorithmus Mergesort funktioniert.    \n",
    "Welche Laufzeit hat der Algorithmus im Worst Case?\n",
    "<center>6, 7, 1, 5, 2, 4, 8, 3</center>   \n",
    "\n",
    "[zur Lösung](#Lösung_MergeSort)"
   ]
  },
  {
   "cell_type": "markdown",
   "metadata": {},
   "source": [
    "<a id='Aufgabe_QuickSort'></a>\n",
    "### Quick Sort\n",
    "Erläutern Sie textuell und/oder visuell am folgenden Beispiel wie der rekursive Sortieralgorithmus Quicksort funktioniert.    \n",
    "Welche Laufzeit hat der Algorithmus im Worst Case?\n",
    "<center>6, 7, 1, 5, 2, 4, 8, 3</center>    \n",
    "\n",
    "[zur Lösung](#Lösung_QuickSort)"
   ]
  },
  {
   "cell_type": "markdown",
   "metadata": {},
   "source": [
    "<a id='Aufgabe_Vergleich'></a>\n",
    "### Vergleich zweier Sortieralgorithmen \n",
    "In welchem Fall ist der InsertionSort Algorithmus effizienter als der Quicksort? \n",
    "Zeigen Sie dies an einem selbstgewählten Beispiel. \n",
    "\n",
    "[zur Lösung](#Lösung_Vergleich)"
   ]
  },
  {
   "cell_type": "markdown",
   "metadata": {},
   "source": [
    "<a id='Aufgabe_RadixSort'></a>\n",
    "### Radix Sort\n",
    "Gegeben ist ein Sortieralgorithmus, der in zwei sich abwechselnden Phasen verläuft:    \n",
    "**Partitionierungsphase:**     \n",
    "Es werden Zahlen in Fächer sortiert. Zahlen bestehen aus einer Folge von Ziffern zwischen 0 … 9. \n",
    "Es wird für jede mögliche Ziffer ein Fach verwendet. (Ein Fach kann mehrere Zahlen enthalten!)\n",
    "Beginnend mit der letzten Ziffer werden die Zahlen auf die Fächer verteilt. \n",
    "Im nächsten Durchlauf (also nach der Sammelphase) werden die Zahlen anhand der 2. Ziffer von rechts in die Fächer einsortiert usw.    \n",
    "**Sammelphase:**    \n",
    "Beginnend mit dem Fach der niedrigsten Wertigkeit werden die so sortierten Zahlen eingesammelt und in eine Liste eingefügt (ohne die Reihenfolge innerhalb der einzelnen Fächer zu ändern).\n",
    "Mit dieser Liste wird in der nächsten Partitionierungsphase weitergearbeitet.\n",
    "\n",
    "- Sortieren Sie diese Zahlenfolge mit Hilfe des vorgestellten Algorithmus und stellen Sie die einzelnen Phasen auf geeignete Art und Weise dar: 789, 53, 386, 785, 43, 2, 273   \n",
    "- Schätzen Sie den Aufwand dieses Algorithmus im O-Kalkül ab. Gehen Sie dabei davon aus, dass die Länge der Schlüssel vernachlässigbar klein im Verhältnis zur Anzahl der Elemente n ist. (Hinweis: in diesem Beispiel ist die Länge der Schlüssel 3, da die längste Zahl drei Ziffern hat)\n",
    "\n",
    "[zur Lösung](#Lösung_RadixSort)"
   ]
  },
  {
   "cell_type": "markdown",
   "metadata": {},
   "source": [
    "## Lösungen"
   ]
  },
  {
   "cell_type": "markdown",
   "metadata": {},
   "source": [
    "<a id='Lösung_MergeSort'></a>\n",
    "### Merge Sort\n",
    "![MergeSort Lösung](Bilder/07_komplexeSortieralgorithmen/MergeSort_Lösung.PNG)    \n",
    "Worst Case: O(n log n)\n",
    "\n",
    "[zurück zur Aufgabe](#Aufgabe_MergeSort)"
   ]
  },
  {
   "cell_type": "markdown",
   "metadata": {},
   "source": [
    "<a id='Lösung_QuickSort'></a>\n",
    "### Quick Sort\n",
    "![QuickSort Lösung](Bilder/07_komplexeSortieralgorithmen/QuickSort_Lösung.PNG)    \n",
    "Worst Case: O(n<sup>2</sup>)\n",
    "\n",
    "[zurück zur Aufgabe](#Aufgabe_QuickSort)"
   ]
  },
  {
   "cell_type": "markdown",
   "metadata": {},
   "source": [
    "<a id='Lösung_Vergleich'></a>\n",
    "### Vergleich zweier Sortieralgorithmen\n",
    "Bei einer schon sortierten Folge ist der Insertion Sort effizienter als der Quicksort.\n",
    "\n",
    "Beispiel:    \n",
    "1, 2, 3, 4, 5     \n",
    "![Insertion Sort vs Qucik Sort Lösung](Bilder/07_komplexeSortieralgorithmen/InsertQuick_Lösung.PNG)\n",
    "\n",
    "\n",
    "[zurück zur Aufgabe](#Aufgabe_Vergleich)"
   ]
  },
  {
   "cell_type": "markdown",
   "metadata": {},
   "source": [
    "<a id='Lösung_RadixSort'></a>\n",
    "### Radix Sort\n",
    "---\n",
    "Partitionierungsphase: 789, 53, 386, 785, 43, 2, 273    \n",
    "![RadixSort](Bilder/07_komplexeSortieralgorithmen/RadixSort1.PNG)    \n",
    "Sammelphase: 2, 53, 43, 273, 785, 386, 789   \n",
    "\n",
    "---\n",
    "Partitionierungsphase: 2, 53, 43, 273, 785, 386, 789    \n",
    "![RadixSort](Bilder/07_komplexeSortieralgorithmen/RadixSort2.PNG)   \n",
    "Sammelphase: 2, 43, 53, 273, 785, 386, 789   \n",
    " \n",
    "---\n",
    "Partitionierungsphase: 2, 43, 53, 273, 785, 386, 789    \n",
    "![RadixSort](Bilder/07_komplexeSortieralgorithmen/RadixSort3.PNG)    \n",
    "Sammelphase: 2, 43, 53, 273, 386, 785, 789   \n",
    "\n",
    "---\n",
    "In der Partitionierungsphase wird jedes Element n einmal angefasst, um es in ein Fach einzusortieren. Wie oft diese Phase durchlaufen wird hängt von der Länge der Schlüssel m ab.   \n",
    "T<sub>A</sub>(n) = m·n   \n",
    "Die Länge der Schlüssel ist vernachlässigbar klein → O(n)\n",
    "\n",
    "[zurück zur Aufgabe](#Aufgabe_RadixSort)"
   ]
  }
 ],
 "metadata": {
  "kernelspec": {
   "display_name": "Python 3",
   "language": "python",
   "name": "python3"
  },
  "language_info": {
   "codemirror_mode": {
    "name": "ipython",
    "version": 3
   },
   "file_extension": ".py",
   "mimetype": "text/x-python",
   "name": "python",
   "nbconvert_exporter": "python",
   "pygments_lexer": "ipython3",
   "version": "3.7.6"
  }
 },
 "nbformat": 4,
 "nbformat_minor": 4
}
