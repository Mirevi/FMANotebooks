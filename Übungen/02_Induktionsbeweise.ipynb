{
 "cells": [
  {
   "cell_type": "markdown",
   "metadata": {},
   "source": [
    "<img src=\"Bilder/MIREVIBanner.jpg\">\n",
    "\n",
    "# FMA Übung 02 - Vollständige Induktion\n",
    "In dieser Übung geht es um das Beweisen mittels einer vollständigen Induktion. \n",
    "\n",
    "Was ist das und wofür brauch ich das?\n",
    "Der Induktionsbeweis ist eine Beweisform, die dabei hilft die Richtigkeit einer Aussage für unendlich viele Elemtente zu beweisen. Dafür schließt der Induktionsbeweis von Einzelfällen auf die Gesamtheit. Die Idee ist, dass, wenn eine Aussage für n gilt und ich beweisen kann, dass sie auch für n+1 gilt, ich damit auch bewiesen habe, dass die Aussage für alle nachfolgenden Zahlen gilt.\n",
    "\n",
    "### Aufbau\n",
    "1. Induktionsanfang [IA]:   \n",
    "    n=1   \n",
    "    -> Beweise, dass die Aussage für das kleinstmögliche Element stimmt\n",
    "    \n",
    "2. Induktionsvoraussetzung [IV]:   \n",
    "    Die Aussage gilt für n∈ℕ   \n",
    "    -> Schreibe den Standardsatz hin ;)   \n",
    "    \n",
    "3. Induktionsbehauptung [IB]:  \n",
    "    Die Aussage gilt für n+1, mit n∈ℕ   \n",
    "    -> Auch hier immer der gleiche Satz   \n",
    "    \n",
    "4. Induktionsschritt [IS]:   \n",
    "    Beweis, dass die Induktionsbehauptung stimmt    \n",
    "    -> Zeige durch umformen, dass man die IV in die IB überführen kann oder ungekehrt, dass man von der IB auf die IV kommt."
   ]
  },
  {
   "cell_type": "markdown",
   "metadata": {},
   "source": [
    "<a id='Aufgabe_GeradeZahlen'></a>\n",
    "### Gerade Zahlen \n",
    "Beweisen Sie, dass n<sup>2</sup> + n immer gerade ist. \n",
    "\n",
    "[zur Lösung](#Lösung_GeradeZahlen)"
   ]
  },
  {
   "cell_type": "markdown",
   "metadata": {},
   "source": [
    "<a id='Aufgabe_3Teiler'></a>\n",
    "### 3-Teiler\n",
    "Beweisen Sie, dass 3 stets ein Teiler von 4n³−n für alle n ∈ ℕ ist.\n",
    "\n",
    "[zur Lösung](#Lösung_3Teiler)"
   ]
  },
  {
   "cell_type": "markdown",
   "metadata": {},
   "source": [
    "<a id='Aufgabe_6Teiler'></a>\n",
    "### 6-Teiler\n",
    "Beweisen Sie, dass 6 stets ein Teiler von n³ + 5n für alle n ∈ ℕ ist.\n",
    "\n",
    "[zur Lösung](#Lösung_6Teiler)"
   ]
  },
  {
   "cell_type": "markdown",
   "metadata": {},
   "source": [
    "<a id='Aufgabe_Summenwerte'></a>\n",
    "### Summenwerte\n",
    "Beweisen Sie, dass gilt $$\\sum_{i=1}^n i^2 = \\frac{n·(n+1)·(2n+1)}{6}$$\n",
    "\n",
    "\n",
    "[zur Lösung](#Lösung_Summenwerte)"
   ]
  },
  {
   "cell_type": "markdown",
   "metadata": {},
   "source": [
    "<a id='Aufgabe_Ungleichung'></a>\n",
    "### Ungleichung \n",
    "Beweisen Sie, dass 2<sup>k</sup> ≥ k² für alle k ∈ ℕ ≥ 4 gilt.\n",
    "\n",
    "[zur Lösung](#Lösung_Ungleichung)"
   ]
  },
  {
   "cell_type": "markdown",
   "metadata": {},
   "source": [
    "<a id='Aufgabe_Bakterienkollonie'></a>\n",
    "### Bakterienkollonie\n",
    "In einer Kolonie mit zuerst 2 Bakterien (Tag 0) teilt sich jedes Bakterium jeden Tag in zwei Lebewesen. Von allen Bakterien stirbt insgesamt eins nach der Teilung.   \n",
    "1. Wie viele Bakterien existieren am Tag 1,2,3,4,5?\n",
    "2. Geben Sie eine Formel für die Anzahl der Bakterien am Tag n an.\n",
    "3. Beweisen Sie diese durch vollständige Induktion mit Angabe von Induktionsanfang, -voraussetzung, -behauptung und -schritt.\n",
    "\n",
    "[zur Lösung](#Lösung_Bakterienkollonie)"
   ]
  },
  {
   "cell_type": "markdown",
   "metadata": {},
   "source": [
    "<a id='Aufgabe_Bäume'></a>\n",
    "### Bäume\n",
    "Beweisen Sie, dass die Anzahl der Knoten in einem vollständigem binär Baum der Höhe n = (2<sup>n+1</sup> - 1) beträgt.\n",
    "\n",
    "[zur Lösung](#Lösung_Bäume)"
   ]
  },
  {
   "cell_type": "markdown",
   "metadata": {},
   "source": [
    "## Lösungen"
   ]
  },
  {
   "cell_type": "markdown",
   "metadata": {},
   "source": [
    "<a id='Lösung_GeradeZahlen'></a>\n",
    "### Gerade Zahlen\n",
    "**n<sup>2</sup> + n ist eine gerade Zahl für alle n≥1**\n",
    "\n",
    "1. Induktionsanfang (n=1)  \n",
    "1<sup>2</sup> + 1 = 2 -> 2 ist eine gerade Zahl\n",
    "\n",
    "2. Induktionsvoraussetzung (n)  \n",
    "Es gilt n<sup>2</sup> + n ist eine gerade Zahl für alle n ∈ ℕ\n",
    " \n",
    "3. Induktionsbehauptung (n+1)   \n",
    "Es gilt (n+1)<sup>2</sup> + (n+1) ist eine gerade Zahl für n ∈ ℕ\n",
    "\n",
    "4. Induktionsschritt   \n",
    "(n+1)<sup>2</sup> + (n+1)     \n",
    "= n<sup>2</sup> + 2n+ 1 + n + 1     \n",
    "= n<sup>2</sup> + 3n + 2     \n",
    "= (n<sup>2</sup>+n) + (2n+2)      \n",
    "= <font color=#bf0040>(n<sup>2</sup>+n)</font> + <font color=#008080>2(n+1)</font>       \n",
    "\n",
    "<font color=#bf0040>*(n<sup>2</sup>+n)*</font> *-> teilbar da IV*     \n",
    "<font color=#008080>*2(n+1)*</font> *-> teilbar*\n",
    "\n",
    "[zurück zur Aufgabe](#Aufgabe_GeradeZahlen)"
   ]
  },
  {
   "cell_type": "markdown",
   "metadata": {},
   "source": [
    "<a id='Lösung_3Teiler'></a>\n",
    "### 3-Teiler\n",
    "**4n³−n ist durch 3 teilbar für alle n≥1**\n",
    "\n",
    "1. Induktionsanfang (n=1)    \n",
    "4·1³ − 1 = 3 -> 3 ist ein Teiler von 3\n",
    "\n",
    "2. Induktionsvoraussetzung (n)   \n",
    "Es gilt: 4n³ − n ist durch 3 teilbar für alle n ∈ ℕ  \n",
    "\n",
    "3. Induktionsbehauptung (n+1)  \n",
    "Es gilt: 4(n+1)³ - (n+1) ist durch 3 teilbar für n ∈ ℕ.    \n",
    "\n",
    "4. Induktionsschritt   \n",
    "4(n + 1)³ − (n + 1)    \n",
    "= 4·(n³ + 3n² + 3n + 1) − n − 1   \n",
    "= 4n³ + 12n² + 12n + 4 - n - 1       \n",
    "= 4n³ - n + 12n² + 12n + 3        \n",
    "= <font color=#bf0040>(4n³ − n)</font> + <font color=#008080>3 · (4n² + 4n + 1)</font>  \n",
    "\n",
    "<font color=#bf0040>*(4n³ − n)*</font> *-> teilbar da IV*    \n",
    "<font color=#008080>*3 · (4n² + 4n + 1)*</font> *-> teilbar*\n",
    "\n",
    "[zurück zur Aufgabe](#Aufgabe_3Teiler)"
   ]
  },
  {
   "cell_type": "markdown",
   "metadata": {},
   "source": [
    "<a id='Lösung_6Teiler'></a>\n",
    "### 6-Teiler\n",
    "**n³ + 5n ist durch 6 teilbar für alle n≥1**\n",
    "\n",
    "1. Induktionsanfang (n=1)    \n",
    "1³ + 1n = 6 -> 6 ist ein Teiler von 6\n",
    "\n",
    "2. Induktionsvoraussetzung (n)  \n",
    "Es gilt: n³ + 5n ist durch 6 teilbar für alle n ∈ ℕ    \n",
    "\n",
    "3. Induktionsbehauptung (n+1)  \n",
    "Es gilt: (n+1)³ + 5(n+1) ist durch 6 teilbar für alle n ∈ ℕ.      \n",
    "\n",
    "4. Induktionsschritt   \n",
    "(n + 1)³ + 5(n + 1)   \n",
    "= n³ + 3n² + 3n + 1 + 5n + 5     \n",
    "= (n³ + 5n) + 6 + (3n² + 3n)   \n",
    "= <font color=#bf0040>(n³ + 5n)</font> + <font color=#008080>6</font> + <font color=#859900>3 · n · (n + 1)</font>    \n",
    "<font color=#bf0040>*(n³ + 5n)*</font> *-> teilbar da IV*   \n",
    "<font color=#008080>*6*</font> *-> Teiler von 6*   \n",
    "<font color=#859900>*3 · n · (n + 1)*</font> *-> entweder n oder n+1 ist durch 2 teilbar, daher insgesamt durch 6 teilbar*\n",
    "\n",
    "[zurück zur Aufgabe](#Aufgabe_6Teiler)"
   ]
  },
  {
   "cell_type": "markdown",
   "metadata": {},
   "source": [
    "<a id='Lösung_Summenwerte'></a>\n",
    "### Summenwerte\n",
    "1. Induktionsanfang: (n=1)   \n",
    "$$1^2 = \\frac{1·(1+1)(2·1+1)}{6} = 1$$\n",
    " \n",
    "2. Induktionsvoraussetzung: (n)  \n",
    "Es gilt $$\\sum_{i=1}^n i^2 = \\frac{n·(n+1)·(2n+1)}{6}$$ für alle n ∈ ℕ\n",
    "\n",
    "3. Induktionsbehauptung: (n+1)   \n",
    "Es gilt $$\\sum_{i=1}^{n+1} i^2 = \\frac{(n+1)·((n+1)+1)·(2(n+1)+1)}{6}$$ für n ∈ ℕ\n",
    "\n",
    "4. Induktionsschritt:   \n",
    "$$\\sum_{i=1}^{n+1} i^2 = \\sum_{i=1}^n i^2 + (n+1)^2 = \\frac{n·(n+1)·(2n+1)}{6}+(n+1)^2 = \\frac{n(n+1)(2n+1)+6(n+1)^2}{6} =^* \\frac{(n+1)[n(2n+1)+6(n+1)]}{6} = \\frac{(n+1)(2n^2+7n+6)}{6} = \\frac{(n+1)(n+2)(2n+3)}{6} = \\frac{(n+1)·((n+1)+1)·(2(n+1)+1)}{6}$$\n",
    "\n",
    "*Hier wird die Gleichung nicht einfach umgestellt, sondern der Term (n+1) ausgeklammert\n",
    "\n",
    "[zurück zur Aufgabe](#Aufgabe_Summenwerte)"
   ]
  },
  {
   "cell_type": "markdown",
   "metadata": {},
   "source": [
    "<a id='Lösung_Ungleichung'></a>\n",
    "### Ungleichung\n",
    "<font color=#bf0040>2<sup>k</sup></font> ≥ <font color=#008080>k²</font>\n",
    "\n",
    "1. Induktionsanfang:   \n",
    "Im Fall k = 4 ist  2<sup>4</sup>  ≥ 4² ⟺ 16 ≥ 16. \n",
    "\n",
    "2. Induktionsvoraussetzung:   \n",
    "Es gilt: 2<sup>k</sup> ≥ k² für alle k ∈ ℕ ≥ 4.\n",
    "\n",
    "3. Induktionsbehauptung:    \n",
    "Es gilt: 2<sup>(k+1)</sup> ≥ (k+1)² für alle k ∈ ℕ ≥ 4.\n",
    "\n",
    "4. Induktionsschritt:    \n",
    "<font color=#bf0040>**2**<sup>**(k+1)**</sup></font> = 2 · 2<sup>k</sup> <font color=grey>*Die IB wird in die IV und einen Term (2) geteilt*</font>       \n",
    "2 · 2<sup>k</sup> ≥ 2k² <font color=grey>*Die andere Seite der IV muss dann ebenfalls mit 2 multipliziert werden*</font>              \n",
    "2k²= k² + k·k <font color=grey>*Für 2k² kann man auch k²+k² oder eben k²+k·k schreiben*</font>        \n",
    "k² + k·k ≥ k² + 4k <font color=grey>*Die IV gilt erst für ≥ 4, daher kann man ein k durch eine 4 ersetzen*</font>      \n",
    "k² + 4k = k² + 2k + 2k <font color=grey>*Diesen Schritt muss ich ja hoffentlich nicht erklären*</font>      \n",
    "k² + 2k + 2k ≥ k² + 2k + 2·4 <font color=grey>*Man kann k wieder durch 4 ersetzen*</font>       \n",
    "k² + 2k + 2·4 <font color=#bf0040>**>**</font> k² + 2k + 1 <font color=grey>*1 ist definitiv kleiner als 4*</font>       \n",
    "k² + 2k + 1 = <font color=#bf0040>**(k+1)²**</font> <font color=grey>*Den Schritt versteht hoffentlich wieder jeder*</font>\n",
    "\n",
    "*Hinweis: Das Niveau dieser Aufgabe entspricht nicht dem Klausurniveau. Sie soll euch nur zeigen, dass man manchmal ein wenig Herumexperimentieren muss. Traut euch einfach anzufangen und seht, wo es euch hinbringt.*\n",
    "\n",
    "[zurück zur Aufgabe](#Aufgabe_Ungleichung)"
   ]
  },
  {
   "cell_type": "markdown",
   "metadata": {},
   "source": [
    "<a id='Lösung_Bakterienkollonie'></a>\n",
    "### Bakterienkollonie\n",
    "1. Wie viele Bakterien existieren am Tag 1,2,3,4,5?   \n",
    "\n",
    "| Tag | Anzahl |\n",
    "|:---:|:------:|\n",
    "|  1  |    3   |\n",
    "|  2  |    5   |\n",
    "|  3  |    9   |\n",
    "|  4  |   17   |\n",
    "|  5  |   33   |\n",
    "\n",
    "2. Geben Sie eine Formel für die Anzahl der Bakterien am Tag n an.  \n",
    "T(n) = 2<sup>n</sup>+1\n",
    "\n",
    "3. Beweisen Sie diese durch vollständige Induktion mit Angabe von Induktionsanfang, -voraussetzung, -behauptung und -schritt.    \n",
    "**Induktionsanfang:**   \n",
    "T(1) = 2<sup>1</sup> + 1 = 3, stimmt laut Tabelle   \n",
    "**Induktionsvoraussetzung:**     \n",
    "T(n) = 2<sup>n</sup> + 1 gilt für alle n ∈ ℕ    \n",
    "**Induktionsbehauptung:**    \n",
    "T(n+1) = 2<sup>n+1</sup> + 1 gilt für alle n ∈ ℕ   \n",
    "**Induktionsschritt:**   \n",
    "Am nächsten Tag <font color=#008080>kommt die gleiche Anzahl an Bakterien hinzu</font> und dann <font color=#bf0040>stirbt ein Bakterium</font>. => <font color=#008080>+ 2<sup>n</sup> + 1</font> <font color=#bf0040>- 1</font>    \n",
    "T(n+1) = 2<sup>n</sup> + 1 <font color=#008080>+ 2<sup>n</sup> + 1</font> <font color=#bf0040>- 1</font> = 2 · 2<sup>n</sup> + 1 = 2<sup>n+1</sup> + 1\n",
    "\n",
    "[zurück zur Aufgabe](#Aufgabe_Bakterienkollonie)"
   ]
  },
  {
   "cell_type": "markdown",
   "metadata": {},
   "source": [
    "<a id='Lösung_Bäume'></a>\n",
    "### Bäume\n",
    "1. Induktionsanfang:   \n",
    "Im Fall n = 0 ist  2<sup>0+1</sup> - 1 = 1. \n",
    "\n",
    "2. Induktionsvoraussetzung:   \n",
    "Es gilt: Die gesamte Anzahl der Knoten eines vollständigen Binärbaums der Höhe n beträgt: 2<sup>n+1</sup>  - 1 für alle n ∈ ℕ.   \n",
    "\n",
    "3. Induktionsbehauptung:    \n",
    "Es gilt: Die gesamte Anzahl der Knoten eines vollständigen Binärbaums der Höhe n+1 beträgt: 2<sup>n+2</sup>  - 1 für alle n ∈ ℕ.\n",
    "\n",
    "4. Induktionsschritt:    \n",
    "2<sup>n+1</sup> - 1 + 2<sup>n+1</sup> = 2 · 2<sup>n+1</sup> - 1 = 2<sup>n+2</sup> - 1\n",
    "\n",
    "[zurück zur Aufgabe](#Aufgabe_Bäume)"
   ]
  }
 ],
 "metadata": {
  "kernelspec": {
   "display_name": "Python 3",
   "language": "python",
   "name": "python3"
  },
  "language_info": {
   "codemirror_mode": {
    "name": "ipython",
    "version": 3
   },
   "file_extension": ".py",
   "mimetype": "text/x-python",
   "name": "python",
   "nbconvert_exporter": "python",
   "pygments_lexer": "ipython3",
   "version": "3.7.6"
  }
 },
 "nbformat": 4,
 "nbformat_minor": 4
}
