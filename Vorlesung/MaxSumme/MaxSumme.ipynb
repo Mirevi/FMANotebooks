{
 "cells": [
  {
   "cell_type": "markdown",
   "metadata": {},
   "source": [
    "# Maximale Teilsumme\n",
    "**Problemstellung:** Gegeben ist eine Struktur aus ganzen Zahlen. Finde eine zusammenhängende Teilstruktur mit maximaler Summe. Das Problem kann auf verschiedene Dimensionen übertragen werden, insbesondere der 2D-Fall ist relevant. Wir betrachten hier jedoch zunächst den eindiemnsionalen Fall.\n",
    "\n",
    "## Problem 1D-MAXSUM\n",
    "**Problemstellung:** Gegeben ist eine Folge ganzer Zahlen. Finde die zusammenhängende Sequenz von Zahlen, die addiert einen maximalen Wert besitzt. Keine Sequenz bzw. eine Sequenz der Länge 0 besitzt die Teilsumme 0.\n",
    "\n",
    "**1D-Beispiel:** Beispiel ist aus [Solymosi 2017](https://rd.springer.com/chapter/10.1007/978-3-658-17546-7_2) entnommen: Wir haben den Kurs einer 1000-Euro-Aktie der Firma „MikroSofties“ verfolgt und wissen von jedem der letzten zehn Tage, wie viele Euro eine solche Aktie an diesem Tag an Wert gewonnen bzw. verloren hat (die folgende Tabelle zeigt ein Beispiel).\n",
    "\n",
    "| Tag.          |1  | 2 | 3 | 4 | 5 | 6 | 7 | 8 | 9 | 10| \n",
    "|---------------|---|---|---|---|---|---|---|---|---|---|\n",
    "| Gewinn/Verlust|5  |-8 |3  |3  |-5 |+7 |-2 |-7 |3  |5  | \n",
    "\n",
    "Insgesamt hat eine Aktie in den zehn Tagen ihren Wert um +4 Euro verändert (weil + 5 − 8 + 3 + 3 − 5 + 7 − 2 − 7 + 3 + 5 = +4 ist). Hätte man solche Aktien unmittelbar vor dem 3. Tag gekauft und unmittelbar nach dem 4. Tag verkauft, so hätte man pro Aktie 6 Euro Gewinn gemacht. Welchen maximalen Gewinn hätte man bei geschickter Wahl machen können?\n",
    "\n",
    "### Funktionale Spezifikation:\n",
    "**Eingabe:**\n",
    "$F=\\left( f_{1},\\ldots ,f_{n}\\right) ,f_{i}\\in \\mathbb{Z} $ mit\n",
    "$w:\\mathbb{Z} ^{\\ast}\\rightarrow \\mathbb{Z} ,w\\left( F\\right) =\\sum  \\limits^{n}_{i=1}f_{i}.$\n",
    "<!--img src=\"Bilder/SpezifikationMAXSUMEingabe.jpg\">-->\n",
    "**Ausgabe und funktionaler Zusammenhang:**\n",
    "$w \\in \\mathbb{Z}$ und es gilt: $\\exists G\\subseteq F$ mit\n",
    "$G=\\left(f_{n},\\ldots ,f_{k}\\right),$ $1\\leq h\\leq k\\leq n,f_{i}\\in F \\wedge \\forall H\\subseteq F:w\\left( H\\right) \\leq w\\left( G\\right) =w$\n",
    "\n",
    "<!--img src=\"Bilder/SpezifikationMAXSUMAusgabe.jpg\"> -->\n",
    "\n",
    "<!---\n",
    "## Problem 2D-MAXSUM\n",
    "**Problem in 2D:** Gegeben ist eine Matrix mit n Zeilen und m Spalten. Finde eine rechteckige Untertabelle, deren summierte Elemente maximal ist.\n",
    "\n",
    "**2D-Beispiel**\n",
    "\n",
    "**Praktische Relevanz:** Das Problem ist in der Bildbearbeitung, Genanalyse und Data Science relevant\n",
    "-->\n",
    "\n",
    "---\n",
    "## Algorithmus 1\n",
    "Naiver \"Brute Force\"-Ansatz: Wir bestimmen alle möglichen Teilfolgen, berechnen die jeweilige Summe und speichere die maximale Teilsumme."
   ]
  },
  {
   "cell_type": "code",
   "execution_count": 9,
   "metadata": {},
   "outputs": [
    {
     "name": "stdout",
     "output_type": "stream",
     "text": [
      "Die maximale Teilsumme der Folge  [-2, 1, 4, -6, 3, 1, 0, 0, -3] ist 5 und liegt zwischen Position 1 und 2\n"
     ]
    }
   ],
   "source": [
    "def max_teil_summe1(folge):\n",
    "    maxSumme = 0\n",
    "    leftMax, rightMax =-1,-1\n",
    "    size = len(folge)\n",
    "    \n",
    "    for i in range(0, size):\n",
    "        for j in range(i, size):\n",
    "            summe = 0\n",
    "            for k in range(i, j+1):\n",
    "                summe = summe + folge[k]\n",
    "            if summe > maxSumme:\n",
    "                maxSumme = summe\n",
    "                leftMax = i\n",
    "                rightMax = j\n",
    "                    \n",
    "    return maxSumme, leftMax, rightMax\n",
    "    \n",
    "\n",
    "folge1 = [5, -8, 3, 3, -5, 7, -2, -7, 3, 5]\n",
    "folge2 = [0,0,-1,0,-1,0]\n",
    "folge3 = [-2,1,4,-6,3,1,0,0,-3,]\n",
    "maxSum, liX, reX = 0,-1,-1\n",
    "maxSum, liX, reX  =max_teil_summe1(folge3)\n",
    "\n",
    "print(\"Die maximale Teilsumme der Folge \", folge3,\"ist\",maxSum,\"und liegt zwischen Position\",liX,'und', reX)\n",
    "  "
   ]
  },
  {
   "cell_type": "markdown",
   "metadata": {},
   "source": [
    "### Analyse Algorithmus 1\n",
    "**Informal bzw $O()$-Kalkül:** Der Algorithmus besitzt 3 ineinander geschachtelte Schleifen, die im schlimmsten Falle von 1 bis $n$ laufen, mit $n$ ist die Länge der Eingabefolge. Daher ist der Aufwand $O(n^{3})$\n",
    "\n",
    "**Exakte Analyse der Laufzeit durch Bestimmung von $T_{a}(n)$:**\n",
    "Der Algorithmus erzeugt jede mögliche Teilfolge. Wir betrachten die Anzahl und Länge aller möglichen Teilfolgen:\n",
    "* Es gibt genau 1 Teilfolge der Länge $n$: [1,...,n]\n",
    "* Es gibt genau 2 Teilfolgen der Länge $n-1$: [1,...,n-1], [2,...,n]\n",
    "* Es gibt genau 3 Teilfolgen der Länge $n-2$:[1,...,n-2], [2,...,n-1], [3,...,n]\n",
    "* ...dies lässt sich weiterführen bis Teilfolgen der Länge 1\n",
    "* Es gibt genau $n$ Teilfolgen der Länge 1:[1],[2],...,[n]\n",
    "\n",
    "Daraus lässt sich schließen, dass wir insgesamt $\\sum\\limits_{i=0}^{n}i=\\frac{n(n+1)}{2}$ Teilfolgen betrachten müssen. Für jede müssen wir die Anzahl der Elemente in der innersten Schleife aufaddieren, vgl Codezeile <code>summe = summe + folge[k]</code>. Dies bedeutet, dass in jeder Teilfolge der Länge $m$ genau m Zuweisungen der o.g. Codezeile erfolgen. Das ergibt folgende Abschätzung:\n",
    "<img src=\"Bilder/BerechnungExakterAufwandMAXSUM.jpg\">\n",
    "Es gilt also $T_{a}(n)=\\frac{n^3}{6}+\\frac{n^2}{2}+\\frac{n}{3}=O(n^3)$\n"
   ]
  },
  {
   "cell_type": "markdown",
   "metadata": {},
   "source": [
    "---\n",
    "## Algorithmus 2\n",
    "\n",
    "Eigentlich ist es unnötig, immer wieder die Summe auf 0 zu setzen, dann wieder neu zu berechnen und dann ein weiteres Folgeelement aufzuaddieren. Zwei Schleifen reichen also aus!"
   ]
  },
  {
   "cell_type": "code",
   "execution_count": 6,
   "metadata": {},
   "outputs": [
    {
     "name": "stdout",
     "output_type": "stream",
     "text": [
      "Die maximale Teilsumme der Folge  [5, -8, 3, 3, -5, 7, -2, -7, 3, 5] ist 8 und liegt zwischen Position 2 und 5\n"
     ]
    }
   ],
   "source": [
    "def max_teil_summe2(folge):\n",
    "    maxSumme = 0\n",
    "    leftMax, rightMax =-1,-1\n",
    "    size = len(folge)\n",
    "    \n",
    "    for i in range(0, size):\n",
    "        summe = 0\n",
    "        for j in range(i, size):\n",
    "            summe +=folge[j]\n",
    "            if summe > maxSumme:\n",
    "                maxSumme = summe\n",
    "                leftMax = i\n",
    "                rightMax = j\n",
    "    return maxSumme, leftMax, rightMax\n",
    "\n",
    "\n",
    "folge1 = [5, -8, 3, 3, -5, 7, -2, -7, 3, 5]\n",
    "maxSum, liX, reX = 0,-1,-1\n",
    "maxSum, liX, reX  =max_teil_summe2(folge1)\n",
    "\n",
    "print(\"Die maximale Teilsumme der Folge \", folge1,\"ist\",maxSum,\"und liegt zwischen Position\",liX,'und', reX)\n",
    "  "
   ]
  },
  {
   "cell_type": "markdown",
   "metadata": {},
   "source": [
    "### Analyse Algorithmus 2\n",
    "**Informal bzw. $O()$-Kalkül:** Der Algorithmus besitzt jetzt nur noch **2 ineinander geschachtelte Schleifen**, die im schlimmsten Falle von 1 bis $n$ laufen, mit $n$ ist die Länge der Eingabefolge. Daher ist der Aufwand **$O(n^{2})$**"
   ]
  },
  {
   "cell_type": "markdown",
   "metadata": {},
   "source": [
    "---\n",
    "## Algorithmus 3\n",
    "\n",
    "Die Idee des Algorithmus folgt dem *Divide and Conquer*-Prinzip, das wir noch in vielen anderen Ansätzen wiederentdecken werden. Grundlegender Ansatz ist, dass wir die Suche nach der maximalen Teilsumme aufteilen in drei Fälle:\n",
    "1. Suche im linken Teil der Mitte\n",
    "2. Suche im rechten Teil der Mitte\n",
    "3. Suche nach einer Teilsumme, die über die Mitte geht\n",
    "\n",
    "Im *ersten* und *zweiten* Fall ist die Fragestellung ein simpler rekursiver Aufruf mit geänderten Werten für linke Seite, Mitte und rechte Seite. Interessant ist der **3. Fall**: Eine Teilsumme, die über die Mitte läuft ist über einen rekursiven Aufruf nur schwer zu berechnen. \n",
    "\n",
    "Man kann sich aber folgende Eigenschaft überlegen und zu Nutze machen: Ausgehend von der Mitte suchen wir jeweils eine rechte und linke Teilsumme bis zur jeweiligen linken bzw. rechten Grenze. Dabei speichern wir die Teilsumme und die jeweiligen Indizes nur ab, wenn die Teilsumme größer als 0 wird, da wir ansonsten auch eine leere Folge hätten nehmen könnten. Die neue Teilsumme im Fall 3 berechnet sich dann aus beiden Teil-Teilsummen für rechts und links der Mitte.\n"
   ]
  },
  {
   "cell_type": "code",
   "execution_count": 7,
   "metadata": {},
   "outputs": [
    {
     "name": "stdout",
     "output_type": "stream",
     "text": [
      "Die maximale Teilsumme der Folge  [5, -8, 3, 3, -5, 7, -2, -7, 3, 5] ist 8 und liegt zwischen Position 8 und 9\n"
     ]
    }
   ],
   "source": [
    "def max_mitte_teilsumme(folge,links,mitte,rechts):\n",
    "    bisherMaxL = 0\n",
    "    bisherSum = 0\n",
    "    bisherMaxR = 0\n",
    "    # speichere Indizes des besten Kandidaten in diesen Variablen\n",
    "    maxL, maxR =-1,-1\n",
    "      \n",
    "    for i in range(mitte,links-1,-1):\n",
    "    # suche maximale Teilsumme von der Mitte aus nach links rückwärts\n",
    "        bisherSum+=folge[i]\n",
    "        \n",
    "        #wenn aktuelle Summe größer als bisherige\n",
    "        if (bisherSum > bisherMaxL):\n",
    "            bisherMaxL = bisherSum\n",
    "            # speichere linken Index\n",
    "            maxL =i\n",
    "    \n",
    "    \n",
    "    bisherSum = 0\n",
    "    for i in range(mitte+1,rechts+1):\n",
    "    #suche maximale Teilsumme von der Mitte aus nach rechts vorwärts\n",
    "        bisherSum+=folge[i]\n",
    "        \n",
    "        # wenn aktuelle Summe größer als bisherige\n",
    "        if (bisherSum > bisherMaxR):\n",
    "            bisherMaxR = bisherSum\n",
    "            # speichere rechten Index\n",
    "            maxR=i\n",
    "    # Teilsumme berechnet sich aus linker und rechter Teilfolge         \n",
    "    return bisherMaxL+bisherMaxR,maxL,maxR\n",
    "\n",
    "def max_teilsumme_rekursiv(folge, links, rechts):\n",
    "    laenge = len(folge)\n",
    "    links = int(links)\n",
    "    rechts = int(rechts)\n",
    "    leftIx, rightIx = -1,-1\n",
    "    \n",
    "    if 0 <= links <= rechts < laenge:\n",
    "\n",
    "        # Rekursionsanker, wenn nur 1 Element\n",
    "        if links == rechts:\n",
    "            # Teste ob Element kleiner al 0\n",
    "            if folge[links] < 0:\n",
    "                return 0,-1,-1\n",
    "            else:\n",
    "                # gib Wert und Grenzen zurück\n",
    "                return folge[links],links,links\n",
    "        else:\n",
    "            # Teile und bearbeite\n",
    "            mitte = (rechts+links)/2\n",
    "            \n",
    "            # Suche MAXSUM in linker Hälfte, liefere Summe, li / re Grenze\n",
    "            maxLinks,l_l,r_l = max_teilsumme_rekursiv(folge, links, mitte)\n",
    "            \n",
    "            # Suche MAXSUM in rechter Hälfte, liefere Summe, li / re Grenze\n",
    "            maxRechts,l_r,r_r = max_teilsumme_rekursiv(folge, mitte+1, rechts)   \n",
    "            \n",
    "            # Suche MAXSUM, die über die Mitte läuft\n",
    "            maxMitte,l_m,r_m = max_mitte_teilsumme(folge,links,int(mitte),rechts)\n",
    "            \n",
    "            # Welche der drei ist die größte? Speicher Wert + Grenzen\n",
    "            if maxLinks > maxRechts:\n",
    "                maxIx,leftIx,rightIx = maxLinks,l_l,r_l\n",
    "            else:\n",
    "                maxIx,leftIx,rightIx = maxRechts,l_r,r_r\n",
    "                \n",
    "            if maxMitte > maxIx:\n",
    "                return maxMitte, l_m, r_m\n",
    "            else:\n",
    "                return maxIx,leftIx,rightIx\n",
    "            \n",
    "    # Da lief etwas schief \n",
    "    return -1,-1,-1\n",
    "\n",
    "def max_teil_summe3(folge):\n",
    "    return max_teilsumme_rekursiv(folge, 0, len(folge)-1)\n",
    "\n",
    "folge1 = [5, -8, 3, 3, -5, 7, -2, -7, 3, 5]\n",
    "maxSum, liX, reX = 0,-1,-1\n",
    "maxSum, liX, reX  =max_teil_summe3(folge1)\n",
    "\n",
    "print(\"Die maximale Teilsumme der Folge \", folge1,\"ist\",maxSum,\"und liegt zwischen Position\",liX,'und', reX)"
   ]
  },
  {
   "cell_type": "markdown",
   "metadata": {},
   "source": [
    "### Analyse Algorithmus 3\n",
    "\n",
    "Informal bzw. $𝑂()$-Kalkül: Der Algorithmus ist rekursiv, daher kann die bekannte Analyse mit Zählen von Schleifen nicht eingesetzt werden. Ohne die Grundlagen hier zu vertiefen sei gesagt, dass der Ansatz des Aufteilens und Kombinierens analog zu einem bekannten Sortieralgorithmus (Merge-Sort) läuft. Diese hat eine Laufzeit von $O(n \\log{n})$ wie auch der hier vorliegende Algorithmus."
   ]
  },
  {
   "cell_type": "markdown",
   "metadata": {},
   "source": [
    "---\n",
    "## Algorithmus 4 (Kadane's Algorithm)\n",
    "\n",
    "Es muss noch schneller gehen, denn jedes Element der Folge wird mehrmals angefasst. **Neue Idee**: Eine *Teilsumme* von 0 ist immer untere Schranke, da jede leere Folge die Teilsumme 0 hat. Summiere Elemente von links auf und speichere die bisher größte Teilsumme. Falls neue Teilsumme < 0, setze aktuelle Summe auf 0, da die Teilfolge nicht die größte sein kann. Man könnte ja erst beim nächsten Folgenglied beginnen. Die Grenzen der zu bestimmenden maximalen Teilfolge werden wie bei den anderen Verfahren mitberechnet."
   ]
  },
  {
   "cell_type": "code",
   "execution_count": 8,
   "metadata": {},
   "outputs": [
    {
     "name": "stdout",
     "output_type": "stream",
     "text": [
      "Die maximale Teilsumme der Folge  [5, -8, 3, 3, -5, 7, -2, -7, 3, 5] ist 8 und liegt zwischen Position 2 und 5\n"
     ]
    }
   ],
   "source": [
    "def max_teil_summe4(folge):\n",
    "    liMax = reMAx = liTmp = 0\n",
    "\n",
    "    bisherMax = 0\n",
    "    randMax = 0\n",
    "    size = len(folge)\n",
    "    \n",
    "    for i in range(0, size):\n",
    "        randMax = max(0, randMax + folge[i])\n",
    "        \n",
    "        if randMax == 0:\n",
    "            liTmp = i+1\n",
    "        if randMax > bisherMax:\n",
    "            bisherMax = randMax\n",
    "            liMax = liTmp\n",
    "            reMax = i\n",
    "    return bisherMax, liMax, reMax\n",
    "\n",
    "folge1 = [5, -8, 3, 3, -5, 7, -2, -7, 3, 5]\n",
    "maxSum, liX, reX = 0,-1,-1\n",
    "maxSum, liX, reX  =max_teil_summe4(folge1)\n",
    "\n",
    "\n",
    "print(\"Die maximale Teilsumme der Folge \", folge1,\"ist\",maxSum,\"und liegt zwischen Position\",liX,'und', reX)\n",
    "   "
   ]
  },
  {
   "cell_type": "markdown",
   "metadata": {},
   "source": [
    "### Analyse Kadane Algorithmus\n",
    "\n",
    "Man erkennt schnell, dass die Laufzeit des Algorithmus $O(n)$ ist, da nur eine Schleife im Algorithmus vorhanden ist, die über alle Elemente läuft. Dies ist daher auch der beste Algorithmus für eine ungeordnete Liste von Werten, da jedes Element mindestens einmal angeschaut werden muss, ob es nicht das größte Element ist.\n",
    "\n",
    "Diese Lösung wurde laut Wikipedia von Jay Kadane innerhalb von Minuten entwickelt, nachdem er bei einem Seminar an der Carnegie Mellon University von dem Problem gehört hatte (siehe [Wikipedia Artikel über Maximum Subarray Problem](https://en.wikipedia.org/wiki/Maximum_subarray_problem))"
   ]
  },
  {
   "cell_type": "markdown",
   "metadata": {},
   "source": [
    "## Literatur\n",
    "\n",
    "Solymosi, Grude: Grundkurs Algorithmen und Datenstrukturen, Kapitel 2, [Gleichwertige Lösungen](http://www.springer.com/cda/content/document/cda_downloaddocument/9783658061951-c1.pdf?SGWID=0-0-45-1469806-p176975498), siehe auch Link zum [Kapitel des Springerbuch](https://rd.springer.com/chapter/10.1007/978-3-658-17546-7_2), Springer Verlag, 2017\n",
    "\n",
    "Wolfgang Urban, HIB Wien, Manuskript [Maximale Teilsummen](https://bio.informatik.uni-jena.de/wp/wp-content/uploads/2017/12/MaxPartSums.pdf), 2003 \n",
    "\n",
    "Largest Sum Contiguous Subarray, Lösungen in verschiedenen Programmiersprachen, Geeks for geeks, siehe [Link](https://www.geeksforgeeks.org/largest-sum-contiguous-subarray/) \n",
    "\n",
    "Wikipedia, Maximum Subarray Problem, siehe [Link](https://en.wikipedia.org/wiki/Maximum_subarray_problem)\n",
    "\n",
    "Tushar Roy, Maximum Sum Rectangular Submatrix in Matrix dynamic programming 2D Kadane Algorithm , [Youtube Tutorial](https://www.youtube.com/watch?v=yCQN096CwWM)"
   ]
  }
 ],
 "metadata": {
  "kernelspec": {
   "display_name": "Python 3",
   "language": "python",
   "name": "python3"
  },
  "language_info": {
   "codemirror_mode": {
    "name": "ipython",
    "version": 3
   },
   "file_extension": ".py",
   "mimetype": "text/x-python",
   "name": "python",
   "nbconvert_exporter": "python",
   "pygments_lexer": "ipython3",
   "version": "3.7.6"
  }
 },
 "nbformat": 4,
 "nbformat_minor": 4
}
