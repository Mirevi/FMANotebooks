{
 "cells": [
  {
   "cell_type": "markdown",
   "metadata": {},
   "source": [
    "# Fallstudie 2 - Anagramm Detektion\n",
    "Ein gutes Beispielproblem für die Darstellung von Algorithmen mit unterschiedlichen Größenordnungen ist das klassische Anagramm für Zeichenketten. Eine Zeichenfolge ist ein **Anagramm** einer anderen, wenn die zweite einfach eine Umordnung oder Permutation der ersten ist. Zum Beispiel sind *'Geburt'*, *Erbgut* und *'Betrug'* Anagramme. Die Zeichenfolgen *'Python'* und *'Typhon'* sind ebenfalls Anagramme. Der Einfachheit halber gehen wir davon aus, dass die beiden fraglichen Zeichenfolgen gleich lang sind und dass sie aus Symbolen aus der Menge der 26 Kleinbuchstaben des Alphabets bestehen. Unser Ziel ist es, eine boolesche Funktion zu schreiben, die zwei Zeichenketten nimmt und zurückgibt, ob sie Anagramme sind."
   ]
  },
  {
   "cell_type": "markdown",
   "metadata": {},
   "source": [
    "## Funktionale Spezifikation\n",
    "**Eingabe:** $W=(w_1,...,w_n), V=(v_1,...,v_n)$ sind Folgen von Buchstaben.\n",
    "\n",
    "**Ausgabe:** *ist_anagram* $\\in \\{true,false\\}$ mit\n",
    "\n",
    "**Funktionaler Zusammenhang** *ist_anagram* $\\iff \\Pi(W) = V$, d.h. $V$ ist eine Umordnung $\\Pi$ (Permutation) der Buchstaben von $W$, d.h. $\\forall w_i \\in W, \\exists $ *genau ein* $ v_j \\in V$  mit $w_i=v_j$"
   ]
  },
  {
   "cell_type": "markdown",
   "metadata": {},
   "source": [
    "## Lösung 1: Abhaken von Buchstaben\n",
    "Unsere erste Lösung des Anagramm-Problems prüft die Längen der Zeichenketten und dann, ob jedes Zeichen in der ersten Zeichenkette tatsächlich in der zweiten vorkommt. Wenn es möglich ist, jedes Zeichen \"abzuhaken\", dann müssen die beiden Zeichenketten Anagramme sein. Das Auschecken eines Zeichens wird durch Ersetzen durch den speziellen Python-Wert None erreicht. Da jedoch Zeichenketten in Python unveränderlich sind, besteht der erste Schritt in diesem Prozess darin, die zweite Zeichenkette in eine Liste zu konvertieren. Jedes Zeichen aus der ersten Zeichenfolge kann gegen die Zeichen in der Liste geprüft und, falls gefunden, durch Ersetzen abgehakt werden."
   ]
  },
  {
   "cell_type": "code",
   "execution_count": 1,
   "metadata": {},
   "outputs": [
    {
     "name": "stdout",
     "output_type": "stream",
     "text": [
      "Test von apple und pleap auf Permutation ist True\n",
      "Test von apple und fleap auf Permutation ist False\n"
     ]
    }
   ],
   "source": [
    "def anagramSolution1(s1,s2):\n",
    "    stillOK = True\n",
    "    if len(s1) != len(s2):\n",
    "        stillOK = False\n",
    "\n",
    "    alist = list(s2)\n",
    "    #print(alist)\n",
    "    pos1 = 0\n",
    "\n",
    "    while pos1 < len(s1) and stillOK:\n",
    "        pos2 = 0\n",
    "        found = False\n",
    "        while pos2 < len(alist) and not found:\n",
    "            if s1[pos1] == alist[pos2]:\n",
    "                found = True\n",
    "            else:\n",
    "                pos2 = pos2 + 1\n",
    "\n",
    "        if found:\n",
    "            alist[pos2] = None\n",
    "        else:\n",
    "            stillOK = False\n",
    "\n",
    "        pos1 = pos1 + 1\n",
    "\n",
    "        #print(alist)\n",
    "    return stillOK\n",
    "\n",
    "# TEST IT\n",
    "s1 = \"apple\"\n",
    "s2 = \"pleap\"\n",
    "s3 = \"fleap\"\n",
    "print(\"Test von\",s1,\"und\",s2,\"auf Permutation ist\",anagramSolution1(s1,s2))\n",
    "print(\"Test von\",s1,\"und\",s3,\"auf Permutation ist\",anagramSolution1(s1,s3))\n"
   ]
  },
  {
   "cell_type": "markdown",
   "metadata": {},
   "source": [
    "### Analyse: Der Algorithmus benötigt $𝑂(𝑛^2)$\n",
    "Um diesen Algorithmus zu analysieren, müssen wir beachten, dass jedes der $n$ Zeichen in s1 eine Iteration durch bis zu $n$ Zeichen in der Liste von s2 verursacht. Jede der $n$ Positionen in der Liste wird einmal besucht, um ein Zeichen aus s1 zu finden. Die Anzahl der Besuche wird dann zur Summe der ganzen Zahlen von $1$ bis $n$. Wir haben bereits erwähnt, dass dies geschrieben werden kann als $\\sum\\limits_{i=0}^{n}i=\\frac{n(n+1)}{2}$. Wenn $n$ groß wird, wird der Term $n^2$ den Term $n$ dominieren und der Faktor $\\frac{1}{2}$ kann ignoriert werden. Daher lautet die Lösung $𝑂(𝑛^2)$.\n"
   ]
  },
  {
   "cell_type": "markdown",
   "metadata": {},
   "source": [
    "## Lösung 2: Sortieren und Vergleichen\n",
    "Eine andere Lösung des Anagrammproblems wird sich die Tatsache zunutze machen, dass s1 und s2 zwar unterschiedlich sind, aber nur dann Anagramme sind, wenn sie aus **exakt denselben Zeichen** bestehen. Wenn wir also damit beginnen, jede Zeichenfolge alphabetisch von a bis z zu sortieren, werden wir am Ende die gleiche Zeichenfolge erhalten, wenn die beiden ursprünglichen Zeichenfolgen Anagramme sind. Das folgende Listing zeigt diese Lösung. Auch hier können wir in Python die eingebaute Sortiermethode für Listen verwenden, indem wir einfach jede Zeichenfolge am Anfang in eine Liste umwandeln."
   ]
  },
  {
   "cell_type": "code",
   "execution_count": 2,
   "metadata": {},
   "outputs": [
    {
     "name": "stdout",
     "output_type": "stream",
     "text": [
      "Test von regen und reagan auf Permutation ist False\n",
      "Test von regen und genre auf Permutation ist True\n"
     ]
    }
   ],
   "source": [
    "def anagramSolution2(s1,s2):\n",
    "    alist1 = list(s1)\n",
    "    alist2 = list(s2)\n",
    "\n",
    "    alist1.sort()\n",
    "    alist2.sort()\n",
    "    \n",
    "    #print(alist1)\n",
    "    #print(alist2)\n",
    "    \n",
    "    pos = 0\n",
    "    matches = True\n",
    "\n",
    "    while pos < len(s1) and matches:\n",
    "        if alist1[pos]==alist2[pos]:\n",
    "            pos = pos + 1\n",
    "        else:\n",
    "            matches = False\n",
    "\n",
    "    return matches\n",
    "\n",
    "# TEST IT\n",
    "s1 = \"regen\"\n",
    "s2 = \"reagan\"\n",
    "s3 = \"genre\"\n",
    "print(\"Test von\",s1,\"und\",s2,\"auf Permutation ist\",anagramSolution2(s1,s2))\n",
    "print(\"Test von\",s1,\"und\",s3,\"auf Permutation ist\",anagramSolution2(s1,s3))"
   ]
  },
  {
   "cell_type": "markdown",
   "metadata": {},
   "source": [
    "### Analyse: Der Algorithmus benötigt $O(n^2)$ bzw. $O(n \\log{n})$ \n",
    "Auf den ersten Blick mag man versucht sein, diesen Algorithmus für $O(n)$ zu halten, da es eine einfache Iteration gibt, um die n Zeichen nach dem Sortiervorgang zu vergleichen. Die beiden Aufrufe der Python-Sortiermethode sind jedoch nicht ohne eigene Kosten. Wie wir in einem späteren Kapitel sehen werden, ist die Sortierung typischerweise entweder $O(n^2)$ oder $O(n \\log{n})$, so dass die Sortieroperationen die Iteration dominieren. Letztendlich hat dieser Algorithmus die gleiche Größenordnung wie die des Sortiervorgangs."
   ]
  },
  {
   "cell_type": "markdown",
   "metadata": {},
   "source": [
    "## Lösung 3: Brute Force\n",
    "Eine Brute-Force-Technik zur Lösung eines Problems versucht typischerweise, alle Möglichkeiten zu berechnen und aus diesen die korrekte Lösung zu ermitteln. Für schwierige Probleme ist dies oft der einzige Lösungsansatz. Für unser Anagram-Problem können wir eine Liste aller möglichen Zeichenketten unter Verwendung der Zeichen aus s1 erzeugen und dann prüfen, ob s2 auftritt. "
   ]
  },
  {
   "cell_type": "code",
   "execution_count": 3,
   "metadata": {},
   "outputs": [
    {
     "name": "stdout",
     "output_type": "stream",
     "text": [
      "Test von regen und reagan auf Permutation ist False\n",
      "Test von regen und genre auf Permutation ist True\n"
     ]
    }
   ],
   "source": [
    "# swap ith and jth character of string\n",
    "def swap(s, i, j):\n",
    "    q = list(s)\n",
    "    q[i], q[j] = q[j], q[i]\n",
    "    return ''.join(q)\n",
    "\n",
    "\n",
    "# recursive function \n",
    "def _permute(p, s, permutes):\n",
    "    if p >= len(s) - 1:\n",
    "        permutes.append(s)\n",
    "        return\n",
    "\n",
    "    for i in range(p, len(s)):\n",
    "        _permute(p + 1, swap(s, p, i), permutes)\n",
    "\n",
    "\n",
    "# helper function\n",
    "def permute(s):\n",
    "    permutes = []\n",
    "    _permute(0, s, permutes)\n",
    "    return permutes\n",
    "\n",
    "\n",
    "def anagramSolution3(s1,s2):\n",
    "    all_permute = permute(s1)\n",
    "    for s in all_permute:\n",
    "        #print(s,'=?=',s2)\n",
    "        if s == s2:\n",
    "            return True\n",
    "    return False\n",
    "\n",
    "# TEST IT\n",
    "s1 = \"regen\"\n",
    "s2 = \"reagan\"\n",
    "s3 = \"genre\"\n",
    "print(\"Test von\",s1,\"und\",s2,\"auf Permutation ist\",anagramSolution3(s1,s2))\n",
    "print(\"Test von\",s1,\"und\",s3,\"auf Permutation ist\",anagramSolution3(s1,s3))"
   ]
  },
  {
   "cell_type": "markdown",
   "metadata": {},
   "source": [
    "### Analyse: Der Algorithmus benötigt $O(n!)$\n",
    "Allerdings gibt es bei diesem Ansatz eine Schwierigkeit. Bei der Generierung aller möglichen Zeichenketten aus s1 gibt es $n$ mögliche erste Zeichen, $n-1$ mögliche Zeichen für die zweite Position, $n-2$ mögliche Zeichen für die dritte Position, und so weiter. Die Gesamtzahl der möglichen Zeichenketten ist $n \\cdot (n-1)\\cdot (n-2) \\cdot ... \\cdot 3 \\cdot 2 \\cdot 1 = n!$. Obwohl einige der Zeichenketten Duplikate sein können, kann das Programm dies nicht im Voraus wissen, und so wird es immer $n!$ verschiedene Zeichenketten erzeugen.\n",
    "Es stellt sich heraus, dass 𝑛! sogar noch schneller wächst als 2𝑛, wenn n groß wird. In der Tat, wenn s1 20 Zeichen lang wäre, gäbe es $20!=2.432.902.008.176.640.000$ mögliche Permutationen. Wenn wir jede Sekunde eine Möglichkeit bearbeiten würden, bräuchten wir immer noch $77.146.816.596$ Jahre, um die gesamte Liste durchzugehen. Dies wird wahrscheinlich keine gute Lösung sein."
   ]
  },
  {
   "cell_type": "markdown",
   "metadata": {},
   "source": [
    "## Lösung 4: Zähle und Vergleiche\n",
    "Unsere endgültige Lösung des Anagrammproblems macht sich die Tatsache zunutze, dass zwei beliebige Anagramme die gleiche Anzahl von a's, die gleiche Anzahl von b's, die gleiche Anzahl von c's usw. haben. Um zu entscheiden, ob zwei Zeichenketten Anagramme sind, zählen wir zunächst, wie oft jedes Zeichen vorkommt. Da es 26 mögliche Zeichen gibt, können wir eine Liste von 26 Zählern verwenden, einen für jedes mögliche Zeichen. Jedes Mal, wenn wir ein bestimmtes Zeichen sehen, werden wir den Zähler an dieser Position inkrementieren. Wenn die beiden Listen von Zählern identisch sind, müssen die Zeichenketten letztlich Anagramme sein."
   ]
  },
  {
   "cell_type": "code",
   "execution_count": 4,
   "metadata": {},
   "outputs": [
    {
     "name": "stdout",
     "output_type": "stream",
     "text": [
      "Test von apple und pleap auf Permutation ist True\n",
      "Test von apple und fleap auf Permutation ist False\n"
     ]
    }
   ],
   "source": [
    "def anagramSolution4(s1,s2):\n",
    "    c1 = [0]*26\n",
    "    c2 = [0]*26\n",
    "\n",
    "    for i in range(len(s1)):\n",
    "        pos = ord(s1[i])-ord('a')\n",
    "        c1[pos] = c1[pos] + 1\n",
    "\n",
    "    for i in range(len(s2)):\n",
    "        pos = ord(s2[i])-ord('a')\n",
    "        c2[pos] = c2[pos] + 1\n",
    "\n",
    "    j = 0\n",
    "    stillOK = True\n",
    "    #print(c1)\n",
    "    #print(c2)\n",
    "    while j<26 and stillOK:\n",
    "        if c1[j]==c2[j]:\n",
    "            j = j + 1\n",
    "        else:\n",
    "            stillOK = False\n",
    "\n",
    "    return stillOK\n",
    "\n",
    "# TEST IT\n",
    "s1 = \"apple\"\n",
    "s2 = \"pleap\"\n",
    "s3 = \"fleap\"\n",
    "print(\"Test von\",s1,\"und\",s2,\"auf Permutation ist\",anagramSolution4(s1,s2))\n",
    "print(\"Test von\",s1,\"und\",s3,\"auf Permutation ist\",anagramSolution4(s1,s3))"
   ]
  },
  {
   "cell_type": "markdown",
   "metadata": {},
   "source": [
    "### Analyse: Der Algorithmus benötigt $O(n)$\n",
    "Auch hier hat die Lösung eine Reihe von Schleifen. Im Gegensatz zur ersten Lösung sind jedoch keine von diesen verschachtelt. Die ersten beiden Schleifen, die zum Zählen der Zeichen verwendet werden, laufen beide bis $n$. Die dritte Schleife, bei der die beiden Zähllisten verglichen werden, erfolgt immer in 26 Schritten, da es 26 mögliche Zeichen in den Zeichenketten gibt. Wenn wir alles zusammenzählen, erhalten wir $T(n)=2n+26$ Schritte. Das ist $O(n)$. Wir haben einen Algorithmus mit *linearer Größenordnung* gefunden, um dieses Problem effizient zu lösen.\n",
    "\n",
    "Bevor wir dieses Beispiel verlassen, müssen wir noch etwas über den Platzbedarf sagen. Obwohl die letzte Lösung in linearer Zeit ablaufen konnte, war dies nur möglich, wenn *zusätzlicher* Speicherplatz für die beiden Listen mit den Zeichenzahlen verwendet wurde. Mit anderen Worten, dieser Algorithmus opferte Platz, um Zeit zu gewinnen. Dies ist bei vielen effizienten Lösungen ein erkaufter Kompromiss. Bei vielen Gelegenheiten werden Sie Entscheidungen zwischen zeitlichen und räumlichen Kompromissen treffen müssen. In diesem Fall ist die Menge an zusätzlichem Speicherplatz nicht signifikant. Hätte das zugrundeliegende Alphabet jedoch Millionen von Zeichen, gäbe es mehr Bedenken. Wenn Ihnen als Informatiker die Wahl der Algorithmen überlassen wird, liegt es an Ihnen, die beste Nutzung der Computerressourcen für ein bestimmtes Problem zu bestimmen."
   ]
  },
  {
   "cell_type": "code",
   "execution_count": null,
   "metadata": {},
   "outputs": [],
   "source": []
  }
 ],
 "metadata": {
  "kernelspec": {
   "display_name": "Python 3",
   "language": "python",
   "name": "python3"
  },
  "language_info": {
   "codemirror_mode": {
    "name": "ipython",
    "version": 3
   },
   "file_extension": ".py",
   "mimetype": "text/x-python",
   "name": "python",
   "nbconvert_exporter": "python",
   "pygments_lexer": "ipython3",
   "version": "3.7.6"
  }
 },
 "nbformat": 4,
 "nbformat_minor": 4
}
