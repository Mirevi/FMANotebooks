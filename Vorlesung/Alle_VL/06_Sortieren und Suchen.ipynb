{
 "cells": [
  {
   "cell_type": "code",
   "execution_count": 3,
   "metadata": {},
   "outputs": [
    {
     "ename": "ModuleNotFoundError",
     "evalue": "No module named 'tutormagic'",
     "output_type": "error",
     "traceback": [
      "\u001b[1;31m---------------------------------------------------------------------------\u001b[0m",
      "\u001b[1;31mModuleNotFoundError\u001b[0m                       Traceback (most recent call last)",
      "\u001b[1;32m<ipython-input-3-d31836f5d23a>\u001b[0m in \u001b[0;36m<module>\u001b[1;34m\u001b[0m\n\u001b[1;32m----> 1\u001b[1;33m \u001b[0mget_ipython\u001b[0m\u001b[1;33m(\u001b[0m\u001b[1;33m)\u001b[0m\u001b[1;33m.\u001b[0m\u001b[0mrun_line_magic\u001b[0m\u001b[1;33m(\u001b[0m\u001b[1;34m'load_ext'\u001b[0m\u001b[1;33m,\u001b[0m \u001b[1;34m'tutormagic'\u001b[0m\u001b[1;33m)\u001b[0m\u001b[1;33m\u001b[0m\u001b[1;33m\u001b[0m\u001b[0m\n\u001b[0m",
      "\u001b[1;32m~\\anaconda3\\lib\\site-packages\\IPython\\core\\interactiveshell.py\u001b[0m in \u001b[0;36mrun_line_magic\u001b[1;34m(self, magic_name, line, _stack_depth)\u001b[0m\n\u001b[0;32m   2315\u001b[0m                 \u001b[0mkwargs\u001b[0m\u001b[1;33m[\u001b[0m\u001b[1;34m'local_ns'\u001b[0m\u001b[1;33m]\u001b[0m \u001b[1;33m=\u001b[0m \u001b[0msys\u001b[0m\u001b[1;33m.\u001b[0m\u001b[0m_getframe\u001b[0m\u001b[1;33m(\u001b[0m\u001b[0mstack_depth\u001b[0m\u001b[1;33m)\u001b[0m\u001b[1;33m.\u001b[0m\u001b[0mf_locals\u001b[0m\u001b[1;33m\u001b[0m\u001b[1;33m\u001b[0m\u001b[0m\n\u001b[0;32m   2316\u001b[0m             \u001b[1;32mwith\u001b[0m \u001b[0mself\u001b[0m\u001b[1;33m.\u001b[0m\u001b[0mbuiltin_trap\u001b[0m\u001b[1;33m:\u001b[0m\u001b[1;33m\u001b[0m\u001b[1;33m\u001b[0m\u001b[0m\n\u001b[1;32m-> 2317\u001b[1;33m                 \u001b[0mresult\u001b[0m \u001b[1;33m=\u001b[0m \u001b[0mfn\u001b[0m\u001b[1;33m(\u001b[0m\u001b[1;33m*\u001b[0m\u001b[0margs\u001b[0m\u001b[1;33m,\u001b[0m \u001b[1;33m**\u001b[0m\u001b[0mkwargs\u001b[0m\u001b[1;33m)\u001b[0m\u001b[1;33m\u001b[0m\u001b[1;33m\u001b[0m\u001b[0m\n\u001b[0m\u001b[0;32m   2318\u001b[0m             \u001b[1;32mreturn\u001b[0m \u001b[0mresult\u001b[0m\u001b[1;33m\u001b[0m\u001b[1;33m\u001b[0m\u001b[0m\n\u001b[0;32m   2319\u001b[0m \u001b[1;33m\u001b[0m\u001b[0m\n",
      "\u001b[1;32m<C:\\Users\\Katja\\anaconda3\\lib\\site-packages\\decorator.py:decorator-gen-65>\u001b[0m in \u001b[0;36mload_ext\u001b[1;34m(self, module_str)\u001b[0m\n",
      "\u001b[1;32m~\\anaconda3\\lib\\site-packages\\IPython\\core\\magic.py\u001b[0m in \u001b[0;36m<lambda>\u001b[1;34m(f, *a, **k)\u001b[0m\n\u001b[0;32m    185\u001b[0m     \u001b[1;31m# but it's overkill for just that one bit of state.\u001b[0m\u001b[1;33m\u001b[0m\u001b[1;33m\u001b[0m\u001b[1;33m\u001b[0m\u001b[0m\n\u001b[0;32m    186\u001b[0m     \u001b[1;32mdef\u001b[0m \u001b[0mmagic_deco\u001b[0m\u001b[1;33m(\u001b[0m\u001b[0marg\u001b[0m\u001b[1;33m)\u001b[0m\u001b[1;33m:\u001b[0m\u001b[1;33m\u001b[0m\u001b[1;33m\u001b[0m\u001b[0m\n\u001b[1;32m--> 187\u001b[1;33m         \u001b[0mcall\u001b[0m \u001b[1;33m=\u001b[0m \u001b[1;32mlambda\u001b[0m \u001b[0mf\u001b[0m\u001b[1;33m,\u001b[0m \u001b[1;33m*\u001b[0m\u001b[0ma\u001b[0m\u001b[1;33m,\u001b[0m \u001b[1;33m**\u001b[0m\u001b[0mk\u001b[0m\u001b[1;33m:\u001b[0m \u001b[0mf\u001b[0m\u001b[1;33m(\u001b[0m\u001b[1;33m*\u001b[0m\u001b[0ma\u001b[0m\u001b[1;33m,\u001b[0m \u001b[1;33m**\u001b[0m\u001b[0mk\u001b[0m\u001b[1;33m)\u001b[0m\u001b[1;33m\u001b[0m\u001b[1;33m\u001b[0m\u001b[0m\n\u001b[0m\u001b[0;32m    188\u001b[0m \u001b[1;33m\u001b[0m\u001b[0m\n\u001b[0;32m    189\u001b[0m         \u001b[1;32mif\u001b[0m \u001b[0mcallable\u001b[0m\u001b[1;33m(\u001b[0m\u001b[0marg\u001b[0m\u001b[1;33m)\u001b[0m\u001b[1;33m:\u001b[0m\u001b[1;33m\u001b[0m\u001b[1;33m\u001b[0m\u001b[0m\n",
      "\u001b[1;32m~\\anaconda3\\lib\\site-packages\\IPython\\core\\magics\\extension.py\u001b[0m in \u001b[0;36mload_ext\u001b[1;34m(self, module_str)\u001b[0m\n\u001b[0;32m     31\u001b[0m         \u001b[1;32mif\u001b[0m \u001b[1;32mnot\u001b[0m \u001b[0mmodule_str\u001b[0m\u001b[1;33m:\u001b[0m\u001b[1;33m\u001b[0m\u001b[1;33m\u001b[0m\u001b[0m\n\u001b[0;32m     32\u001b[0m             \u001b[1;32mraise\u001b[0m \u001b[0mUsageError\u001b[0m\u001b[1;33m(\u001b[0m\u001b[1;34m'Missing module name.'\u001b[0m\u001b[1;33m)\u001b[0m\u001b[1;33m\u001b[0m\u001b[1;33m\u001b[0m\u001b[0m\n\u001b[1;32m---> 33\u001b[1;33m         \u001b[0mres\u001b[0m \u001b[1;33m=\u001b[0m \u001b[0mself\u001b[0m\u001b[1;33m.\u001b[0m\u001b[0mshell\u001b[0m\u001b[1;33m.\u001b[0m\u001b[0mextension_manager\u001b[0m\u001b[1;33m.\u001b[0m\u001b[0mload_extension\u001b[0m\u001b[1;33m(\u001b[0m\u001b[0mmodule_str\u001b[0m\u001b[1;33m)\u001b[0m\u001b[1;33m\u001b[0m\u001b[1;33m\u001b[0m\u001b[0m\n\u001b[0m\u001b[0;32m     34\u001b[0m \u001b[1;33m\u001b[0m\u001b[0m\n\u001b[0;32m     35\u001b[0m         \u001b[1;32mif\u001b[0m \u001b[0mres\u001b[0m \u001b[1;33m==\u001b[0m \u001b[1;34m'already loaded'\u001b[0m\u001b[1;33m:\u001b[0m\u001b[1;33m\u001b[0m\u001b[1;33m\u001b[0m\u001b[0m\n",
      "\u001b[1;32m~\\anaconda3\\lib\\site-packages\\IPython\\core\\extensions.py\u001b[0m in \u001b[0;36mload_extension\u001b[1;34m(self, module_str)\u001b[0m\n\u001b[0;32m     78\u001b[0m             \u001b[1;32mif\u001b[0m \u001b[0mmodule_str\u001b[0m \u001b[1;32mnot\u001b[0m \u001b[1;32min\u001b[0m \u001b[0msys\u001b[0m\u001b[1;33m.\u001b[0m\u001b[0mmodules\u001b[0m\u001b[1;33m:\u001b[0m\u001b[1;33m\u001b[0m\u001b[1;33m\u001b[0m\u001b[0m\n\u001b[0;32m     79\u001b[0m                 \u001b[1;32mwith\u001b[0m \u001b[0mprepended_to_syspath\u001b[0m\u001b[1;33m(\u001b[0m\u001b[0mself\u001b[0m\u001b[1;33m.\u001b[0m\u001b[0mipython_extension_dir\u001b[0m\u001b[1;33m)\u001b[0m\u001b[1;33m:\u001b[0m\u001b[1;33m\u001b[0m\u001b[1;33m\u001b[0m\u001b[0m\n\u001b[1;32m---> 80\u001b[1;33m                     \u001b[0mmod\u001b[0m \u001b[1;33m=\u001b[0m \u001b[0mimport_module\u001b[0m\u001b[1;33m(\u001b[0m\u001b[0mmodule_str\u001b[0m\u001b[1;33m)\u001b[0m\u001b[1;33m\u001b[0m\u001b[1;33m\u001b[0m\u001b[0m\n\u001b[0m\u001b[0;32m     81\u001b[0m                     \u001b[1;32mif\u001b[0m \u001b[0mmod\u001b[0m\u001b[1;33m.\u001b[0m\u001b[0m__file__\u001b[0m\u001b[1;33m.\u001b[0m\u001b[0mstartswith\u001b[0m\u001b[1;33m(\u001b[0m\u001b[0mself\u001b[0m\u001b[1;33m.\u001b[0m\u001b[0mipython_extension_dir\u001b[0m\u001b[1;33m)\u001b[0m\u001b[1;33m:\u001b[0m\u001b[1;33m\u001b[0m\u001b[1;33m\u001b[0m\u001b[0m\n\u001b[0;32m     82\u001b[0m                         print((\"Loading extensions from {dir} is deprecated. \"\n",
      "\u001b[1;32m~\\anaconda3\\lib\\importlib\\__init__.py\u001b[0m in \u001b[0;36mimport_module\u001b[1;34m(name, package)\u001b[0m\n\u001b[0;32m    125\u001b[0m                 \u001b[1;32mbreak\u001b[0m\u001b[1;33m\u001b[0m\u001b[1;33m\u001b[0m\u001b[0m\n\u001b[0;32m    126\u001b[0m             \u001b[0mlevel\u001b[0m \u001b[1;33m+=\u001b[0m \u001b[1;36m1\u001b[0m\u001b[1;33m\u001b[0m\u001b[1;33m\u001b[0m\u001b[0m\n\u001b[1;32m--> 127\u001b[1;33m     \u001b[1;32mreturn\u001b[0m \u001b[0m_bootstrap\u001b[0m\u001b[1;33m.\u001b[0m\u001b[0m_gcd_import\u001b[0m\u001b[1;33m(\u001b[0m\u001b[0mname\u001b[0m\u001b[1;33m[\u001b[0m\u001b[0mlevel\u001b[0m\u001b[1;33m:\u001b[0m\u001b[1;33m]\u001b[0m\u001b[1;33m,\u001b[0m \u001b[0mpackage\u001b[0m\u001b[1;33m,\u001b[0m \u001b[0mlevel\u001b[0m\u001b[1;33m)\u001b[0m\u001b[1;33m\u001b[0m\u001b[1;33m\u001b[0m\u001b[0m\n\u001b[0m\u001b[0;32m    128\u001b[0m \u001b[1;33m\u001b[0m\u001b[0m\n\u001b[0;32m    129\u001b[0m \u001b[1;33m\u001b[0m\u001b[0m\n",
      "\u001b[1;32m~\\anaconda3\\lib\\importlib\\_bootstrap.py\u001b[0m in \u001b[0;36m_gcd_import\u001b[1;34m(name, package, level)\u001b[0m\n",
      "\u001b[1;32m~\\anaconda3\\lib\\importlib\\_bootstrap.py\u001b[0m in \u001b[0;36m_find_and_load\u001b[1;34m(name, import_)\u001b[0m\n",
      "\u001b[1;32m~\\anaconda3\\lib\\importlib\\_bootstrap.py\u001b[0m in \u001b[0;36m_find_and_load_unlocked\u001b[1;34m(name, import_)\u001b[0m\n",
      "\u001b[1;31mModuleNotFoundError\u001b[0m: No module named 'tutormagic'"
     ]
    }
   ],
   "source": [
    "%load_ext tutormagic"
   ]
  },
  {
   "cell_type": "code",
   "execution_count": 1,
   "metadata": {},
   "outputs": [],
   "source": [
    "import ipywidgets as widgets\n",
    "import ipywidgets as widgets\n",
    "from IPython.display import display\n",
    "from IPython.display import clear_output\n",
    "\n",
    "def create_multipleChoice_widget(description, options, correct_answer):\n",
    "    if correct_answer not in options:\n",
    "        options.append(correct_answer)\n",
    "        \n",
    "    correct_answer_index = options.index(correct_answer)\n",
    "    \n",
    "    radio_options = [(words, i) for i, words in enumerate(options)]\n",
    "    alternativ = widgets.RadioButtons(\n",
    "        options = radio_options,\n",
    "        description = '',\n",
    "        disabled = False\n",
    "    )\n",
    "    \n",
    "    description_out = widgets.Output()\n",
    "    with description_out:\n",
    "        print(description)\n",
    "        \n",
    "    feedback_out = widgets.Output()\n",
    "\n",
    "    def check_selection(b):\n",
    "        a = int(alternativ.value)\n",
    "        if a==correct_answer_index:\n",
    "            s = '\\x1b[6;30;42m' + \"Richtig.\" + '\\x1b[0m' +\"\\n\" #green color\n",
    "        else:\n",
    "            s = '\\x1b[5;30;41m' + \"Falsch. \" + '\\x1b[0m' +\"\\n\" #red color\n",
    "        with feedback_out:\n",
    "            clear_output()\n",
    "            print(s)\n",
    "        return\n",
    "    \n",
    "    check = widgets.Button(description=\"Eingabe\")\n",
    "    check.on_click(check_selection)\n",
    "    \n",
    "    \n",
    "    return widgets.VBox([description_out, alternativ, check, feedback_out])\n",
    "\n",
    "frage1 = 'Angenommen du möchtest eine sequentielle Suche in der Liste [15, 18, 2, 19, 18, 0, 8, 14, 19, 14] machen. Wie viele vergleiche wären Notwendig, um den Eintrag 18 zu finden?'\n",
    "frage2 = 'Angenommen du möchtest eine sequentielle Suche in der geordneten Liste [3, 5, 6, 8, 11, 12, 14, 15, 17, 18] machen. Wie viele Vergleiche benötigt man um den Eintrag 13 zu finden?'\n",
    "frage3 = 'Angenommen, Sie haben die folgende sortierte Liste [3, 5, 6, 8, 11, 12, 14, 15, 17, 18] und verwenden den rekursiven binären Suchalgorithmus. Welche Zahlengruppe zeigt korrekt die Reihenfolge der Vergleiche an, die verwendet wurde, um den Eintrag 8 zu finden?'\n",
    "frage4 = 'Angenommen, Sie haben die folgende sortierte Liste [3, 5, 6, 8, 11, 12, 14, 15, 17, 18] und verwenden den rekursiven binären Suchalgorithmus. Welche Zahlengruppe zeigt korrekt die Reihenfolge der Vergleiche an, die für die Suche nach dem Eintrag 16 verwendet wurde?'\n",
    "frage5 = 'Auf welche Indexpositionen würden die beiden Schlüssel 27 und 130 in einer Hash-Tabelle der Größe 13 abgebildet?'\n",
    "frage6 = 'Nehmen wir an, Sie erhalten den folgenden Satz von Schlüsseln, die Sie in eine Hash-Tabelle einfügen können, die genau 11 Werte enthält: 113 , 117 , 97 , 100 , 114 , 108 , 116 , 105 , 99. Welcher der folgenden Schlüssel demonstriert den Inhalt der Hashtabelle am besten, nachdem alle Schlüssel durch lineare Abtastung eingefügt wurden?'\n",
    "frage7 = 'Angenommen, Sie haben die folgende Liste von Nummern zu sortieren: [19, 1, 9, 7, 3, 10, 13, 15, 8, 12]. Welche Liste stellt die teilweise sortierte Liste nach drei vollständigen Durchläufen der Bubble-Sortierung dar?'\n",
    "frage8 = 'Angenommen, Sie haben die folgende Liste von Nummern zu sortieren: [11, 7, 12, 14, 19, 1, 6, 18, 8, 20]. Welche Liste stellt die teilweise sortierte Liste nach drei vollständigen Durchläufen der Auswahlsortierung dar?'\n",
    "frage9 = 'Angenommen, Sie haben die folgende Liste von Nummern zu sortieren: [15, 5, 4, 18, 12, 19, 14, 10, 8, 20]. Welche Liste stellt die teilweise sortierte Liste nach drei vollständigen Durchläufen der Auswahlsortierung dar?'\n",
    "frage10 = 'Angesichts der folgenden Liste von Zahlen: [5, 16, 20, 12, 3, 8, 9, 17, 19, 7]. Welche Antwort veranschaulicht den Inhalt der Liste, nachdem der Tausch bei einer Lückengröße von 3 abgeschlossen ist?'\n",
    "frage11 = 'Angesichts der folgenden Liste von Zahlen: [21, 1, 26, 45, 29, 28, 2, 9, 16, 49, 39, 27, 43, 34, 46, 40]. Welche Antwort veranschaulicht die zu sortierende Liste nach 3 rekursiven Aufrufen von Mergesort?'\n",
    "frage12 = 'Angesichts der folgenden Liste von Zahlen: [21, 1, 26, 45, 29, 28, 2, 9, 16, 49, 39, 27, 43, 34, 46, 40]. Welche Antwort veranschaulicht die ersten beiden Listen, die zusammengeführt werden sollen?'\n",
    "frage13 = 'Angesichts der folgenden Liste von Zahlen: [14, 17, 13, 15, 19, 10, 3, 16, 9, 12]. Welche Antwort zeigt den Inhalt der Liste nach der zweiten Partitionierung nach dem Quicksort-Algorithmus?'\n",
    "frage14 = 'Angesichts der folgenden Liste von Zahlen: [1, 20, 11, 5, 2, 9, 16, 14, 13, 19]. Was wäre der erste Pivot-Wert nach der Median-of-3-Methode?'\n",
    "#frage15 = 'TODO: Welche der folgenden Sortieralgorithmen sind selbst im schlimmsten Fall garantiert O(n log n)?'\n",
    "\n",
    "Q1 = create_multipleChoice_widget(frage1,['5','10','4','2'],'2')\n",
    "Q2 = create_multipleChoice_widget(frage2,['10','5','7','6'],'7')\n",
    "Q3 = create_multipleChoice_widget(frage3,['11, 5, 6, 8', '12, 6, 11, 8', '3, 5, 6, 8', '18, 12, 6, 8'],'12, 6, 11, 8')\n",
    "Q4 = create_multipleChoice_widget(frage4,['11, 14, 17', '18, 17, 15', '14, 17, 15', '12, 17, 15'],'12, 17, 15')\n",
    "Q5 = create_multipleChoice_widget(frage5,['1, 10', '13, 0', '1, 0', '2, 3'],'1, 0')\n",
    "Q6 = create_multipleChoice_widget(frage6,['100, __, __, 113, 114, 105, 116, 117, 97, 108, 99', '99, 100, __, 113, 114, __, 116, 117, 105, 97, 108', '100, 113, 117, 97, 14, 108, 116, 105, 99, __, __', '117, 114, 108, 116, 105, 99, __, __, 97, 100, 113'],'99, 100, __, 113, 114, __, 116, 117, 105, 97, 108')\n",
    "Q7 = create_multipleChoice_widget(frage7,['[1, 9, 19, 7, 3, 10, 13, 15, 8, 12]', '[1, 3, 7, 9, 10, 8, 12, 13, 15, 19]', '[1, 7, 3, 9, 10, 13, 8, 12, 15, 19]', '[1, 9, 19, 7, 3, 10, 13, 15, 12, 8]'],'[1, 3, 7, 9, 10, 8, 12, 13, 15, 19]')\n",
    "Q8 = create_multipleChoice_widget(frage8,['[7, 11, 12, 1, 6, 14, 8, 18, 19, 20]', '[7, 11, 12, 14, 19, 1, 6, 18, 8, 20]', '[11, 7, 12, 14, 1, 6, 8, 18, 19, 20]', '[11, 7, 12, 14, 8, 1, 6, 18, 19, 20]'],'[11, 7, 12, 14, 8, 1, 6, 18, 19, 20]')\n",
    "Q9 = create_multipleChoice_widget(frage9,['[4, 5, 12, 15, 14, 10, 8, 18, 19, 20]', '[15, 5, 4, 10, 12, 8, 14, 18, 19, 20]', '[4, 5, 15, 18, 12, 19, 14, 10, 8, 20]', '[15, 5, 4, 18, 12, 19, 14, 8, 10, 20]'],'[4, 5, 15, 18, 12, 19, 14, 10, 8, 20]')\n",
    "Q10 = create_multipleChoice_widget(frage10,['[5, 3, 8, 7, 16, 19, 9, 17, 20, 12]', '[3, 7, 5, 8, 9, 12, 19, 16, 20, 17]', '[3, 5, 7, 8, 9, 12, 16, 17, 19, 20]', '[5, 16, 20, 3, 8, 12, 9, 17, 20, 7]'],'[5, 3, 8, 7, 16, 19, 9, 17, 20, 12]')\n",
    "Q11 = create_multipleChoice_widget(frage11,['[16, 49, 39, 27, 43, 34, 46, 40]', '[21,1]', '[21, 1, 26, 45]', '[21]'],'[21,1]')\n",
    "Q12 = create_multipleChoice_widget(frage12,['[21, 1] und [26, 45]', '[[1, 2, 9, 21, 26, 28, 29, 45] and [16, 27, 34, 39, 40, 43, 46, 49]', '[21] und [1]', '[9] und [16]'],'[21] und [1]')\n",
    "Q13 = create_multipleChoice_widget(frage13,['[9, 3, 10, 13, 12]', '[9, 3, 10, 13, 12, 14]', '[9, 3, 10, 13, 12, 14, 17, 16, 15, 19]', '[9, 3, 10, 13, 12, 14, 19, 16, 15, 17]'],'[9, 3, 10, 13, 12, 14, 19, 16, 15, 17]')\n",
    "Q14 = create_multipleChoice_widget(frage14,['1','9','16','19'],'9')\n",
    "#Q15 = create_multipleChoice_widget(frage15,['x','y','z','a'],'a')"
   ]
  },
  {
   "cell_type": "markdown",
   "metadata": {},
   "source": [
    "# Sortieren und Suchen\n",
    "\n",
    "## Zielsetzungen\n",
    "\n",
    "* Sequentielle Suche und binäre Suche erklären und implementieren können.\n",
    "* Selection-Sort, Bubble-Sort, Merge-Sort, Quick-Sort, Insertion-Sort und Shell-Sort erklären und implementieren können.\n",
    "* Die Idee des Hashing als Suchtechnik verstehen.\n",
    "* Einführung in den abstrakten Datentyp <code>Map</code>.\n",
    "* Den abstrakten Datentyp <code>Map</code> mittels Hashing implementieren."
   ]
  },
  {
   "cell_type": "markdown",
   "metadata": {},
   "source": [
    "## Suchen\n",
    "Wir werden uns nun einigen der häufigsten Probleme zuwenden, die bei der Datenverarbeitung auftreten, nämlich denen des Suchens und Sortierens. In diesem Abschnitt werden wir die Suche untersuchen. Auf das Sortieren werden wir später in diesem Kapitel zurückkommen. Suchen ist der algorithmische Prozess des Auffindens eines bestimmten Gegenstandes in einer Sammlung von Gegenständen. Eine Suche beantwortet in der Regel die Frage, ob der Gegenstand vorhanden ist, entweder <code>True</code> oder <code>False</code>. Gelegentlich kann sie so modifiziert werden, dass sie dorthin zurückkehrt, wo der Gegenstand gefunden wurde. Für unsere Zwecke hier werden wir uns einfach mit der Frage der Zugehörigkeit befassen.\n",
    "\n",
    "In Python gibt es eine sehr einfache Möglichkeit zu überprüfen, ob ein Element in einer Liste von Elementen enthalten ist. Wir verwenden den Operator <code>in</code>.\n",
    "\n",
    "```python\n",
    ">>> 15 in [3,5,2,4,1]\n",
    "False\n",
    ">>> 3 in [3,5,2,4,1]\n",
    "True\n",
    "```\n",
    "\n",
    "Auch wenn dies leicht zu schreiben ist, muss ein zugrundeliegender Prozess durchgeführt werden, um die Frage zu beantworten. Es stellt sich heraus, dass es viele verschiedene Möglichkeiten gibt, nach dem Gegenstand zu suchen. Was uns hier interessiert, ist, wie diese Algorithmen funktionieren und wie sie miteinander verglichen werden."
   ]
  },
  {
   "cell_type": "markdown",
   "metadata": {},
   "source": [
    "## Die sequentielle Suche\n",
    "Wenn Datenelemente in einer Sammlung wie z.B. einer Liste gespeichert werden, sagen wir, dass sie eine lineare oder sequentielle Beziehung haben. Jedes Datenelement wird in einer Position relativ zu den anderen gespeichert. In Python-Listen sind diese relativen Positionen die Indexwerte der einzelnen Elemente. Da diese Indexwerte geordnet sind, ist es uns möglich, sie nacheinander zu besuchen. Aus diesem Prozess ergibt sich unsere erste Suchtechnik, die **sequentielle Suche**.\n",
    "\n",
    "*Abbildung 1* zeigt, wie diese Suche funktioniert. Beginnend mit dem ersten Eintrag in der Liste gehen wir einfach von Eintrag zu Eintrag und folgen der zugrunde liegenden sequentiellen Reihenfolge, bis wir entweder das Gesuchte finden oder uns die Einträge ausgehen. Gibt es keine Einträge mehr, bedeutet das, dass der gesuchte Eintrag nicht vorhanden ist.\n",
    "\n",
    "<center><img src=\"Bilder/SuchenUndSortieren/suche1.PNG\"></center>\n",
    "<center> Abbildung 1: Sequentielle Suche in einer Liste von ganzen Zahlen</center>\n",
    "\n",
    "Die Python-Implementierung für diesen Algorithmus wird in *Codebeispiel 1* gezeigt. Die Funktion benötigt die Liste und das gesuchte Element und gibt einen booleschen Wert zurück, ob das Element vorhanden ist oder nicht. Die boolesche Variable <code>found</code> wird mit <code>found</code>False initialisiert und erhält den Wert <code>True</code>, wenn wir das Element in der Liste entdecken.\n",
    "\n",
    "**Codebeispiel 1:**"
   ]
  },
  {
   "cell_type": "code",
   "execution_count": null,
   "metadata": {},
   "outputs": [],
   "source": [
    "%%tutor -l python3 -s -h 700\n",
    "\n",
    "def sequentialSearch(alist, item):\n",
    "    pos = 0\n",
    "    found = False\n",
    "\n",
    "    while pos < len(alist) and not found:\n",
    "        if alist[pos] == item:\n",
    "            found = True\n",
    "        else:\n",
    "            pos = pos+1\n",
    "\n",
    "    return found\n",
    "\n",
    "testlist = [1, 2, 32, 8, 17, 19, 42, 13, 0]\n",
    "print(sequentialSearch(testlist, 3))\n",
    "print(sequentialSearch(testlist, 13))"
   ]
  },
  {
   "cell_type": "markdown",
   "metadata": {},
   "source": [
    "### Analyse der sequentiellen Suche\n",
    "Um Suchalgorithmen zu analysieren, müssen wir uns auf eine grundlegende Berechnungseinheit festlegen. Erinnern Sie sich, dass dies normalerweise der übliche Schritt ist, der wiederholt werden muss, um das Problem zu lösen. Für die Suche ist es sinnvoll, die Anzahl der durchgeführten Vergleiche zu zählen. Jeder Vergleich kann das gesuchte Element entdecken oder auch nicht. Darüber hinaus gehen wir hier von einer weiteren Annahme aus. Die Artikelliste ist in keiner Weise geordnet. Die Artikel wurden nach dem Zufallsprinzip in die Liste aufgenommen. Mit anderen Worten, die Wahrscheinlichkeit, dass sich der gesuchte Eintrag an einer bestimmten Position befindet, ist für jede Position in der Liste genau gleich.\n",
    "\n",
    "Wenn der Eintrag nicht in der Liste enthalten ist, besteht die einzige Möglichkeit, dies zu wissen darin, ihn mit jedem vorhandenen Eintrag zu vergleichen. Wenn es n Elemente gibt, dann erfordert die sequentielle Suche n Vergleiche, um festzustellen, dass das Element nicht vorhanden ist. Existiert der Eintrag in der Liste, ist die Analyse nicht so einfach. Es können tatsächlich drei verschiedene Szenarien auftreten. Im besten Fall finden wir den Gegenstand an der ersten Stelle, die wir uns ansehen, am Anfang der Liste. Wir brauchen nur einen Vergleich. Im schlimmsten Fall werden wir den Gegenstand erst beim allerletzten Vergleich, dem n-ten Vergleich, finden.\n",
    "\n",
    "Was ist mit dem durchschnittlichen Fall? Im Durchschnitt finden wir den Punkt etwa in der Mitte der Liste, d.h. wir vergleichen ihn mit $ \\frac{n}{2} $ Punkten. Denken Sie jedoch daran, dass mit zunehmender Größe von n die Koeffizienten, gleichgültig um welchen Wert es sich handelt, in unserer Näherung unbedeutend werden, so dass die Komplexität der sequentiellen Suche $O(n)$ beträgt. *Tabelle 1* fasst diese Ergebnisse zusammen.\n",
    "\n",
    "|Fall|Best Case|Worst Case|Average Case|\n",
    "|---|---|---|---|\n",
    "|Eintrag vorhanden|$1$|$n$|$ \\frac{n}{2} $ |\n",
    "|Eintrag nicht vorhanden|$n$|$n$|$n$|\n",
    "\n",
    "<center>Tabelle 1: Genutzte Vergleiche bei einer sequentiellen Sucher einer ungeordneten Liste</center>\n",
    "\n",
    "Wir sind vorhin davon ausgegangen, dass die Objekte in unserer Sammlung zufällig platziert wurden, so dass es keine relative Ordnung zwischen den Objekten gibt. Was würde mit der sequentiellen Suche geschehen, wenn die Gegenstände auf irgendeine Weise geordnet würden? Würden wir unsere Suchtechnik effizienter gestalten können?\n",
    "\n",
    "Nehmen wir an, dass die Liste der Einträge so konstruiert wurde, dass die Einträge in aufsteigender Reihenfolge, von niedrig bis hoch, angeordnet waren. Wenn der gesuchte Eintrag in der Liste vorhanden ist, ist die Wahrscheinlichkeit, dass er sich in einer der n Positionen befindet, immer noch dieselbe wie zuvor. Wir werden immer noch die gleiche Anzahl von Vergleichen haben, um den Artikel zu finden. Wenn der gesuchte Eintrag jedoch nicht vorhanden ist, besteht ein leichter Vorteil. *Abbildung 2* zeigt diesen Prozess, wenn der Algorithmus nach dem Eintrag 50 sucht. Beachten Sie, dass die Einträge noch bis 54 nacheinander verglichen werden. An diesem Punkt wissen wir jedoch etwas mehr. 54 ist nicht nur nicht der gesuchte Eintrag, sondern auch alle Einträge nach 54 sind nicht der gesuchte Eintrag, da die Liste sortiert ist. In diesem Fall muss der Algorithmus nicht alle Elemente weiter durchsuchen, um zu melden, dass das Element nicht gefunden wurde. Er kann sofort abbrechen. *Codebeispiel 2* zeigt diese Variante der sequentiellen Suchfunktion.\n",
    "\n",
    "<center><img src=\"Bilder/SuchenUndSortieren/suche2.PNG\"></center>\n",
    "<center> Abbildung 2: Sequentielle Suche in einer geordneten Liste von ganzen Zahlen</center>\n",
    "\n",
    "**Codebeispiel 2:**"
   ]
  },
  {
   "cell_type": "code",
   "execution_count": null,
   "metadata": {
    "scrolled": true
   },
   "outputs": [],
   "source": [
    "%%tutor -l python3 -s -h 700\n",
    "\n",
    "def orderedSequentialSearch(alist, item):\n",
    "    pos = 0\n",
    "    found = False\n",
    "    stop = False\n",
    "    while pos < len(alist) and not found and not stop:\n",
    "        if alist[pos] == item:\n",
    "            found = True\n",
    "        else:\n",
    "            if alist[pos] > item:\n",
    "                stop = True\n",
    "            else:\n",
    "                pos = pos+1\n",
    "\n",
    "    return found\n",
    "\n",
    "testlist = [0, 1, 2, 8, 13, 17, 19, 32, 42,]\n",
    "print(orderedSequentialSearch(testlist, 3))\n",
    "print(orderedSequentialSearch(testlist, 13))"
   ]
  },
  {
   "cell_type": "markdown",
   "metadata": {},
   "source": [
    "*Tabelle 2* fasst diese Ergebnisse zusammen. Beachten Sie, dass wir im besten Fall feststellen könnten, dass der Eintrag nicht in der Liste enthalten ist, wenn wir uns nur einen Eintrag ansehen. Im Durchschnitt werden wir es wissen, wenn wir nur  $ \\frac{n}{2} $ Einträge durchsehen. Diese Technik ist jedoch immer noch $O(n)$. Zusammenfassend lässt sich sagen, dass eine sequentielle Suche verbessert wird, wenn die Liste geordnet ist, wenn wir den Eintrag nicht finden.\n",
    "\n",
    "|Fall|Best Case|Worst Case|Average Case|\n",
    "|---|---|---|---|\n",
    "|Eintrag vorhanden|$1$|$n$|$ \\frac{n}{2} $ |\n",
    "|Eintrag nicht vorhanden|$1$|$n$|$\\frac{n}{2} $|\n",
    "\n",
    "<center>Tabelle 2: Genutzte Vergleiche bei einer sequentiellen Sucher einer geordneten Liste</center>\n",
    "\n",
    "---\n",
    "**Selbstüberprüfung**"
   ]
  },
  {
   "cell_type": "code",
   "execution_count": null,
   "metadata": {},
   "outputs": [],
   "source": [
    "display(Q1)\n",
    "display(Q2)"
   ]
  },
  {
   "cell_type": "markdown",
   "metadata": {},
   "source": [
    "---\n",
    "## Die binäre Suche\n",
    "Es ist möglich, die geordnete Liste besser auszunutzen, wenn wir geschickt mit unseren Vergleichen umgehen. Bei der sequentiellen Suche, wenn wir mit dem ersten Eintrag vergleichen, gibt es höchstens $n-1$ weitere Einträge zu durchsuchen, wenn der erste Eintrag nicht das ist, was wir suchen. Anstatt die Liste der Reihe nach zu durchsuchen, beginnt eine **binäre Suche** mit der Untersuchung des mittleren Elements. Wenn dieser Punkt derjenige ist, nach dem wir suchen, sind wir fertig. Wenn es nicht der richtige Gegenstand ist, können wir die geordnete Natur der Liste nutzen, um die Hälfte der verbleibenden Gegenstände zu eliminieren. Wenn der gesuchte Gegenstand größer als der mittlere ist, wissen wir, dass sowohl die gesamte untere Hälfte der Liste als auch der mittlere Gegenstand von der weiteren Betrachtung ausgeschlossen werden kann. Wenn der Gegenstand in der Liste enthalten ist, muss er sich in der oberen Hälfte befinden.\n",
    "\n",
    "Dann können wir den Prozess mit der oberen Hälfte wiederholen. Beginnen Sie mit dem mittleren Punkt und vergleichen Sie ihn mit dem, was wir suchen. Auch hier finden wir es entweder oder wir teilen die Liste in zwei Hälften und eliminieren damit einen weiteren großen Teil unseres möglichen Suchraums. *Abbildung 3* zeigt, wie dieser Algorithmus schnell den Wert 54 finden kann. Die vollständige Funktion ist in *Codebeispiel 3* dargestellt.\n",
    "\n",
    "<center><img src=\"Bilder/SuchenUndSortieren/suche3.PNG\"></center>\n",
    "<center> Abbildung 2: Binäre Suche in einer geordneten Liste von ganzen Zahlen</center>\n",
    "\n",
    "**Codebeispiel 3:**"
   ]
  },
  {
   "cell_type": "code",
   "execution_count": null,
   "metadata": {},
   "outputs": [],
   "source": [
    "%%tutor -l python3 -s -h 700\n",
    "\n",
    "def binarySearch(alist, item):\n",
    "    first = 0\n",
    "    last = len(alist)-1\n",
    "    found = False\n",
    "\n",
    "    while first<=last and not found:\n",
    "        midpoint = (first + last)//2\n",
    "        if alist[midpoint] == item:\n",
    "            found = True\n",
    "        else:\n",
    "            if item < alist[midpoint]:\n",
    "                last = midpoint-1\n",
    "            else:\n",
    "                first = midpoint+1\n",
    "\n",
    "    return found\n",
    "\n",
    "testlist = [0, 1, 2, 8, 13, 17, 19, 32, 42,]\n",
    "print(binarySearch(testlist, 3))\n",
    "print(binarySearch(testlist, 13))"
   ]
  },
  {
   "cell_type": "markdown",
   "metadata": {},
   "source": [
    "Bevor wir zur Analyse übergehen, sollten wir beachten, dass dieser Algorithmus ein großartiges Beispiel für eine Divide and Conquer-Strategie ist. Teilen und Beherrschen bedeutet, dass wir das Problem in kleinere Teile zerlegen, die kleineren Teile auf irgendeine Weise lösen und dann das ganze Problem wieder zusammensetzen, um das Ergebnis zu erhalten. Wenn wir eine binäre Suche in einer Liste durchführen, überprüfen wir zunächst den mittleren Punkt. Wenn das gesuchte Element weniger als das mittlere Element ist, können wir einfach eine binäre Suche in der linken Hälfte der ursprünglichen Liste durchführen. Ist das gesuchte Element grösser, können wir auch eine binäre Suche in der rechten Hälfte der Liste durchführen. In beiden Fällen handelt es sich um einen rekursiven Aufruf der binären Suchfunktion, bei dem eine kleinere Liste durchlaufen wird. *Codebeispiel 4* zeigt diese rekursive Version.\n",
    "\n",
    "**Codebeispiel 4:**"
   ]
  },
  {
   "cell_type": "code",
   "execution_count": 3,
   "metadata": {},
   "outputs": [
    {
     "name": "stderr",
     "output_type": "stream",
     "text": [
      "UsageError: Cell magic `%%tutor` not found.\n"
     ]
    }
   ],
   "source": [
    "%%tutor -l python3 -s -h 700\n",
    "def binarySearch(alist, item):\n",
    "    if len(alist) == 0:\n",
    "        return False\n",
    "    else:\n",
    "        midpoint = len(alist)//2\n",
    "        if alist[midpoint]==item:\n",
    "          return True\n",
    "        else:\n",
    "          if item<alist[midpoint]:\n",
    "            return binarySearch(alist[:midpoint],item)\n",
    "          else:\n",
    "            return binarySearch(alist[midpoint+1:],item)\n",
    "\n",
    "testlist = [0, 1, 2, 8, 13, 17, 19, 32, 42,]\n",
    "print(binarySearch(testlist, 3))\n",
    "print(binarySearch(testlist, 13))"
   ]
  },
  {
   "cell_type": "markdown",
   "metadata": {},
   "source": [
    "### Analyse der binären Suche\n",
    "Um den binären Suchalgorithmus zu analysieren, müssen wir uns daran erinnern, dass bei jedem Vergleich etwa die Hälfte der verbleibenden Elemente aus der Betrachtung eliminiert wird. Was ist die maximale Anzahl von Vergleichen, die dieser Algorithmus benötigt, um die gesamte Liste zu überprüfen? Wenn wir mit $n$ Einträgen beginnen, bleiben nach dem ersten Vergleich etwa $ \\frac{n}{2} $ Einträge übrig. Nach dem zweiten Vergleich verbleiben etwa $ \\frac{n}{4} $. Dann $ \\frac{n}{8} $, $ \\frac{n}{16} $, und so weiter. Wie oft können wir die Liste aufteilen? *Tabelle 3* hilft uns, die Antwort zu sehen.\n",
    "\n",
    "|Vergleiche|Ungefähre Anzahl der verbleibenden Elemente|\n",
    "|---|---|\n",
    "|1|$ \\frac{n}{2} $ |\n",
    "|2|$ \\frac{n}{2} $ |\n",
    "|3|$ \\frac{n}{2} $ |\n",
    "|...| |\n",
    "|i|$ \\frac{n}{2^i} $ |\n",
    "\n",
    "<center> Tabelle 3: Tabellarische Analyse für eine binäre Suche</center>\n",
    "\n",
    "Wenn wir die Liste oft genug aufteilen, erhalten wir am Ende eine Liste, die nur einen Punkt enthält. Entweder ist das der Punkt, den wir suchen, oder er ist es nicht. So oder so, wir sind fertig. Die Anzahl der Vergleiche, die notwendig sind, um an diesen Punkt zu gelangen, ist *i*, wobei $ \\frac{n}{2^i}  = 1$. Die Lösung für *i* gibt uns $i = log n$. Die maximale Anzahl von Vergleichen ist logarithmisch in Bezug auf die Anzahl der Einträge in der Liste. Daher ist die binäre Suche $O(log n)$.\n",
    "\n",
    "Eine zusätzliche Analysefrage muss noch geklärt werden. In der oben gezeigten rekursiven Lösung nutzt der rekursive Aufruf, <code>binarySearch(alist[:midpoint],item)</code> den Slice-Operator, um die linke Hälfte der Liste zu erstellen, die dann an den nächsten Aufruf übergeben wird (ähnlich auch für die rechte Hälfte). Die Analyse, die wir oben durchgeführt haben, ging davon aus, dass der Slice-Operator konstante Zeit benötigt. Wir wissen jedoch, dass der Slice-Operator in Python tatsächlich O(k) ist. Das bedeutet, dass die binäre Suche mit slice nicht in streng logarithmischer Zeit erfolgt. Glücklicherweise kann dies behoben werden, indem die Liste zusammen mit dem Start- und Endindex weitergegeben wird. Die Indizes können wie in *Tabelle 3* berechnet werden. Wir belassen diese Implementierung als Übung.\n",
    "\n",
    "Auch wenn eine binäre Suche im Allgemeinen besser ist als eine sequentielle Suche, ist es wichtig zu beachten, dass sich bei kleinen Werten von *n* die zusätzlichen Kosten für die Sortierung wahrscheinlich nicht lohnen. Tatsächlich sollten wir immer überlegen, ob es kosteneffektiv ist, die zusätzliche Arbeit des Sortierens zu übernehmen, um Vorteile bei der Suche zu erzielen. Wenn wir einmal sortieren und dann viele Male suchen können, sind die Kosten für die Sortierung nicht so erheblich. Bei großen Listen kann jedoch eine einmalige Sortierung so kostspielig sein, dass eine einfache sequentielle Suche von Anfang an die beste Wahl sein kann.\n",
    "\n",
    "---\n",
    "**Selbstüberprüfung**"
   ]
  },
  {
   "cell_type": "code",
   "execution_count": 2,
   "metadata": {},
   "outputs": [
    {
     "name": "stdout",
     "output_type": "stream",
     "text": [
      "Angenommen, Sie haben die folgende sortierte Liste [3, 5, 6, 8, 11, 12, 14, 15, 17, 18] und verwenden den rekursiven binären Suchalgorithmus. Welche Zahlengruppe zeigt korrekt die Reihenfolge der Vergleiche an, die verwendet wurde, um den Eintrag 8 zu finden?\n"
     ]
    },
    {
     "data": {
      "application/vnd.jupyter.widget-view+json": {
       "model_id": "c7a1413b728049b299832060960e38e5",
       "version_major": 2,
       "version_minor": 0
      },
      "text/plain": [
       "RadioButtons(options=('11, 5, 6, 8', '12, 6, 11, 8', '3, 5, 6, 8', '18, 12, 6, 8'), value='11, 5, 6, 8')"
      ]
     },
     "metadata": {},
     "output_type": "display_data"
    },
    {
     "name": "stdout",
     "output_type": "stream",
     "text": [
      "Angenommen, Sie haben die folgende sortierte Liste [3, 5, 6, 8, 11, 12, 14, 15, 17, 18] und verwenden den rekursiven binären Suchalgorithmus. Welche Zahlengruppe zeigt korrekt die Reihenfolge der Vergleiche an, die für die Suche nach dem Eintrag 16 verwendet wurde?\n"
     ]
    },
    {
     "data": {
      "application/vnd.jupyter.widget-view+json": {
       "model_id": "df20faf93d704abab62294fa829eff9f",
       "version_major": 2,
       "version_minor": 0
      },
      "text/plain": [
       "RadioButtons(options=('11, 14, 17', '18, 17, 15', '14, 17, 15', '12, 17, 15'), value='11, 14, 17')"
      ]
     },
     "metadata": {},
     "output_type": "display_data"
    },
    {
     "data": {
      "application/vnd.jupyter.widget-view+json": {
       "model_id": "9314b6360e79414c88113fd303664432",
       "version_major": 2,
       "version_minor": 0
      },
      "text/plain": [
       "Button(description='Überprüfen', icon='check', style=ButtonStyle(), tooltip='Click me')"
      ]
     },
     "metadata": {},
     "output_type": "display_data"
    }
   ],
   "source": [
    "display(Q3)\n",
    "display(Q4)"
   ]
  },
  {
   "cell_type": "markdown",
   "metadata": {},
   "source": [
    "---\n",
    "## Hashing\n",
    "In den vorhergehenden Abschnitten konnten wir unsere Suchalgorithmen verbessern, indem wir Informationen darüber ausnutzten, wo in der Sammlung Gegenstände im Verhältnis zueinander aufbewahrt werden. Wenn wir zum Beispiel wüssten, dass eine Liste geordnet ist, konnten wir mit Hilfe einer binären Suche in logarithmischer Zeit suchen. In diesem Abschnitt werden wir versuchen, einen Schritt weiter zu gehen, indem wir eine Datenstruktur aufbauen, die in $O(1)$-Zeit durchsucht werden kann. Dieses Konzept wird als **Hashing** bezeichnet.\n",
    "\n",
    "Dazu müssen wir noch mehr darüber wissen, wo sich die Gegenstände befinden könnten, wenn wir in der Sammlung nach ihnen suchen. Wenn jeder Gegenstand dort ist, wo er sein sollte, dann kann die Suche mit einem einzigen Vergleich das Vorhandensein eines Gegenstandes feststellen. Wir werden jedoch sehen, dass dies normalerweise nicht der Fall ist.\n",
    "\n",
    "Eine **Hash-Tabelle** ist eine Sammlung von Elementen, die so gespeichert werden, dass sie später leicht wiedergefunden werden können. Jede Position der Hash-Tabelle, die oft als **Slot** bezeichnet wird, kann ein Element aufnehmen und wird durch einen ganzzahligen Wert, beginnend bei 0, benannt. Zum Beispiel haben wir einen Slot mit dem Namen 0, einen Slot mit dem Namen 1, einen Slot mit dem Namen 2 usw. Anfänglich enthält die Hashtabelle keine Einträge, so dass jeder Slot leer ist. Wir können eine Hash-Tabelle implementieren, indem wir eine Liste verwenden, in der jedes Element mit dem speziellen Python-Wert <code>None</code> initialisiert ist. *Abbildung 4* zeigt eine Hash-Tabelle der Größe $m=11$. Mit anderen Worten, in der Tabelle gibt es *m* Slots mit den Namen 0 bis 10.\n",
    "\n",
    "<center><img src=\"Bilder/SuchenUndSortieren/hashing1.PNG\"></center>\n",
    "<center> Abbildung 4: Abbildung 4: Hash-Tabelle mit 11 leeren Slots</center>\n",
    "\n",
    "Die Zuordnung zwischen einem Element und dem Slot, zu dem dieses Element in der Hash-Tabelle gehört, wird als **Hash-Funktion** bezeichnet. Die Hash-Funktion nimmt jedes Element in der Sammlung und gibt eine ganze Zahl im Bereich der Slot-Namen zwischen 0 und m-1 zurück. Angenommen, wir haben den Satz der ganzzahligen Elemente 54, 26, 93, 17, 77 und 31. Unsere erste Hash-Funktion, manchmal auch als \"Restmethode\" bezeichnet, nimmt einfach ein Element und teilt es durch die Tabellengröße, wobei der Rest als Hash-Wert zurückgegeben wird $(h(item)=item\\%11)$. *Tabelle 4* enthält alle Hash-Werte für unsere Beispiel-Items. Beachten Sie, dass diese Restmethode (Modulo-Arithmetik) typischerweise in irgendeiner Form in allen Hash-Funktionen vorhanden sein wird, da das Ergebnis im Bereich der Slot-Namen liegen muss.\n",
    "\n",
    "|Vergleiche|Ungefähre Anzahl der verbleibenden Elemente|\n",
    "|---|---|\n",
    "|54|10 |\n",
    "|26|4|\n",
    "|93|5|\n",
    "|17|6|\n",
    "|77|0|\n",
    "|31|9|\n",
    "\n",
    "<center> Tabelle 4: Einfache Hash-Funktion unter Verwendung von Resten</center>\n",
    "\n",
    "Nachdem die Hash-Werte berechnet wurden, können wir jedes Element an der vorgesehenen Position in die Hash-Tabelle einfügen, wie in *Abbildung 5* dargestellt. Beachten Sie, dass 6 der 11 Slots nun belegt sind. Dies wird als Auslastungsfaktor bezeichnet und wird üblicherweise wie folgt bezeichnet:\n",
    "$λ=\\frac{Anzahl Elemente}{Länge der Tabelle}$. In diesem Beispiel $λ=\\frac{6}{11}$\n",
    "\n",
    "<center><img src=\"Bilder/SuchenUndSortieren/hashing2.PNG\"></center>\n",
    "<center> Abbildung 5: Hash-Tabelle mit sechs Elementen</center>\n",
    "\n",
    "Wenn wir nun nach einem Element suchen wollen, verwenden wir einfach die Hash-Funktion, um den Slot-Namen für das Element zu berechnen, und prüfen dann in der Hashtabelle, ob es vorhanden ist. Diese Suchoperation ist $O(1)$, da eine konstante Zeit benötigt wird, um den Hash-Wert zu berechnen und dann die Hash-Tabelle an dieser Stelle zu indizieren. Wenn alles dort ist, wo es sein sollte, haben wir einen Suchalgorithmus mit konstanter Zeit gefunden.\n",
    "\n",
    "Sie können wahrscheinlich schon jetzt erkennen, dass diese Technik nur funktioniert, wenn jedes Element auf eine eindeutige Position in der Hashtabelle abgebildet wird. Wäre z.B. das Element 44 das nächste Element in unserer Sammlung gewesen, hätte es einen Hash-Wert von 0 $(44\\%11==0)$. Da 77 ebenfalls einen Hash-Wert von 0 hätte, hätten wir ein Problem. Gemäß der Hash-Funktion müssten sich zwei oder mehr Artikel im gleichen Slot befinden. Dies wird als **Kollision** bezeichnet (es kann auch als \"Zusammenstoß\" bezeichnet werden). Es liegt auf der Hand, dass Kollisionen ein Problem für die Hash-Technik darstellen. Wir werden sie später im Detail besprechen."
   ]
  },
  {
   "cell_type": "markdown",
   "metadata": {},
   "source": [
    "### Hash-Funktionen\n",
    "Angesichts einer Sammlung von Gegenständen wird eine Hash-Funktion, die jeden Gegenstand in einen eindeutigen Slot abbildet, als **perfekte Hash-Funktion** bezeichnet. Wenn wir die Elemente kennen und die Sammlung sich nie ändern wird, dann ist es möglich, eine perfekte Hash-Funktion zu konstruieren (mehr über perfekte Hash-Funktionen finden Sie in den Übungen). Leider gibt es angesichts einer willkürlichen Sammlung von Elementen keine systematische Möglichkeit, eine perfekte Hash-Funktion zu konstruieren. Glücklicherweise muss die Hash-Funktion nicht perfekt sein, um trotzdem eine Leistungseffizienz zu erreichen.\n",
    "\n",
    "Eine Möglichkeit, immer eine perfekte Hash-Funktion zu haben, besteht darin, die Größe der Hash-Tabelle so zu verändern, dass jeder mögliche Wert untergebracht werden kann. Dadurch wird gewährleistet, dass jedes Element einen eindeutigen Slot hat. Obwohl dies bei einer kleinen Anzahl von Elementen praktisch ist, ist es bei einer großen Anzahl von möglichen Elementen nicht durchführbar. Wenn es sich bei den Elementen beispielsweise um neunstellige Sozialversicherungsnummern handelt, würde diese Methode fast eine Milliarde Slots erfordern. Wenn wir nur Daten für eine Klasse von 25 Studenten speichern wollen, verschwenden wir eine enorme Menge an Speicherplatz.\n",
    "\n",
    "Unser Ziel ist es, eine Hash-Funktion zu erstellen, die die Anzahl der Kollisionen minimiert, leicht zu berechnen ist und die Elemente in der Hash-Tabelle gleichmäßig verteilt. Es gibt eine Reihe gängiger Möglichkeiten, die einfache Restmethode zu erweitern. Wir werden hier einige davon betrachten.\n",
    "\n",
    "Die **Faltmethode** zur Konstruktion von Hash-Funktionen beginnt mit der Aufteilung des Elements in gleich große Stücke (das letzte Stück darf nicht gleich groß sein). Diese Stücke werden dann zusammengezählt, um den resultierenden Hash-Wert zu erhalten. Wenn unser Element z.B. die Telefonnummer 436-555-4601 wäre, würden wir die Ziffern nehmen und sie in 2er-Gruppen teilen (43,65,55,46,01). Nach der Addition, $43+65+55+46+01$, erhalten wir 210. Wenn wir davon ausgehen, dass unsere Hash-Tabelle 11 Slots hat, dann müssen wir den zusätzlichen Schritt der Division durch 11 durchführen und den Rest behalten. In diesem Fall ist $210 \\% 11$ gleich 1, so dass die Telefonnummer 436-555-4601 zu Slot 1 gehasht wird. Einige Faltmethoden gehen noch einen Schritt weiter und kehren jedes zweite Stück vor der Addition um. Für das obige Beispiel erhalten wir $43+56+55+64+01=219$, was $219 \\% 11=10$ ergibt.\n",
    "\n",
    "Eine andere numerische Technik zur Konstruktion einer Hash-Funktion wird als die **Methode des mittleren Quadrates** bezeichnet. Zuerst wird das Element quadriert, und dann wird ein Teil der resultierenden Ziffern extrahiert. Wäre der Gegenstand beispielsweise 44, würden wir zuerst $44^2=1.936$ berechnen. Durch Extrahieren der mittleren zwei Ziffern, 93, und Ausführen des Restschritts erhalten wir 5 $(93 \\% 11)$. *Tabelle 5* zeigt Elemente sowohl nach der Restmethode als auch nach der Methode der mittleren Quadrate. Sie sollten sich vergewissern, dass Sie verstehen, wie diese Werte berechnet wurden.\n",
    "\n",
    "|Vergleiche|Rest|Mittleres Quadrat\n",
    "|---|---|---|\n",
    "|54|10|3|\n",
    "|26|4|7|\n",
    "|93|5|9|\n",
    "|17|6|8|\n",
    "|77|0|4|\n",
    "|31|9|6|\n",
    "\n",
    "<center>Tabelle 5: Vergleich von Rest- und Mittelquadratmethode</center>\n",
    "\n",
    "Wir können auch Hash-Funktionen für zeichenbasierte Elemente wie Zeichenketten erstellen. Das Wort \"Katze\" kann man sich als eine Folge von geordneten Werten vorstellen.\n",
    "\n",
    "```python\n",
    ">>> ord('c')\n",
    "99\n",
    ">>> ord('a')\n",
    "97\n",
    ">>> ord('t')\n",
    "116\n",
    "```\n",
    "\n",
    "Wir können dann diese drei geordneten Werte nehmen, sie addieren und die Restmethode verwenden, um einen Hash-Wert zu erhalten (siehe *Abbildung 6*). *Auflistung 1* zeigt eine Funktion namens <code>hash</code>, die eine Zeichenfolge und eine Tabellengröße nimmt und den Hash-Wert im Bereich von 0 bis <code>tablesize - 1</code>zurückgibt.\n",
    "\n",
    "<center><img src=\"Bilder/SuchenUndSortieren/hashing3.PNG\"></center>\n",
    "<center> Abbildung 6: Hashing einer Zeichenkette unter Verwendung von Ordnungswerten</center>\n",
    "\n",
    "\n",
    "**Auflistung 1**\n",
    "```python\n",
    "def hash(astring, tablesize):\n",
    "    sum = 0\n",
    "    for pos in range(len(astring)):\n",
    "        sum = sum + ord(astring[pos])\n",
    "\n",
    "    return sum%tablesize\n",
    "```\n",
    "\n",
    "Es ist interessant festzustellen, dass bei Verwendung dieser Hash-Funktion Anagramme immer den gleichen Hash-Wert erhalten. Um dem abzuhelfen, könnten wir die Position des Zeichens als Gewicht verwenden. *Abbildung 7* zeigt einen möglichen Weg, den Positionswert als Gewichtungsfaktor zu verwenden. Die Änderung der <code>hash</code>-Funktion bleibt als Übung.\n",
    "\n",
    "<center><img src=\"Bilder/SuchenUndSortieren/hashing4.PNG\"></center>\n",
    "<center> Abbildung 7: Hashing einer Zeichenkette unter Verwendung von Ordnungswerten mit Gewichtung</center>\n",
    "\n",
    "Möglicherweise fallen Ihnen eine Reihe weiterer Möglichkeiten zur Berechnung von Hash-Werten für Objekte in einer Sammlung ein. Wichtig zu beachten ist, dass die Hash-Funktion effizient sein muss, damit sie nicht zum dominierenden Teil des Speicher- und Suchprozesses wird. Wenn die Hash-Funktion zu komplex ist, ist es aufwendiger, den Slotnamen zu berechnen, als einfach nur eine einfache sequentielle oder binäre Suche, wie oben beschrieben, durchzuführen. Dies würde den Zweck des Hashings schnell zunichte machen."
   ]
  },
  {
   "cell_type": "markdown",
   "metadata": {},
   "source": [
    "### Kollisionsauflösung\n",
    "Wir kommen nun auf das Problem der Kollisionen zurück. Wenn zwei Elemente in denselben Slot gehasht werden, müssen wir eine systematische Methode haben, um das zweite Element in die Hashtabelle zu setzen. Dieses Verfahren wird als **Kollisionsauflösung** bezeichnet. Wie wir bereits erwähnt haben, wird es, wenn die Hash-Funktion perfekt ist, niemals zu Kollisionen kommen. Da dies jedoch oft nicht möglich ist, wird die Kollisionsauflösung zu einem sehr wichtigen Bestandteil des Hashings.\n",
    "\n",
    "Eine Methode zur Lösung von Kollisionen schaut in die Hash-Tabelle und versucht, einen anderen offenen Platz zu finden, um das Element aufzunehmen, das die Kollision verursacht hat. Eine einfache Methode dazu besteht darin, an der ursprünglichen Hash-Wert-Position zu beginnen und sich dann sequentiell durch die Slots zu bewegen, bis wir auf den ersten leeren Slot stoßen. Beachten Sie, dass wir möglicherweise zum ersten Slot zurückgehen müssen (kreisförmig), um die gesamte Hashtabelle abzudecken. Dieser Prozess der Kollisionsauflösung wird als **offene Adressierung** bezeichnet, da versucht wird, den nächsten offenen Slot oder die nächste offene Adresse in der Hashtabelle zu finden. Indem wir systematisch jeden Slot einzeln aufsuchen, führen wir eine offene Adressierungstechnik durch, die als **lineare Abtastung** bezeichnet wird.\n",
    "\n",
    "*Abbildung 8* zeigt einen erweiterten Satz von ganzzahligen Elementen unter der Hash-Funktion der einfachen Restmethode (54,26,93,17,77,31,44,55,20). *Tabelle 4* oben zeigt die Hash-Werte für die ursprünglichen Elemente. *Abbildung 5* zeigt den ursprünglichen Inhalt. Wenn wir versuchen, 44 in Slot 0 zu platzieren, kommt es zu einer Kollision. Bei der linearen Abtastung schauen wir nacheinander, Slot für Slot, bis wir eine offene Position finden.In diesem Fall finden wir Slot 1.\n",
    "\n",
    "Wiederum sollte 55 in Slot 0 gehen, müssen aber in Slot 2 platziert werden, da es die nächste offene Position ist. Der Endwert von 20 wird Slot 9 zugewiesen. Da Slot 9 voll ist, beginnen wir mit der linearen Abtastung. Wir besuchen die Plätze 10, 0, 1 und 2 und finden schließlich einen leeren Platz an Position 3.\n",
    "\n",
    "<center><img src=\"Bilder/SuchenUndSortieren/hashing5.PNG\"></center>\n",
    "<center> Abbildung 8: Kollisionsauflösung mit linearer Abtastung</center>\n",
    "\n",
    "Sobald wir eine Hash-Tabelle mit offener Adressierung und linearer Abtastung erstellt haben, ist es wichtig, dass wir die gleichen Methoden zur Suche nach Elementen verwenden. Angenommen, wir wollen das Element 93 suchen. Wenn wir den Hash-Wert berechnen, erhalten wir 5. Wenn wir in Platz 5 nachsehen, erhalten wir 93, und wir können <code>True</code> zurückgeben. Und wenn wir nach 20 suchen? Nun ist der Hash-Wert 9, und auf Platz 9 befinden sich derzeit 31. Wir können nicht einfach <code>False</code> zurückgeben, da wir wissen, dass es Kollisionen gegeben haben könnte. Wir sind jetzt gezwungen, eine sequentielle Suche durchzuführen, beginnend bei Position 10, und zwar so lange, bis wir entweder den Punkt 20 oder einen leeren Platz finden.\n",
    "\n",
    "Ein Nachteil der linearen Abtastung ist die Tendenz zur **Clusterbildung**; die Elemente werden in der Tabelle geclustert. Das bedeutet, dass, wenn viele Kollisionen mit demselben Hash-Wert auftreten, eine Anzahl umliegender Slots durch die lineare Abtastung gefüllt werden. Dies wirkt sich auf andere Elemente aus, die eingefügt werden, wie wir gesehen haben, als wir versuchten, das Element 20 oben hinzuzufügen. Eine Gruppe von Werten, die auf 0 hashen, musste übersprungen werden, um schließlich eine offene Position zu finden. Dieses Cluster ist in *Abbildung 9* dargestellt.\n",
    "\n",
    "<center><img src=\"Bilder/SuchenUndSortieren/hashing6.PNG\"></center>\n",
    "<center> Abbildung 9: Ein Cluster von Elementen für Slot 0</center>\n",
    "\n",
    "Eine Möglichkeit, mit dem Clustering umzugehen, besteht darin, die lineare Abtastung so zu erweitern, dass wir, anstatt nacheinander nach dem nächsten offenen Slot zu suchen, Slots überspringen und dadurch die Elemente, die Kollisionen verursacht haben, gleichmäßiger verteilen. Dadurch wird das Auftreten von Clustering potenziell reduziert. *Abbildung 10* zeigt die Elemente, wenn die Kollisionsauflösung mit einer \"plus 3\"-Sonde durchgeführt wird. Das bedeutet, dass wir, sobald eine Kollision auftritt, jeden dritten Slot untersuchen, bis wir einen leeren Slot finden.\n",
    "\n",
    "<center><img src=\"Bilder/SuchenUndSortieren/hashing7.PNG\"></center>\n",
    "<center> Abbildung 10: Kollisionsauflösung mit \"Plus 3\".</center>\n",
    "\n",
    "Die allgemeine Bezeichnung für diesen Prozess der Suche nach einem neuen Platz nach einer Kollision lautet \"rehashing\". Bei einer einfachen linearen Abtastung lautet die Rehash-Funktion $newhashvalue=rehash(oldhashvalue)$, wobei $rehash(pos)=(pos+1)\\%sizeoftable$. Der \"plus 3\"-Rehash kann als $rehash(pos)=(pos+3)\\%sizeoftable$ definiert werden. Im Allgemeinen gilt: $Aufbereiten(pos)=(pos+überspringen)\\%Größe der Tabelle$. Es ist wichtig zu beachten, dass die Größe des \"Skip\" so gewählt werden muss, dass letztendlich alle Slots in der Tabelle besucht werden. Andernfalls wird ein Teil der Tabelle unbenutzt bleiben. Um dies sicherzustellen, wird oft vorgeschlagen, dass die Tabellengröße eine Primzahl ist. Dies ist der Grund, warum wir in unseren Beispielen die Zahl 11 verwendet haben.\n",
    "\n",
    "Eine Variante der Idee der linearen Abtastung wird als **quadratische Abtastung** bezeichnet. Anstatt einen konstanten \"Sprungwert\" zu verwenden, verwenden wir eine Rehash-Funktion, die den Hash-Wert um 1, 3, 5, 7, 9 usw. inkrementiert. Das bedeutet, dass, wenn der erste Hashwert *h* ist, die aufeinander folgenden Werte $h+1, h+4, h+9, h+16$ usw. sind. Im Allgemeinen wird *i* $i^2$ $rehash(pos)=(h+i^2)$ sein. Mit anderen Worten, die quadratische Abtastung verwendet einen Sprung, der aus aufeinanderfolgenden perfekten Quadraten besteht. *Abbildung 11* zeigt unsere Beispielwerte, nachdem sie mit dieser Technik platziert wurden.\n",
    "\n",
    "<center><img src=\"Bilder/SuchenUndSortieren/hashing8.PNG\"></center>\n",
    "<center> Abbildung 11: Kollisionsauflösung mit quadratischer Abtastung.</center>\n",
    "\n",
    "Eine alternative Methode zur Handhabung des Kollisionsproblems besteht darin, jedem Slot einen Verweis auf eine Sammlung (oder Kette) von Gegenständen zu gestatten. Durch die **Verkettung** können viele Elemente an der gleichen Stelle in der Hashtabelle vorhanden sein. Wenn es zu Kollisionen kommt, wird das Element immer noch in den richtigen Slot der Hashtabelle platziert. Da immer mehr Elemente an den gleichen Ort gehasht werden, steigt die Schwierigkeit der Suche nach dem Element in der Sammlung. *Abbildung 12* zeigt die Elemente, wie sie zu einer Hashtabelle hinzugefügt werden, die zur Auflösung von Kollisionen Verkettung verwendet.\n",
    "\n",
    "<center><img src=\"Bilder/SuchenUndSortieren/hashing9.PNG\"></center>\n",
    "<center> Abbildung 12: Kollisionsauflösung mit Verkettung.</center>\n",
    "\n",
    "Wenn wir nach einem Element suchen wollen, verwenden wir die Hash-Funktion, um den Slot zu generieren, in dem es sich befinden soll. Da jeder Slot eine Sammlung enthält, verwenden wir eine Suchtechnik, um zu entscheiden, ob der Gegenstand vorhanden ist. Der Vorteil ist, dass im Durchschnitt wahrscheinlich viel weniger Objekte in jedem Slot vorhanden sind, so dass die Suche vielleicht effizienter ist. Wir werden uns am Ende dieses Abschnitts mit der Analyse zum Hashing befassen.\n",
    "\n",
    "---\n",
    "**Selbstüberprüfung**\n"
   ]
  },
  {
   "cell_type": "code",
   "execution_count": 4,
   "metadata": {},
   "outputs": [
    {
     "name": "stdout",
     "output_type": "stream",
     "text": [
      "1. Auf welche Indexpositionen würden die beiden Schlüssel 27 und 130 in einer Hash-Tabelle der Größe 13 abgebildet?\n"
     ]
    },
    {
     "data": {
      "application/vnd.jupyter.widget-view+json": {
       "model_id": "b61467d4aa2c4cd2abc8d19aa2b0c437",
       "version_major": 2,
       "version_minor": 0
      },
      "text/plain": [
       "RadioButtons(options=('1, 10', '13, 0', '1, 0', '2, 3'), value='1, 10')"
      ]
     },
     "metadata": {},
     "output_type": "display_data"
    }
   ],
   "source": [
    "display(Q5)\n",
    "display(Q6)"
   ]
  },
  {
   "cell_type": "markdown",
   "metadata": {},
   "source": [
    "---\n",
    "### Implementierung des abstrakten Datentyps <code>Map</code>\n",
    "\n",
    "Eine der nützlichsten Python-Sammlungen ist das Wörterbuch (Dictionary). Erinnern Sie sich daran, dass ein Dictionary ein assoziativer Datentyp ist, in dem Sie Schlüssel-Daten-Paare speichern können. Der Schlüssel wird verwendet, um den zugehörigen Datenwert zu suchen. Wir bezeichnen diese Idee oft als **Map**.\n",
    "\n",
    "Der abstrakte Datentyp der Map ist wie folgt definiert. Die Struktur ist eine ungeordnete Sammlung von Assoziationen zwischen einem Schlüssel und einem Datenwert. Die Schlüssel in einer Map sind alle eindeutig, so dass es eine Eins-zu-Eins-Beziehung zwischen einem Schlüssel und einem Wert gibt. Die Operationen sind unten angegeben.\n",
    "\n",
    "* <code>Map()</code> Erstellen Sie eine neue, leere Map. Es gibt eine leere Map-Sammlung zurück.\n",
    "* <code>put(key,val)</code> Fügen Sie der Map ein neues Schlüssel-Wert-Paar hinzu. Wenn sich der Schlüssel bereits in der Map befindet, ersetzen Sie den alten Wert durch den neuen Wert.\n",
    "* <code>get(key)</code> Einen Schlüssel übergeben, gibt den in der Map gespeicherten Wert zurück, sonst <code>None</code>.\n",
    "* <code>del</code> Löschen eines Schlüssel-Wert-Paares aus einer Map mit dem Befehl <code>del map[key]</code>.\n",
    "* <code>len()</code> Gibt die Anzahl der in der Map gespeicherten Schlüssel-Wert-Paare zurück.\n",
    "* <code>in</code> Gibt <code>True</code> zurück für einen Befehl in der Form <code>key in map</code>, wenn der angegebene Schlüssel sich in der Map befindet, ansonsten <code>False</code>\n",
    "\n",
    "Einer der großen Vorteile eines Dictionarys ist die Tatsache, dass wir bei Angabe eines Schlüssels sehr schnell den zugehörigen Datenwert suchen können. Um diese Möglichkeit des schnellen Nachschlagens zu bieten, benötigen wir eine Implementierung, die eine effiziente Suche unterstützt. Wir könnten eine Liste mit sequentieller oder binärer Suche verwenden, aber es wäre noch besser, eine Hash-Tabelle wie oben beschrieben zu verwenden, da das Nachschlagen eines Eintrags in einer Hash-Tabelle an die $O(1)$-Performance heranreichen kann.\n",
    "\n",
    "In *Auflistung 2* verwenden wir zwei Listen, um eine <code>HashTable</code>-Klasse zu erstellen, die den abstrakten Datentyp Map implementiert. Eine Liste, genannt <code>slots</code>, enthält die Schlüsselelemente, und eine parallele Liste, genannt <code>data</code>, enthält die Datenwerte. Wenn wir einen Schlüssel suchen, enthält die entsprechende Position in der Datenliste den zugehörigen Datenwert. Wir werden die Schlüsselliste wie eine Hash-Tabelle behandeln und dabei die zuvor vorgestellten Ideen verwenden. Beachten Sie, dass die anfängliche Größe für die Hash-Tabelle mit 11 gewählt wurde. Obwohl dies willkürlich ist, ist es wichtig, dass die Größe eine Primzahl ist, damit der Algorithmus zur Kollisionsauflösung so effizient wie möglich sein kann.\n",
    "\n",
    "**Auflistung 2**\n",
    "```python\n",
    "class HashTable:\n",
    "    def __init__(self):\n",
    "        self.size = 11\n",
    "        self.slots = [None] * self.size\n",
    "        self.data = [None] * self.size\n",
    "```\n",
    "\n",
    "<code>hashfunction</code> implementiert die einfache Restmethode. Die Kollisionsauflösungstechnik ist die lineare Abtastung mit einer \"plus 1\" Rehash-Funktion. Die <code>put</code>-Funktion (siehe *Auflistung 3*) geht davon aus, dass es irgendwann einen leeren Slot geben wird, es sei denn, der Schlüssel ist bereits in den <code>self.slots</code> vorhanden. Sie berechnet den ursprünglichen Hash-Wert und, falls dieser Slot nicht leer ist, iteriert die <code>rehash</code>-Funktion, bis ein leerer Schlitz auftritt. Wenn ein nicht leerer Slot den Schlüssel bereits enthält, wird der alte Datenwert durch den neuen Datenwert ersetzt. Der Umgang mit der Situation, in der es keine leeren Slots mehr gibt, ist eine Übung.\n",
    "\n",
    "**Auflistung 3**\n",
    "```python\n",
    "def put(self,key,data):\n",
    "  hashvalue = self.hashfunction(key,len(self.slots))\n",
    "\n",
    "  if self.slots[hashvalue] == None:\n",
    "    self.slots[hashvalue] = key\n",
    "    self.data[hashvalue] = data\n",
    "  else:\n",
    "    if self.slots[hashvalue] == key:\n",
    "      self.data[hashvalue] = data  #replace\n",
    "    else:\n",
    "      nextslot = self.rehash(hashvalue,len(self.slots))\n",
    "      while self.slots[nextslot] != None and \\\n",
    "                      self.slots[nextslot] != key:\n",
    "        nextslot = self.rehash(nextslot,len(self.slots))\n",
    "\n",
    "      if self.slots[nextslot] == None:\n",
    "        self.slots[nextslot]=key\n",
    "        self.data[nextslot]=data\n",
    "      else:\n",
    "        self.data[nextslot] = data #replace\n",
    "\n",
    "def hashfunction(self,key,size):\n",
    "     return key%size\n",
    "\n",
    "def rehash(self,oldhash,size):\n",
    "    return (oldhash+1)%size\n",
    "```\n",
    "\n",
    "Ebenso beginnt die Funktion get (siehe *Auflistung 4*) mit der Berechnung des anfänglichen Hash-Wertes. Befindet sich der Wert nicht im Anfangsslot, wird der Rehash verwendet, um die nächstmögliche Position zu finden. Beachten Sie, dass Zeile 15 garantiert, dass die Suche durch eine Überprüfung beendet wird, um sicherzustellen, dass wir nicht zum Anfangsslot zurückgekehrt sind. Wenn dies der Fall ist, haben wir alle möglichen Slots ausgeschöpft und das Element darf nicht mehr vorhanden sein.\n",
    "\n",
    "Die letzten Methoden der <code>HashTable</code>-Klasse bieten zusätzliche Dictionarys-Funktionalität. Wir überladen die <code>__getitem__</code> und <code>__setitem__</code> Methoden, um den Zugriff unter Verwendung von ``[]`` zu ermöglichen. Das bedeutet, dass nach der Erstellung einer HashTable der bekannte Index-Operator zur Verfügung steht. Die übrigen Methoden lassen wir als Übungen.\n",
    "\n",
    "**Auflistung 4**\n",
    "```python\n",
    "def get(self,key):\n",
    "  startslot = self.hashfunction(key,len(self.slots))\n",
    "\n",
    "  data = None\n",
    "  stop = False\n",
    "  found = False\n",
    "  position = startslot\n",
    "  while self.slots[position] != None and  \\\n",
    "                       not found and not stop:\n",
    "     if self.slots[position] == key:\n",
    "       found = True\n",
    "       data = self.data[position]\n",
    "     else:\n",
    "       position=self.rehash(position,len(self.slots))\n",
    "       if position == startslot:\n",
    "           stop = True\n",
    "  return data\n",
    "\n",
    "def __getitem__(self,key):\n",
    "    return self.get(key)\n",
    "\n",
    "def __setitem__(self,key,data):\n",
    "    self.put(key,data)\n",
    "```\n",
    "\n",
    "Die folgende Sitzung zeigt die <code>HashTable</code>-Klasse in Aktion. Zuerst werden wir eine Hash-Tabelle erstellen und einige Elemente mit ganzzahligen Schlüsseln und Zeichenkettendatenwerten speichern.\n",
    "```python\n",
    ">>> H=HashTable()\n",
    ">>> H[54]=\"cat\"\n",
    ">>> H[26]=\"dog\"\n",
    ">>> H[93]=\"lion\"\n",
    ">>> H[17]=\"tiger\"\n",
    ">>> H[77]=\"bird\"\n",
    ">>> H[31]=\"cow\"\n",
    ">>> H[44]=\"goat\"\n",
    ">>> H[55]=\"pig\"\n",
    ">>> H[20]=\"chicken\"\n",
    ">>> H.slots\n",
    "[77, 44, 55, 20, 26, 93, 17, None, None, 31, 54]\n",
    ">>> H.data\n",
    "['bird', 'goat', 'pig', 'chicken', 'dog', 'lion',\n",
    "       'tiger', None, None, 'cow', 'cat']\n",
    "```\n",
    "\n",
    "Als nächstes werden wir auf einige Punkte in der Hash-Tabelle zugreifen und sie ändern. Beachten Sie, dass der Wert für den Schlüssel 20 ersetzt wird.\n",
    "```python\n",
    ">>> H[20]\n",
    "'chicken'\n",
    ">>> H[17]\n",
    "'tiger'\n",
    ">>> H[20]='duck'\n",
    ">>> H[20]\n",
    "'duck'\n",
    ">>> H.data\n",
    "['bird', 'goat', 'pig', 'duck', 'dog', 'lion',\n",
    "       'tiger', None, None, 'cow', 'cat']\n",
    ">> print(H[99])\n",
    "None\n",
    "```\n",
    "\n",
    "Das vollständige Hash-Tabellen-Beispiel finden Sie in *Codebeispiel 5*.\n",
    "\n",
    "**Codebeispiel 5**"
   ]
  },
  {
   "cell_type": "code",
   "execution_count": null,
   "metadata": {},
   "outputs": [],
   "source": [
    "%%tutor -l python3 -s -h 700\n",
    "\n",
    "class HashTable:\n",
    "    def __init__(self):\n",
    "        self.size = 11\n",
    "        self.slots = [None] * self.size\n",
    "        self.data = [None] * self.size\n",
    "\n",
    "    def put(self,key,data):\n",
    "      hashvalue = self.hashfunction(key,len(self.slots))\n",
    "\n",
    "      if self.slots[hashvalue] == None:\n",
    "        self.slots[hashvalue] = key\n",
    "        self.data[hashvalue] = data\n",
    "      else:\n",
    "        if self.slots[hashvalue] == key:\n",
    "          self.data[hashvalue] = data  #replace\n",
    "        else:\n",
    "          nextslot = self.rehash(hashvalue,len(self.slots))\n",
    "          while self.slots[nextslot] != None and \\\n",
    "                          self.slots[nextslot] != key:\n",
    "            nextslot = self.rehash(nextslot,len(self.slots))\n",
    "\n",
    "          if self.slots[nextslot] == None:\n",
    "            self.slots[nextslot]=key\n",
    "            self.data[nextslot]=data\n",
    "          else:\n",
    "            self.data[nextslot] = data #replace\n",
    "\n",
    "    def hashfunction(self,key,size):\n",
    "         return key%size\n",
    "\n",
    "    def rehash(self,oldhash,size):\n",
    "        return (oldhash+1)%size\n",
    "\n",
    "    def get(self,key):\n",
    "      startslot = self.hashfunction(key,len(self.slots))\n",
    "\n",
    "      data = None\n",
    "      stop = False\n",
    "      found = False\n",
    "      position = startslot\n",
    "      while self.slots[position] != None and  \\\n",
    "                           not found and not stop:\n",
    "         if self.slots[position] == key:\n",
    "           found = True\n",
    "           data = self.data[position]\n",
    "         else:\n",
    "           position=self.rehash(position,len(self.slots))\n",
    "           if position == startslot:\n",
    "               stop = True\n",
    "      return data\n",
    "\n",
    "    def __getitem__(self,key):\n",
    "        return self.get(key)\n",
    "\n",
    "    def __setitem__(self,key,data):\n",
    "        self.put(key,data)\n",
    "\n",
    "H=HashTable()\n",
    "H[54]=\"cat\"\n",
    "H[26]=\"dog\"\n",
    "H[93]=\"lion\"\n",
    "H[17]=\"tiger\"\n",
    "H[77]=\"bird\"\n",
    "H[31]=\"cow\"\n",
    "H[44]=\"goat\"\n",
    "H[55]=\"pig\"\n",
    "H[20]=\"chicken\"\n",
    "print(H.slots)\n",
    "print(H.data)\n",
    "\n",
    "print(H[20])\n",
    "\n",
    "print(H[17])\n",
    "H[20]='duck'\n",
    "print(H[20])\n",
    "print(H[99])"
   ]
  },
  {
   "cell_type": "markdown",
   "metadata": {},
   "source": [
    "### Analyse von Hashing\n",
    "Wir haben bereits erwähnt, dass Hashing im besten Fall eine $O(1)$, zeitkonstante Suchtechnik bieten würde. Aufgrund von Kollisionen ist die Anzahl der Vergleiche jedoch in der Regel nicht so einfach. Auch wenn eine vollständige Analyse des Hashings den Rahmen dieses Textes sprengen würde, können wir einige bekannte Ergebnisse nennen, die die Anzahl der Vergleiche, die für die Suche nach einem Element erforderlich sind, annähernd wiedergeben.\n",
    "\n",
    "Die wichtigste Information, die wir benötigen, um die Verwendung einer Hash-Tabelle zu analysieren, ist der Auslastungsfaktor $λ$. Konzeptionell gesehen ist die Wahrscheinlichkeit von Kollisionen geringer, wenn $λ$ klein ist, d.h. die Elemente befinden sich mit größerer Wahrscheinlichkeit in den Slots, wo sie hingehören. Wenn $λ$ groß ist, was bedeutet, dass sich die Tabelle füllt, dann gibt es immer mehr Kollisionen. Das bedeutet, dass die Auflösung von Kollisionen schwieriger ist und mehr Vergleiche erforderlich sind, um einen leeren Platz zu finden. Bei einer Verkettung bedeutet erhöhte Kollisionen eine erhöhte Anzahl von Elementen auf jeder Kette.\n",
    "\n",
    "Wie bisher werden wir sowohl für eine erfolgreiche als auch für eine erfolglose Suche ein Ergebnis haben. Für eine erfolgreiche Suche mit offener Adressierung mit linearer Abtastung  beträgt die durchschnittliche Anzahl von Vergleichen etwa $λ=\\frac{1}{2}(1 + \\frac{1}{1-λ})$ und eine erfolglose Suche ergibt $λ=\\frac{1}{2}(1 + (\\frac{1}{1-λ})^2)$. Wenn wir die Verkettung verwenden, beträgt die durchschnittliche Anzahl der Vergleiche $1+\\frac{λ}{2}$ für den erfolgreichen Fall, und einfach $λ$ Vergleiche, wenn die Suche erfolglos ist."
   ]
  },
  {
   "cell_type": "markdown",
   "metadata": {},
   "source": [
    "## Sortierung\n",
    "Sortieren ist der Vorgang, bei dem Elemente aus einer Sammlung in einer Art von Reihenfolge angeordnet werden. Eine Wortliste könnte zum Beispiel alphabetisch oder nach der Länge sortiert werden. Eine Liste von Städten könnte nach Bevölkerung, nach Gebiet oder nach Postleitzahl sortiert werden. Wir haben bereits eine Reihe von Algorithmen gesehen, die von einer sortierten Liste profitieren konnten (erinnern Sie sich an das letzte Anagrammbeispiel und die binäre Suche).\n",
    "\n",
    "Es gibt viele, viele Sortieralgorithmen, die entwickelt und analysiert worden sind. Dies legt nahe, dass das Sortieren ein wichtiges Studiengebiet der Informatik ist. Das Sortieren einer großen Anzahl von Objekten kann eine beträchtliche Menge an Computerressourcen in Anspruch nehmen. Wie bei der Suche hängt die Effizienz eines Sortieralgorithmus von der Anzahl der zu verarbeitenden Elemente ab. Bei kleinen Sammlungen kann eine komplexe Sortiermethode mehr Mühe machen, als sie wert ist. Der Overhead kann zu hoch sein. Andererseits wollen wir bei größeren Sammlungen so viele Verbesserungen wie möglich nutzen. In diesem Abschnitt besprechen wir verschiedene Sortierverfahren und vergleichen sie im Hinblick auf ihre Laufzeit.\n",
    "\n",
    "Bevor wir uns mit bestimmten Algorithmen befassen, sollten wir uns Gedanken darüber machen, welche Operationen zur Analyse eines Sortierprozesses verwendet werden können. Zunächst wird es notwendig sein, zwei Werte zu vergleichen, um zu sehen, welcher kleiner (oder größer) ist. Um eine Sammlung zu sortieren, wird es notwendig sein, eine systematische Möglichkeit zu haben, Werte zu vergleichen, um zu sehen, ob sie nicht in Ordnung sind. Die Gesamtzahl der Vergleiche wird die gebräuchlichste Methode zur Messung eines Sortierverfahrens sein. Zweitens, wenn Werte nicht in der richtigen Position zueinander stehen, kann es notwendig sein, sie auszutauschen. Dieser Austausch ist ein kostspieliger Vorgang, und die Gesamtzahl der Austausche wird auch für die Bewertung der Gesamteffizienz des Algorithmus von Bedeutung sein."
   ]
  },
  {
   "cell_type": "markdown",
   "metadata": {},
   "source": [
    "## Der Bubble Sort\n",
    "Die **Bubble Sort** macht mehrere Durchläufe durch eine Liste. Sie vergleicht benachbarte Artikel und tauscht diejenigen aus, die nicht in Ordnung sind. Bei jedem Durchgang durch die Liste wird der nächstgrößte Wert an die richtige Stelle gesetzt. Im Wesentlichen \"sprudelt\" jeder Gegenstand an die Stelle, an die er gehört.\n",
    "\n",
    "*Abbildung 13* zeigt den ersten Durchgang eines Bubble Sorts. Die schattierten Elemente werden verglichen, um festzustellen, ob sie nicht in Ordnung sind. Wenn es n Elemente in der Liste gibt, dann gibt es $n-1$ Paare von Elementen, die im ersten Durchgang verglichen werden müssen. Es ist wichtig zu beachten, dass der größte Wert in der Liste, sobald er Teil eines Paares ist, kontinuierlich weitergereicht wird, bis der Durchlauf abgeschlossen ist.\n",
    "\n",
    "<center><img src=\"Bilder/SuchenUndSortieren/sortierung1.PNG\"></center>\n",
    "<center> Abbildung 13: <code>bubbleSort</code>: Der erste Durchgang</center>\n",
    "\n",
    "Zu Beginn des zweiten Durchgangs ist nun der größte Wert vorhanden. Es sind noch $n-1$ Elemente zu sortieren, was bedeutet, dass es $n-2$ Paare geben wird. Da bei jedem Durchgang der nächstgrößte Wert vorhanden ist, wird die Gesamtzahl der erforderlichen Durchgänge $n-1$ betragen. Nach Abschluss der $n-1$ Durchläufe muss sich das kleinste Element in der richtigen Position befinden, ohne dass eine weitere Bearbeitung erforderlich ist. *Codebeispiel 6* zeigt die vollständige Funktion <code>bubbleSort</code> an. Sie nimmt die Liste als Parameter und modifiziert sie durch den Austausch von Elementen nach Bedarf.\n",
    "\n",
    "Der Austauschvorgang, manchmal auch als \"Swap\" bezeichnet, unterscheidet sich in Python leicht von den meisten anderen Programmiersprachen. Normalerweise erfordert das Austauschen von zwei Elementen in einer Liste einen temporären Speicherplatz (einen zusätzlichen Speicherplatz). Ein Codefragment wie\n",
    "```python\n",
    "temp = alist[i]\n",
    "alist[i] = alist[j]\n",
    "alist[j] = temp\n",
    "```\n",
    "wird die i-te und j-te Position in der Liste austauschen. Ohne die Zwischenspeicherung würde einer der Werte überschrieben werden.\n",
    "\n",
    "In Python ist es möglich, gleichzeitige Zuweisungen durchzuführen. Die Anweisung <code>a,b=b,a</code> führt dazu, dass zwei Zuweisungsanweisungen gleichzeitig ausgeführt werden (siehe *Abbildung 14*). Bei gleichzeitiger Zuweisung kann die Austauschoperation in einer Anweisung durchgeführt werden.\n",
    "\n",
    "Die Zeilen 5-7 in *Codebeispiel 6* führen den Austausch der i- und (i+1)-ten Elemente unter Verwendung des zuvor beschriebenen dreistufigen Verfahrens durch. Beachten Sie, dass wir auch die gleichzeitige Zuweisung zum Vertauschen der Elemente hätten verwenden können.\n",
    "\n",
    "<center><img src=\"Bilder/SuchenUndSortieren/sortierung2.PNG\"></center>\n",
    "<center> Abbildung 14: Austausch zweier Werte in Python</center>\n",
    "\n",
    "Das folgende Codebeispiel zeigt die vollständige Funktion <code>bubbleSort</code>, die auf der oben gezeigten Liste arbeitet.\n",
    "\n",
    "**Codebeispiel 6**"
   ]
  },
  {
   "cell_type": "code",
   "execution_count": null,
   "metadata": {},
   "outputs": [],
   "source": [
    "%%tutor -l python3 -s -h 700\n",
    "\n",
    "def bubbleSort(alist):\n",
    "    for passnum in range(len(alist)-1,0,-1):\n",
    "        for i in range(passnum):\n",
    "            if alist[i]>alist[i+1]:\n",
    "                temp = alist[i]\n",
    "                alist[i] = alist[i+1]\n",
    "                alist[i+1] = temp\n",
    "\n",
    "alist = [54,26,93,17,77,31,44,55,20]\n",
    "bubbleSort(alist)\n",
    "print(alist)"
   ]
  },
  {
   "cell_type": "markdown",
   "metadata": {},
   "source": [
    "Zur Analyse der Bubble Sort ist zu beachten, dass unabhängig von der Anordnung der Elemente in der Ausgangsliste $n-1$ Durchgänge durchgeführt werden, um eine Liste der Größe *n* zu sortieren. *Tabelle 6* zeigt die Anzahl der Vergleiche für jeden Durchgang. Die Gesamtzahl der Vergleiche ist die Summe der ersten $n-1$ ganzen Zahlen. Es sei daran erinnert, dass die Summe der ersten n ganzen Zahlen $\\frac{1}{2}n^2+\\frac{1}{2}n$ beträgt. Die Summe der ersten $n-1$ ganzen Zahlen ist $\\frac{1}{2}n^2+\\frac{1}{2}n-n$, also $\\frac{1}{2}n^2-\\frac{1}{2}n$. Dies sind immer noch $O(n2)$-Vergleiche. Im besten Fall, wenn die Liste bereits geordnet ist, wird kein Austausch vorgenommen. Im schlimmsten Fall führt jedoch jeder Vergleich zu einem Austausch. Im Durchschnitt tauschen wir die Hälfte der Zeit aus.\n",
    "\n",
    "|Durchgang|Vergleiche|\n",
    "|---|---|\n",
    "|1|$n-1$|\n",
    "|2|$n-2$|\n",
    "|3|$n-3$|\n",
    "|...|$n-1$|\n",
    "|$n-1$|1|\n",
    "\n",
    "<center>Tabelle 6: Vergleiche für jeden Durchlauf der Bubble Sort</center>\n",
    "\n",
    "Eine Bubble Sort wird oft als die ineffizienteste Sortiermethode angesehen, da sie Elemente austauschen muss, bevor der endgültige Standort bekannt ist. Diese \"verschwendeten\" Tauschvorgänge sind sehr kostspielig. Da die Bubble Sort jedoch den gesamten unsortierten Teil der Liste durchläuft, ist sie in der Lage, etwas zu tun, was die meisten Sortieralgorithmen nicht können. Insbesondere wenn während eines Durchlaufs kein Austausch stattfindet, wissen wir, dass die Liste sortiert werden muss. Eine Bubble Sort kann so modifiziert werden, dass sie vorzeitig beendet wird, wenn sie feststellt, dass die Liste sortiert wurde. Das bedeutet, dass bei Listen, die nur wenige Durchläufe erfordern, eine Bubble Sort den Vorteil haben kann, dass sie die sortierte Liste erkennt und anhält. **Codebeispiel 7** zeigt diese Modifikation, die oft als die **kurze Blase** bezeichnet wird.\n",
    "\n",
    "**Codebeispiel 7**"
   ]
  },
  {
   "cell_type": "code",
   "execution_count": 4,
   "metadata": {},
   "outputs": [
    {
     "name": "stdout",
     "output_type": "stream",
     "text": [
      "[20, 30, 40, 50, 60, 70, 80, 90, 100, 110]\n"
     ]
    }
   ],
   "source": [
    "%%tutor -l python3 -s -h 700\n",
    "\n",
    "def shortBubbleSort(alist):\n",
    "    exchanges = True\n",
    "    passnum = len(alist)-1\n",
    "    while passnum > 0 and exchanges:\n",
    "       exchanges = False\n",
    "       for i in range(passnum):\n",
    "           if alist[i]>alist[i+1]:\n",
    "               exchanges = True\n",
    "               temp = alist[i]\n",
    "               alist[i] = alist[i+1]\n",
    "               alist[i+1] = temp\n",
    "       passnum = passnum-1\n",
    "\n",
    "alist=[20,30,40,90,50,60,70,80,100,110]\n",
    "shortBubbleSort(alist)\n",
    "print(alist)"
   ]
  },
  {
   "cell_type": "markdown",
   "metadata": {},
   "source": [
    "---\n",
    "**Selbstüberprüfung**"
   ]
  },
  {
   "cell_type": "code",
   "execution_count": 5,
   "metadata": {},
   "outputs": [
    {
     "name": "stdout",
     "output_type": "stream",
     "text": [
      "Angenommen, Sie haben die folgende Liste von Nummern zu sortieren: [19, 1, 9, 7, 3, 10, 13, 15, 8, 12] \n",
      " Welche Liste stellt die teilweise sortierte Liste nach drei vollständigen Durchläufen der Bubble-Sortierung dar?\n"
     ]
    },
    {
     "data": {
      "application/vnd.jupyter.widget-view+json": {
       "model_id": "e5424d7050bc413e89eae1e6d90cd73f",
       "version_major": 2,
       "version_minor": 0
      },
      "text/plain": [
       "RadioButtons(options=('[1, 9, 19, 7, 3, 10, 13, 15, 8, 12]', '[1, 3, 7, 9, 10, 8, 12, 13, 15, 19]', '[1, 7, 3,…"
      ]
     },
     "metadata": {},
     "output_type": "display_data"
    },
    {
     "data": {
      "application/vnd.jupyter.widget-view+json": {
       "model_id": "ff95ec38e52746b5b3313df2831f8c66",
       "version_major": 2,
       "version_minor": 0
      },
      "text/plain": [
       "Button(description='Überprüfen', icon='check', style=ButtonStyle(), tooltip='Click me')"
      ]
     },
     "metadata": {},
     "output_type": "display_data"
    }
   ],
   "source": [
    "display(Q7)"
   ]
  },
  {
   "cell_type": "markdown",
   "metadata": {},
   "source": [
    "---\n",
    "## Selection Sort\n",
    "Der **Selection Sort** verbessert den Bubble Sort, indem für jeden Durchgang durch die Liste nur ein Austausch vorgenommen wird. Zu diesem Zweck sucht ein Selection Sort bei jedem Durchgang nach dem größten Wert und platziert ihn nach Abschluss des Durchgangs an der richtigen Stelle. Wie bei einem Bubble Sort befindet sich nach dem ersten Durchgang der größte Wert an der richtigen Stelle. Nach dem zweiten Durchlauf befindet sich der nächstgrößte an der richtigen Stelle. Dieser Prozess setzt sich fort und erfordert $n-1$ Durchläufe, um n Elemente zu sortieren, da das letzte Element nach dem $(n-1)$st Durchlauf an der richtigen Stelle sein muss.\n",
    "\n",
    "*Abbildung 15* zeigt den gesamten Sortierprozess. Bei jedem Durchgang wird das größte verbleibende Element ausgewählt und dann an seinem richtigen Ort platziert. Der erste Durchgang belegt Platz 93, der zweite Durchgang Platz 77, der dritte Platz 55 und so weiter. Die Funktion ist in **Codebeispiel 8** dargestellt.\n",
    "\n",
    "<center><img src=\"Bilder/SuchenUndSortieren/sortierung3.PNG\"></center>\n",
    "<center> Abbildung 15: <code>selectionSort</code></center>\n",
    "\n",
    "**Codebeispiel 8**"
   ]
  },
  {
   "cell_type": "code",
   "execution_count": 6,
   "metadata": {},
   "outputs": [
    {
     "name": "stdout",
     "output_type": "stream",
     "text": [
      "[17, 20, 26, 31, 44, 54, 55, 77, 93]\n"
     ]
    }
   ],
   "source": [
    "%%tutor -l python3 -s -h 700\n",
    "\n",
    "def selectionSort(alist):\n",
    "   for fillslot in range(len(alist)-1,0,-1):\n",
    "       positionOfMax=0\n",
    "       for location in range(1,fillslot+1):\n",
    "           if alist[location]>alist[positionOfMax]:\n",
    "               positionOfMax = location\n",
    "\n",
    "       temp = alist[fillslot]\n",
    "       alist[fillslot] = alist[positionOfMax]\n",
    "       alist[positionOfMax] = temp\n",
    "\n",
    "alist = [54,26,93,17,77,31,44,55,20]\n",
    "selectionSort(alist)\n",
    "print(alist)"
   ]
  },
  {
   "cell_type": "markdown",
   "metadata": {},
   "source": [
    "Sie sehen, dass der Auswahlsortierung die gleiche Anzahl von Vergleichen durchführt wie die Blasensortierung und daher ebenfalls $O(n^2)$ ist. Aufgrund der Verringerung der Anzahl der Austausche läuft den Selection Sort in Benchmark-Studien jedoch in der Regel schneller ab. Tatsächlich führt der Bubble Sort für unsere Liste 20 Austauschvorgänge durch, während der Selection Sort nur 8 ausführt.\n",
    "\n",
    "--- \n",
    "**Selbstüberprüfung**"
   ]
  },
  {
   "cell_type": "code",
   "execution_count": 7,
   "metadata": {
    "scrolled": true
   },
   "outputs": [
    {
     "name": "stdout",
     "output_type": "stream",
     "text": [
      "Angenommen, Sie haben die folgende Liste von Nummern zu sortieren: [11, 7, 12, 14, 19, 1, 6, 18, 8, 20] Welche Liste stellt die teilweise sortierte Liste nach drei vollständigen Durchläufen der Auswahlsortierung dar?\n"
     ]
    },
    {
     "data": {
      "application/vnd.jupyter.widget-view+json": {
       "model_id": "4a6a4911cd29486fa4a4cff21c61a04c",
       "version_major": 2,
       "version_minor": 0
      },
      "text/plain": [
       "RadioButtons(options=('[7, 11, 12, 1, 6, 14, 8, 18, 19, 20]', '[7, 11, 12, 14, 19, 1, 6, 18, 8, 20]', '[11, 7,…"
      ]
     },
     "metadata": {},
     "output_type": "display_data"
    },
    {
     "data": {
      "application/vnd.jupyter.widget-view+json": {
       "model_id": "5c8cf45272054022902da475db960ca7",
       "version_major": 2,
       "version_minor": 0
      },
      "text/plain": [
       "Button(description='Überprüfen', style=ButtonStyle(), tooltip='Click me')"
      ]
     },
     "metadata": {},
     "output_type": "display_data"
    }
   ],
   "source": [
    "display(Q8)"
   ]
  },
  {
   "cell_type": "markdown",
   "metadata": {},
   "source": [
    "---\n",
    "## Insertion Sort\n",
    "Der Insertion Sort, obwohl immer noch $O(n2)$, funktioniert auf eine etwas andere Art und Weise. Er behält immer eine sortierte Teilliste an den unteren Positionen der Liste bei. Jeder neue Eintrag wird dann wieder in die vorherige Teilliste \"eingefügt\", so dass die sortierte Teilliste um einen Eintrag größer wird. *Abbildung 16* zeigt den Sortierungsprozess des Insertion Sort. Die schattierten Einträge repräsentieren die geordneten Teillisten, die der Algorithmus bei jedem Durchgang durchläuft. \n",
    "\n",
    "<center><img src=\"Bilder/SuchenUndSortieren/sortierung4.PNG\"></center>\n",
    "<center> Abbildung 16: <code>insertionSort</code></center>\n",
    "\n",
    "Wir gehen zunächst davon aus, dass eine Liste mit einem Element (Position $0$) bereits sortiert ist. Bei jedem Durchgang, einer für jeden Eintrag von 1 bis $n-1$, wird der aktuelle Eintrag gegen die Einträge in der bereits sortierten Teilliste geprüft. Beim Rückblick auf die bereits sortierte Teilliste verschieben wir die Einträge, die größer sind, nach rechts. Wenn wir einen kleineren Eintrag oder das Ende der Teilliste erreichen, kann der aktuelle Eintrag eingefügt werden.\n",
    "\n",
    "*Abbildung 17* zeigt den fünften Durchgang im Detail. An dieser Stelle im Algorithmus existiert eine sortierte Teilliste mit fünf Elementen, bestehend aus 17, 26, 54, 77 und 93. Wir wollen 31 zurück in die bereits sortierten Elemente einfügen. Der erste Vergleich mit 93 bewirkt eine Verschiebung von 93 nach rechts. 77 und 54 werden ebenfalls verschoben. Wenn das Element 26 angetroffen wird, stoppt der Verschiebungsvorgang und 31 wird in die offene Position gebracht. Nun haben wir eine sortierte Teilliste mit sechs Positionen.\n",
    "\n",
    "<center><img src=\"Bilder/SuchenUndSortieren/sortierung5.PNG\"></center>\n",
    "<center> Abbildung 17: <code>insertionSort</code>: Fünfter Durchgang der Sortierung</center>\n",
    "\n",
    "Die Implementierung von `insertionSort` (**Codebeispiel 9**) zeigt, dass es wieder $n-1$ Durchgänge gibt, um $n$ Elemente zu sortieren. Die Iteration beginnt an Position 1 und bewegt sich durch die Position $n-1$, da dies die Elemente sind, die wieder in die sortierten Teillisten eingefügt werden müssen. Zeile 8 führt die Verschiebeoperation aus, die einen Wert in der Liste um eine Position nach oben verschiebt und dahinter Platz für die Einfügung schafft. Denken Sie daran, dass dies kein vollständiger Austausch ist, wie er in den vorherigen Algorithmen durchgeführt wurde.\n",
    "\n",
    "Die maximale Anzahl von Vergleichen für eine Einfügungssortierung ist die Summe der ersten $n-1$ ganzen Zahlen. Dies ist wiederum $O(n^2)$. Im besten Fall muss jedoch bei jedem Durchgang nur ein Vergleich durchgeführt werden. Dies wäre der Fall bei einer bereits sortierten Liste.\n",
    "\n",
    "Wichtig ist auch eine Bemerkung über Verschiebung versus Austausch. Im Allgemeinen erfordert ein Schichtbetrieb etwa ein Drittel der Bearbeitungsarbeit eines Austauschs, da nur ein Auftrag ausgeführt wird. In Benchmark-Studien wird die Einfügungssortierung eine sehr gute Leistung zeigen.\n",
    "\n",
    "**Codebeispiel 9**"
   ]
  },
  {
   "cell_type": "code",
   "execution_count": 8,
   "metadata": {},
   "outputs": [
    {
     "name": "stdout",
     "output_type": "stream",
     "text": [
      "[17, 20, 26, 31, 44, 54, 55, 77, 93]\n"
     ]
    }
   ],
   "source": [
    "%%tutor -l python3 -s -h 700\n",
    "\n",
    "def insertionSort(alist):\n",
    "   for index in range(1,len(alist)):\n",
    "\n",
    "     currentvalue = alist[index]\n",
    "     position = index\n",
    "\n",
    "     while position>0 and alist[position-1]>currentvalue:\n",
    "         alist[position]=alist[position-1]\n",
    "         position = position-1\n",
    "\n",
    "     alist[position]=currentvalue\n",
    "\n",
    "alist = [54,26,93,17,77,31,44,55,20]\n",
    "insertionSort(alist)\n",
    "print(alist)"
   ]
  },
  {
   "cell_type": "markdown",
   "metadata": {},
   "source": [
    "---\n",
    "\n",
    "**Selbstüberprüfung**"
   ]
  },
  {
   "cell_type": "code",
   "execution_count": 5,
   "metadata": {},
   "outputs": [
    {
     "name": "stdout",
     "output_type": "stream",
     "text": [
      "Angenommen, Sie haben die folgende Liste von Nummern zu sortieren: \n",
      "[15, 5, 4, 18, 12, 19, 14, 10, 8, 20]\n",
      "Welche Liste stellt die teilweise sortierte Liste nach drei vollständigen Durchläufen der Auswahlsortierung dar?\n"
     ]
    },
    {
     "data": {
      "application/vnd.jupyter.widget-view+json": {
       "model_id": "ce55f0b9c83e45c1b6605d1cc32b99cb",
       "version_major": 2,
       "version_minor": 0
      },
      "text/plain": [
       "RadioButtons(options=('[4, 5, 12, 15, 14, 10, 8, 18, 19, 20]', '[15, 5, 4, 10, 12, 8, 14, 18, 19, 20]', '[4, 5…"
      ]
     },
     "metadata": {},
     "output_type": "display_data"
    },
    {
     "data": {
      "application/vnd.jupyter.widget-view+json": {
       "model_id": "8b677f1e2f454984b64b3ea56179b8bc",
       "version_major": 2,
       "version_minor": 0
      },
      "text/plain": [
       "Button(description='Überprüfen', style=ButtonStyle(), tooltip='Click me')"
      ]
     },
     "metadata": {},
     "output_type": "display_data"
    }
   ],
   "source": [
    "display(Q9)"
   ]
  },
  {
   "cell_type": "markdown",
   "metadata": {},
   "source": [
    "---\n",
    "## Shell Sort\n",
    "Der **Shell Sort**, manchmal auch als \"abnehmende Inkrement-Sortierung\" bezeichnet, verbessert die Einfügungssortierung, indem sie die ursprüngliche Liste in eine Anzahl kleinerer Teillisten aufteilt, die jeweils mit einer Einfügungssortierung sortiert werden. Die einzigartige Art und Weise, wie diese Teillisten ausgewählt werden, ist der Schlüssel zur Shell-Sortierung. Anstatt die Liste in Unterlisten von zusammenhängenden Elementen zu unterteilen, verwendet die Shell-Sortierung ein Inkrement `i`, manchmal als **Lücke (Gab)** bezeichnet, um eine Unterliste zu erstellen, indem alle Elemente ausgewählt werden, die `i` Elemente auseinander liegen.\n",
    "\n",
    "Dies ist aus *Abbildung 18* ersichtlich. Diese Liste umfasst neun Punkte. Wenn wir ein Inkrement von drei verwenden, gibt es drei Unterlisten, von denen jede nach einer Einfügungssortierung sortiert werden kann. Nach Abschluss dieser Sortierungen erhalten wir die in *Abbildung 19* gezeigte Liste. Obwohl diese Liste nicht vollständig sortiert ist, ist etwas sehr Interessantes passiert. Durch die Sortierung der Unterlisten haben wir die Elemente näher an die Stelle gebracht, wo sie tatsächlich hingehören.\n",
    "\n",
    "<center><img src=\"Bilder/SuchenUndSortieren/sortierung6.PNG\"></center>\n",
    "<center> Abbildung 18: <code>shellSort</code>mit Dreier-Schritten</center>\n",
    "\n",
    "<center><img src=\"Bilder/SuchenUndSortieren/sortierung7.PNG\"></center>\n",
    "<center> Abbildung 19: <code>shellSort</code>nach dem Sortieren jeder Teilliste</center>\n",
    "\n",
    "*Abbildung 20* zeigt eine endgültige Einfügungssortierung mit einem Inkrement von Eins; mit anderen Worten, eine Standardeinfügungssortierung. Beachten Sie, dass wir durch die Durchführung der früheren Unterlisten-Sortierungen nun die Gesamtzahl der Verschiebeoperationen reduziert haben, die erforderlich sind, um die Liste in ihre endgültige Reihenfolge zu bringen. Für diesen Fall benötigen wir nur noch vier weitere Verschiebungen, um den Prozess abzuschließen.\n",
    " \n",
    "<center><img src=\"Bilder/SuchenUndSortieren/sortierung8.PNG\"></center>\n",
    "<center> Abbildung 20: <code>shellSort</code>: Finaler Insertion Sort mit Einer-Schritten</center>\n",
    "\n",
    "<center><img src=\"Bilder/SuchenUndSortieren/sortierung9.PNG\"></center>\n",
    "<center> Abbildung 21: Anfängliche Teillisten für eine Shell Sort</center>\n",
    "\n",
    "Wir haben vorhin gesagt, dass die Art und Weise, wie die Inkremente gewählt werden, das einzigartige Merkmal der Muschelart ist. Die in **Codebeispiel 10** gezeigte Funktion verwendet einen anderen Satz von Inkrementen. In diesem Fall beginnen wir mit $\\frac{n}{2}$ Teillisten. Im nächsten Durchgang werden $\\frac{n}{4}$ Teillisten sortiert. Schließlich wird eine einzelne Liste mit der grundlegenden Einfügesortierung sortiert. *Abbildung 21* zeigt die ersten Teillisten für unser Beispiel unter Verwendung dieses Inkrements.\n",
    "\n",
    "Der folgende Aufruf der Funktion `shellSort` zeigt die teilweise sortierten Listen nach jedem Inkrement, wobei die endgültige Sortierung eine Einfügesortierung mit einem Inkrement von Eins ist.\n",
    "\n",
    "**Codebeispiel 10**"
   ]
  },
  {
   "cell_type": "code",
   "execution_count": 10,
   "metadata": {},
   "outputs": [
    {
     "name": "stdout",
     "output_type": "stream",
     "text": [
      "After increments of size 4 The list is [20, 26, 44, 17, 54, 31, 93, 55, 77]\n",
      "After increments of size 2 The list is [20, 17, 44, 26, 54, 31, 77, 55, 93]\n",
      "After increments of size 1 The list is [17, 20, 26, 31, 44, 54, 55, 77, 93]\n",
      "[17, 20, 26, 31, 44, 54, 55, 77, 93]\n"
     ]
    }
   ],
   "source": [
    "%%tutor -l python3 -s -h 700\n",
    "\n",
    "def shellSort(alist):\n",
    "    sublistcount = len(alist)//2\n",
    "    while sublistcount > 0:\n",
    "\n",
    "      for startposition in range(sublistcount):\n",
    "        gapInsertionSort(alist,startposition,sublistcount)\n",
    "\n",
    "      print(\"After increments of size\",sublistcount,\n",
    "                                   \"The list is\",alist)\n",
    "\n",
    "      sublistcount = sublistcount // 2\n",
    "\n",
    "def gapInsertionSort(alist,start,gap):\n",
    "    for i in range(start+gap,len(alist),gap):\n",
    "\n",
    "        currentvalue = alist[i]\n",
    "        position = i\n",
    "\n",
    "        while position>=gap and alist[position-gap]>currentvalue:\n",
    "            alist[position]=alist[position-gap]\n",
    "            position = position-gap\n",
    "\n",
    "        alist[position]=currentvalue\n",
    "\n",
    "alist = [54,26,93,17,77,31,44,55,20]\n",
    "shellSort(alist)\n",
    "print(alist)"
   ]
  },
  {
   "cell_type": "markdown",
   "metadata": {},
   "source": [
    "Auf den ersten Blick könnte man meinen, dass ein Shell Sort nicht besser sein kann als ein Insertion Sort, da sie als letzten Schritt eine vollständige Insertion Sort durchführt. Es stellt sich jedoch heraus, dass diese letzte Insertion Sort nicht sehr viele Vergleiche (oder Verschiebungen) durchführen muss, da die Liste, wie oben beschrieben, durch frühere inkrementelle Einfüge-Sortierungen vorsortiert wurde. Mit anderen Worten, jeder Durchgang ergibt eine Liste, die \"besser sortiert\" ist als der vorherige. Dies macht den letzten Durchgang sehr effizient.\n",
    "\n",
    "Obwohl eine allgemeine Analyse der Schalenart den Rahmen dieses Textes bei weitem sprengt, können wir sagen, dass sie auf der Grundlage des oben beschriebenen Verhaltens dazu neigt, irgendwo zwischen $O(n)$ und $O(n^2)$ zu liegen. Für die in Listing 5 gezeigten Inkremente beträgt die Leistung $O(n^2)$. Durch Änderung des Inkrements, zum Beispiel durch Verwendung von $2k-1$ (1, 3, 7, 15, 31 usw.), kann eine Shell-Sortierung bei $O(n^\\frac{3}{2})$ durchgeführt werden.\n",
    "\n",
    "---\n",
    "**Selbstüberprüfung**"
   ]
  },
  {
   "cell_type": "code",
   "execution_count": 6,
   "metadata": {},
   "outputs": [
    {
     "name": "stdout",
     "output_type": "stream",
     "text": [
      "Angesichts der folgenden Liste von Zahlen:\n",
      "[5, 16, 20, 12, 3, 8, 9, 17, 19, 7]\n",
      "Welche Antwort veranschaulicht den Inhalt der Liste, nachdem der Tausch bei einer Lückengröße von 3 abgeschlossen ist?\n"
     ]
    },
    {
     "data": {
      "application/vnd.jupyter.widget-view+json": {
       "model_id": "8bb4b3f1e9924b1bb2efe154240728d3",
       "version_major": 2,
       "version_minor": 0
      },
      "text/plain": [
       "RadioButtons(options=('[5, 3, 8, 7, 16, 19, 9, 17, 20, 12]', '[3, 7, 5, 8, 9, 12, 19, 16, 20, 17]', '[3, 5, 7,…"
      ]
     },
     "metadata": {},
     "output_type": "display_data"
    },
    {
     "data": {
      "application/vnd.jupyter.widget-view+json": {
       "model_id": "00ef235564fd4b15b1c959b1da351139",
       "version_major": 2,
       "version_minor": 0
      },
      "text/plain": [
       "Button(description='Überprüfen', style=ButtonStyle(), tooltip='Click me')"
      ]
     },
     "metadata": {},
     "output_type": "display_data"
    }
   ],
   "source": [
    "display(Q10)"
   ]
  },
  {
   "cell_type": "markdown",
   "metadata": {},
   "source": [
    "---\n",
    "## Merge Sort\n",
    "Wir wenden unsere Aufmerksamkeit nun auf die Verwendung einer \"Divide and Conquer\"-Strategie als Mittel zur Verbesserung der Leistung von Sortieralgorithmen. Der erste Algorithmus, den wir untersuchen werden, ist der **Merge Sort**. Merge Sort ist ein rekursiver Algorithmus, der eine Liste kontinuierlich in zwei Hälften teilt. Wenn die Liste leer ist oder nur ein Element enthält, wird sie per Definition sortiert (der Basisfall). Wenn die Liste mehr als ein Element enthält, teilen wir die Liste auf und rufen rekursiv eine Merge-Sortierung für beide Hälften auf. Sobald die beiden Hälften sortiert sind, wird die grundlegende Operation, die als **Zusammenführen (Merge)** bezeichnet wird, ausgeführt. Beim Merge werden zwei kleinere sortierte Listen zu einer einzigen, sortierten, neuen Liste zusammengefügt. Abbildung 10 zeigt unsere bekannte Beispielliste, wie sie durch `mergeSort` geteilt wird. *Abbildung 22* zeigt die einfachen Listen, die jetzt sortiert sind, während sie wieder zusammengeführt werden.\n",
    "\n",
    "<center><img src=\"Bilder/SuchenUndSortieren/sortierung10.PNG\"></center>\n",
    "<center> Abbildung 22: Aufteilen der Listen im Merge Sort</center>\n",
    "\n",
    "<center><img src=\"Bilder/SuchenUndSortieren/sortierung11.PNG\"></center>\n",
    "<center> Abbildung 23: Listen, wie sie zusammengeführt werden</center>\n",
    "\n",
    "Die in **Codebeispiel 11** gezeigte Funktion `mergeSort` beginnt mit der Frage nach dem Basisfall. Wenn die Länge der Liste kleiner oder gleich eins ist, dann haben wir bereits eine sortierte Liste und es ist keine weitere Verarbeitung erforderlich. Ist die Länge dagegen größer als eins, dann verwenden wir die Python `slice`-Operation, um die linke und rechte Hälfte zu extrahieren. Es ist wichtig zu beachten, dass die Liste keine gerade Anzahl von Elementen enthalten darf. Das spielt keine Rolle, da sich die Längen höchstens um eins unterscheiden werden.\n",
    "\n",
    "**Codebeispiel 11**"
   ]
  },
  {
   "cell_type": "code",
   "execution_count": 12,
   "metadata": {},
   "outputs": [
    {
     "name": "stdout",
     "output_type": "stream",
     "text": [
      "Splitting  [54, 26, 93, 17, 77, 31, 44, 55, 20]\n",
      "Splitting  [54, 26, 93, 17]\n",
      "Splitting  [54, 26]\n",
      "Splitting  [54]\n",
      "Merging  [54]\n",
      "Splitting  [26]\n",
      "Merging  [26]\n",
      "Merging  [26, 54]\n",
      "Splitting  [93, 17]\n",
      "Splitting  [93]\n",
      "Merging  [93]\n",
      "Splitting  [17]\n",
      "Merging  [17]\n",
      "Merging  [17, 93]\n",
      "Merging  [17, 26, 54, 93]\n",
      "Splitting  [77, 31, 44, 55, 20]\n",
      "Splitting  [77, 31]\n",
      "Splitting  [77]\n",
      "Merging  [77]\n",
      "Splitting  [31]\n",
      "Merging  [31]\n",
      "Merging  [31, 77]\n",
      "Splitting  [44, 55, 20]\n",
      "Splitting  [44]\n",
      "Merging  [44]\n",
      "Splitting  [55, 20]\n",
      "Splitting  [55]\n",
      "Merging  [55]\n",
      "Splitting  [20]\n",
      "Merging  [20]\n",
      "Merging  [20, 55]\n",
      "Merging  [20, 44, 55]\n",
      "Merging  [20, 31, 44, 55, 77]\n",
      "Merging  [17, 20, 26, 31, 44, 54, 55, 77, 93]\n",
      "[17, 20, 26, 31, 44, 54, 55, 77, 93]\n"
     ]
    }
   ],
   "source": [
    "%%tutor -l python3 -s -h 700\n",
    "\n",
    "def mergeSort(alist):\n",
    "    print(\"Splitting \",alist)\n",
    "    if len(alist)>1:\n",
    "        # Teile Array in zwei Hälften\n",
    "        mid = len(alist)//2\n",
    "        lefthalf = alist[:mid]\n",
    "        righthalf = alist[mid:]\n",
    "        \n",
    "        # Sortiere erste und zweite Hälfte\n",
    "        mergeSort(lefthalf)\n",
    "        mergeSort(righthalf)\n",
    "\n",
    "        i= j = k =0\n",
    "        \n",
    "        # Kopiere Daten in temp. Arrays lefthalf und righthalf\n",
    "        while i < len(lefthalf) and j < len(righthalf):\n",
    "            if lefthalf[i] <= righthalf[j]:\n",
    "                alist[k]=lefthalf[i]\n",
    "                i=i+1\n",
    "            else:\n",
    "                alist[k]=righthalf[j]\n",
    "                j=j+1\n",
    "            k=k+1\n",
    "            \n",
    "        # Test ob Elemente übrig geblieben sind\n",
    "        while i < len(lefthalf):\n",
    "            alist[k]=lefthalf[i]\n",
    "            i=i+1\n",
    "            k=k+1\n",
    "\n",
    "        while j < len(righthalf):\n",
    "            alist[k]=righthalf[j]\n",
    "            j=j+1\n",
    "            k=k+1\n",
    "    print(\"Merging \",alist)\n",
    "\n",
    "alist = [54,26,93,17,77,31,44,55,20]\n",
    "mergeSort(alist)\n",
    "print(alist)"
   ]
  },
  {
   "cell_type": "markdown",
   "metadata": {},
   "source": [
    "Sobald die Funktion `mergeSort` auf der linken und rechten Hälfte aufgerufen wird (Zeilen 8-9), wird angenommen, dass sie sortiert sind. Der Rest der Funktion (Zeilen 11-31) ist für das Zusammenführen der beiden kleineren sortierten Listen zu einer größeren sortierten Liste verantwortlich. Beachten Sie, dass die Zusammenfügungsoperation die Elemente nacheinander wieder in die ursprüngliche Liste (`aliste`) einsetzt, indem sie wiederholt das kleinste Element aus den sortierten Listen nimmt. Beachten Sie, dass die Anweisung `lefthalf[i] <= righthalf[j]` sicherstellt, dass der Algorithmus **stabil** ist. Ein stabiler Algorithmus behält die Reihenfolge der doppelten Einträge in einer Liste bei und wird in den meisten Fällen bevorzugt.\n",
    "\n",
    "Die Funktion `mergeSort` wurde um eine `print`-Anweisung (Zeile 2) erweitert, die den Inhalt der Liste anzeigt, die zu Beginn jedes Aufrufs sortiert wird. Es gibt auch eine `print`-Anweisung (Zeile 32), die den Zusammenführungsprozess anzeigt. Das Transkript zeigt das Ergebnis der Ausführung der Funktion auf unserer Beispielliste. Beachten Sie, dass die Liste mit 44, 55 und 20 nicht gleichmäßig geteilt wird. Die erste Teilung ergibt [44] und die zweite [55,20]. Es ist leicht zu erkennen, wie der Aufteilungsprozess schließlich eine Liste ergibt, die sofort mit anderen sortierten Listen zusammengeführt werden kann.\n",
    "\n",
    "Um die Funktion `mergeSort` zu analysieren, müssen wir die beiden unterschiedlichen Prozesse betrachten, die ihre Implementierung ausmachen. Zunächst wird die Liste in Hälften geteilt. Wir haben bereits (in einer binären Suche) berechnet, dass wir eine Liste in halbe $log (n)$-mal teilen können, wobei *n* die Länge der Liste ist. Der zweite Prozess ist das Zusammenführen. Jeder Punkt in der Liste wird schließlich verarbeitet und auf die sortierte Liste gesetzt. Die Zusammenführungsoperation, die zu einer Liste der Größe n führt, erfordert also *n* Operationen. Das Ergebnis dieser Analyse sind $log (n)$-Splits, von denen jeder $n$ für insgesamt $n*log(n)$-Operationen kostet. Eine Merge-Sortierung ist ein $O(n *log (n))$-Algorithmus.\n",
    "\n",
    "Erinnern Sie sich, dass der Slicing-Operator $O(k)$ ist, wobei k die Größe der Scheibe ist. Um zu garantieren, dass `mergeSort` $O(n *log (n))$ sein wird, müssen wir den Slice-Operator entfernen. Auch dies ist möglich, wenn wir beim rekursiven Aufruf einfach den Anfangs- und Endindex zusammen mit der Liste übergeben. Wir belassen dies als eine Übung.\n",
    "\n",
    "Es ist wichtig zu beachten, dass die Funktion `mergeSort` zusätzlichen Platz benötigt, um die beiden Hälften zu halten, wenn sie mit den Slicing-Operationen extrahiert werden. Dieser zusätzliche Platz kann ein kritischer Faktor sein, wenn die Liste groß ist, und kann diese Sortierung bei der Arbeit mit großen Datensätzen problematisch machen.\n",
    "\n",
    "---\n",
    "**Selbstüberprüfung**"
   ]
  },
  {
   "cell_type": "code",
   "execution_count": 7,
   "metadata": {},
   "outputs": [
    {
     "name": "stdout",
     "output_type": "stream",
     "text": [
      "Angesichts der folgenden Liste von Zahlen: \n",
      " [21, 1, 26, 45, 29, 28, 2, 9, 16, 49, 39, 27, 43, 34, 46, 40]. \n",
      " Welche Antwort veranschaulicht \n",
      " die zu sortierende Liste nach 3 rekursiven Aufrufen von Mergesort?\n"
     ]
    },
    {
     "data": {
      "application/vnd.jupyter.widget-view+json": {
       "model_id": "e70095a84e344870a8214fc4cb7f1b24",
       "version_major": 2,
       "version_minor": 0
      },
      "text/plain": [
       "RadioButtons(options=('[16, 49, 39, 27, 43, 34, 46, 40]', '[21,1]', '[21, 1, 26, 45]', '[21]'), value='[16, 49…"
      ]
     },
     "metadata": {},
     "output_type": "display_data"
    },
    {
     "name": "stdout",
     "output_type": "stream",
     "text": [
      "Angesichts der folgenden Liste von Zahlen: \n",
      " [21, 1, 26, 45, 29, 28, 2, 9, 16, 49, 39, 27, 43, 34, 46, 40].\n",
      " Welche Antwort veranschaulicht die ersten beiden Listen, \n",
      " die zusammengeführt werden sollen?\n"
     ]
    },
    {
     "data": {
      "application/vnd.jupyter.widget-view+json": {
       "model_id": "2d568ef2292943369546152e8073117a",
       "version_major": 2,
       "version_minor": 0
      },
      "text/plain": [
       "RadioButtons(options=('[21, 1] und [26, 45]', '[[1, 2, 9, 21, 26, 28, 29, 45] and [16, 27, 34, 39, 40, 43, 46,…"
      ]
     },
     "metadata": {},
     "output_type": "display_data"
    },
    {
     "data": {
      "application/vnd.jupyter.widget-view+json": {
       "model_id": "825a5fb5737b4e54a9509884fd2b9596",
       "version_major": 2,
       "version_minor": 0
      },
      "text/plain": [
       "Button(description='Überprüfen', icon='check', style=ButtonStyle(), tooltip='Click me')"
      ]
     },
     "metadata": {},
     "output_type": "display_data"
    }
   ],
   "source": [
    "display(Q11)\n",
    "display(Q12)"
   ]
  },
  {
   "cell_type": "markdown",
   "metadata": {},
   "source": [
    "---\n",
    "## Quick Sort\n",
    "Der **Quick Sort** nutzt Divide and Conquer, um die gleichen Vorteile wie die Merge Sort zu erzielen, ohne zusätzlichen Speicherplatz zu verbrauchen. Als Kompromiss ist es jedoch möglich, dass die Liste nicht in zwei Hälften geteilt wird. Wenn dies geschieht, werden wir sehen, dass die Leistung vermindert wird.\n",
    "\n",
    "Bei einer Schnellsortierung wird zunächst ein Wert ausgewählt, der als **Pivot-Wert** bezeichnet wird. Obwohl es viele verschiedene Möglichkeiten gibt, den Pivot-Wert zu wählen, werden wir einfach den ersten Punkt in der Liste verwenden. Die Rolle des Pivot-Wertes besteht darin, beim Aufteilen der Liste zu helfen. Die tatsächliche Position, an der der Pivot-Wert in die endgültig sortierte Liste gehört, allgemein als **Split-Punkt** bezeichnet, wird verwendet, um die Liste für nachfolgende Aufrufe zur schnellen Sortierung aufzuteilen.\n",
    "\n",
    "*Abbildung 24* zeigt, dass 54 als unser erster Pivot-Wert dienen wird. Da wir uns dieses Beispiel bereits einige Male angeschaut haben, wissen wir, dass 54 schließlich in der Position landen wird, die derzeit 31 beträgt. Der **Teilungsprozess** wird als nächstes stattfinden. Er wird den Aufteilungspunkt finden und gleichzeitig andere Positionen auf die entsprechende Seite der Liste verschieben, die entweder kleiner oder größer als der Pivot-Wert sind.\n",
    "\n",
    "<center><img src=\"Bilder/SuchenUndSortieren/sortierung12.PNG\"></center>\n",
    "<center> Abbildung 22: Der erste Pivot-Wert in einem Quick Sort</center>\n",
    "\n",
    "Die Partitionierung beginnt mit der Lokalisierung von zwei Positionsmarkierungen - nennen wir sie `leftmark` und `rightmark` - am Anfang und Ende der verbleibenden Positionen in der Liste (Positionen 1 und 8 in *Abbildung 23* Das Ziel des Partitionierungsprozesses ist es, Elemente zu verschieben, die sich in Bezug auf den Pivot-Wert auf der falschen Seite befinden, während sie gleichzeitig am Aufteilungspunkt zusammenlaufen. *Abbildung 23* zeigt diesen Prozess, während wir die Position 54 lokalisieren.\n",
    "\n",
    "<center><img src=\"Bilder/SuchenUndSortieren/sortierung13.PNG\"></center>\n",
    "<center> Abbildung 23: Finden des Split-Punktes für 54</center>\n",
    "\n",
    "Wir beginnen mit der Inkrementierung von `leftmark`, bis wir einen Wert finden, der größer als der Pivot-Wert ist. Dann dekrementieren wir `rightmark`, bis wir einen Wert finden, der kleiner als der Pivot-Wert ist. Zu diesem Zeitpunkt haben wir zwei Elemente entdeckt, die in Bezug auf den eventuellen Aufteilungspunkt fehl am Platz sind. In unserem Beispiel geschieht dies bei 93 und 20. Jetzt können wir diese beiden Elemente austauschen und den Vorgang dann noch einmal wiederholen.\n",
    "\n",
    "An dem Punkt, an dem  `rightmark` kleiner wird als `leftmark`, hören wir auf. Die Position von `rightmark` ist nun der Splitpunkt. Der Pivot-Wert kann mit dem Inhalt des Aufteilungspunktes vertauscht werden, und der Pivot-Wert ist jetzt an Ort und Stelle (*Abbildung 24*). Darüber hinaus sind alle Elemente links vom Aufteilungspunkt kleiner als der Pivot-Wert, und alle Elemente rechts vom Aufteilungspunkt sind größer als der Pivot-Wert. Die Liste kann jetzt am Aufteilungspunkt geteilt werden, und die Schnellsortierung kann rekursiv auf die beiden Hälften angewendet werden.\n",
    "\n",
    "<center><img src=\"Bilder/SuchenUndSortieren/sortierung14.PNG\"></center>\n",
    "<center> Abbildung 24: Abschluss des Partitionierungsprozesses zur Ermittlung des Split-Punktes für 54</center>\n",
    "\n",
    "Die in **Codebeispiel 12** gezeigte Funktion `quickSort` ruft eine rekursive Funktion, `quickSortHelper`, auf. `quickSortHelper` beginnt mit dem gleichen Basisfall wie die Merge-Sortierung. Wenn die Länge der Liste kleiner oder gleich eins ist, ist sie bereits sortiert. Ist sie größer, dann kann sie partitioniert und rekursiv sortiert werden. Die Funktion `partition` implementiert den zuvor beschriebenen Prozess.\n",
    "\n",
    "**Codebeispiel 12**"
   ]
  },
  {
   "cell_type": "code",
   "execution_count": 14,
   "metadata": {},
   "outputs": [
    {
     "name": "stdout",
     "output_type": "stream",
     "text": [
      "[17, 20, 26, 31, 44, 54, 55, 77, 93]\n"
     ]
    }
   ],
   "source": [
    "%%tutor -l python3 -s -h 700\n",
    "\n",
    "def quickSort(alist):  \n",
    "    quickSortHelper(alist,0,len(alist)-1)\n",
    "\n",
    "def quickSortHelper(alist,first,last):\n",
    "   if first<last:\n",
    "\n",
    "       splitpoint = partition(alist,first,last)\n",
    "\n",
    "       quickSortHelper(alist,first,splitpoint-1)\n",
    "       quickSortHelper(alist,splitpoint+1,last)\n",
    "\n",
    "\n",
    "def partition(alist,first,last):\n",
    "   pivotvalue = alist[first]\n",
    "\n",
    "   leftmark = first+1\n",
    "   rightmark = last\n",
    "\n",
    "   done = False\n",
    "   while not done:\n",
    "\n",
    "       while leftmark <= rightmark and alist[leftmark] <= pivotvalue:\n",
    "           leftmark = leftmark + 1\n",
    "\n",
    "       while alist[rightmark] >= pivotvalue and rightmark >= leftmark:\n",
    "           rightmark = rightmark -1\n",
    "\n",
    "       if rightmark < leftmark:\n",
    "           done = True\n",
    "       else:\n",
    "           temp = alist[leftmark]\n",
    "           alist[leftmark] = alist[rightmark]\n",
    "           alist[rightmark] = temp\n",
    "\n",
    "   temp = alist[first]\n",
    "   alist[first] = alist[rightmark]\n",
    "   alist[rightmark] = temp\n",
    "\n",
    "\n",
    "   return rightmark\n",
    "\n",
    "alist = [54,26,93,17,77,31,44,55,20]\n",
    "quickSort(alist)\n",
    "print(alist)"
   ]
  },
  {
   "cell_type": "markdown",
   "metadata": {},
   "source": [
    "Beachten Sie zur Analyse der Funktion `quickSort`, dass bei einer Liste der Länge *n*, wenn die Partition immer in der Mitte der Liste steht, wieder $Log(n)$-Divisionen auftreten. Um den Aufteilungspunkt zu finden, muss jedes der *n* Elemente gegen den Pivot-Wert geprüft werden. Das Ergebnis ist $n*Log(n)$. Darüber hinaus wird kein zusätzlicher Speicher wie beim Merge-Sortierprozess benötigt.\n",
    "\n",
    "Leider liegen die Spaltpunkte im schlimmsten Fall möglicherweise nicht in der Mitte und können sehr schräg nach links oder rechts verlaufen, so dass eine sehr ungleichmäßige Verteilung entsteht. In diesem Fall teilt sich das Sortieren einer Liste mit n Elementen in das Sortieren einer Liste mit 0 Elementen und einer Liste mit $n-1$ Elementen. Das anschließende Sortieren einer Liste mit $n-1$ teilt sich in eine Liste mit der Größe 0 und eine Liste mit der Größe $n-2$ und so weiter. Das Ergebnis ist eine $O(n^2)$-Sortierung mit all dem Overhead, den die Rekursion erfordert.\n",
    "\n",
    "Wir haben bereits erwähnt, dass es verschiedene Möglichkeiten gibt, den Pivot-Wert zu wählen. Insbesondere können wir versuchen, einen Teil des Potenzials für eine ungleiche Aufteilung zu mildern, indem wir eine Technik namens **Median von drei** anwenden. Um den Pivot-Wert zu wählen, werden wir das erste, das mittlere und das letzte Element in der Liste betrachten. In unserem Beispiel sind dies 54, 77 und 20. Wählen Sie nun den Medianwert, in unserem Fall 54, und verwenden Sie ihn für den Pivot-Wert (das war natürlich der ursprünglich verwendete Pivot-Wert). Die Idee ist, dass in dem Fall, dass der erste Punkt in der Liste nicht in die Mitte der Liste gehört, der Median von drei einen besseren \"mittleren\" Wert wählt. Dies wird besonders nützlich sein, wenn die ursprüngliche Liste zu Beginn etwas sortiert ist. Wir überlassen die Durchführung dieser Pivotwertauswahl als Übung.\n",
    "\n",
    "---\n",
    "**Selbstüberprüfung**"
   ]
  },
  {
   "cell_type": "code",
   "execution_count": 8,
   "metadata": {},
   "outputs": [
    {
     "name": "stdout",
     "output_type": "stream",
     "text": [
      "Angesichts der folgenden Liste von Zahlen:\n",
      "[14, 17, 13, 15, 19, 10, 3, 16, 9, 12]\n",
      "Welche Antwort zeigt den Inhalt der Liste nach der zweiten Partitionierung nach dem Quicksort-Algorithmus?\n"
     ]
    },
    {
     "data": {
      "application/vnd.jupyter.widget-view+json": {
       "model_id": "9f47ad15ddcf4fa2a7e8d2046332b908",
       "version_major": 2,
       "version_minor": 0
      },
      "text/plain": [
       "RadioButtons(options=('[9, 3, 10, 13, 12]', '[9, 3, 10, 13, 12, 14]', '[9, 3, 10, 13, 12, 14, 17, 16, 15, 19]'…"
      ]
     },
     "metadata": {},
     "output_type": "display_data"
    },
    {
     "data": {
      "application/vnd.jupyter.widget-view+json": {
       "model_id": "569d72b302214e58b89d3ae138a73922",
       "version_major": 2,
       "version_minor": 0
      },
      "text/plain": [
       "Button(description='Überprüfen', style=ButtonStyle(), tooltip='Click me')"
      ]
     },
     "metadata": {},
     "output_type": "display_data"
    }
   ],
   "source": [
    "display(Q13)\n",
    "display(Q14)\n",
    "#display(Q15)"
   ]
  },
  {
   "cell_type": "markdown",
   "metadata": {},
   "source": [
    "---\n",
    "## Zusammenfassung\n",
    "+ Eine sequentielle Suche ist $O(n)$ für geordnete und ungeordnete Listen.\n",
    "+ Eine binäre Suche einer geordneten Liste ist im schlimmsten Fall $O(log(n))$.\n",
    "+ Hash-Tabellen können eine zeitkonstante Suche ermöglichen.\n",
    "+ Ein Bubble Sort, ein  Selection Sort und ein  Insertion Sort sind $O(n^2)$-Algorithmen.\n",
    "+ Ein Shell Sort verbessert den Insertion Sort, indem er inkrementelle Teillisten sortiert. Er fällt zwischen $O(n)$ und $O(n^2)$.\n",
    "+ Ein Merge Sort ist $O(n*log(n))$, benötigt aber zusätzlichen Platz für den Einfügungsprozess.\n",
    "+ Ein Quick Sort ist $O(n*log(n))$, kann sich aber zu $O(n^2)$ verschlechtern, wenn die Aufteilungspunkte nicht in der Nähe der Mitte der Liste liegen. Sie benötigt keinen zusätzlichen Platz."
   ]
  },
  {
   "cell_type": "markdown",
   "metadata": {},
   "source": [
    "## Schlüsselbegriffe\n",
    "+ Binär Suche\n",
    "+ Bubble Sort\n",
    "+ Chaining\n",
    "+ Clustern\n",
    "+ Falmethode\n",
    "+ Gap \n",
    "+ Hash-Funktion\n",
    "+ Hash-Tabelle\n",
    "+ Hashing\n",
    "+ Insertion Sort\n",
    "+ Kollision\n",
    "+ Kollisionsauflösung\n",
    "+ Ladefaktor\n",
    "+ lineare Prüfung\n",
    "+ Map\n",
    "+ Median-of-Three\n",
    "+ Merge\n",
    "+ Merge Sort\n",
    "+ Mid-Square Mothode\n",
    "+ offene Adressierung\n",
    "+ perfekte Hash-Funktion\n",
    "+ Pivot-Wert\n",
    "+ quadratische Prüfung\n",
    "+ Quick Sort\n",
    "+ Rehashing\n",
    "+ Selection Sort\n",
    "+ sequentielle Suche\n",
    "+ Shell Sort\n",
    "+ Slot\n",
    "+ Teilung\n",
    "+ Trennpunnkt"
   ]
  },
  {
   "cell_type": "markdown",
   "metadata": {},
   "source": [
    "## Fragen zur Diskussion\n",
    "1. Berechnen Sie unter Verwendung der im Kapitel angegebenen Leistungsformeln für die Hash-Tabelle die durchschnittliche Anzahl der erforderlichen Vergleiche, wenn die Tabelle\n",
    "    + zu 10% gefüllt ist\n",
    "    + zu 25% gefüllt ist\n",
    "    + zu 50% gefüllt ist\n",
    "    + zu 75% gefüllt ist\n",
    "    + zu 90% gefüllt ist\n",
    "    + zu 90% gefüllt ist      \n",
    "Ab welchem Punkt ist Ihrer Meinung nach die Hash-Tabelle zu klein? Erklären Sie Ihre Antwort.\n",
    "\n",
    "\n",
    "2. Ändern Sie die Hash-Funktion für Zeichenketten, um Positionsgewichtungen zu verwenden.\n",
    "\n",
    "\n",
    "3. Wir verwendeten eine Hash-Funktion für Zeichenketten, die die Zeichen nach Position gewichtet. Entwickeln Sie ein alternatives Gewichtungsschema. Welches sind die Verzerrungen, die es bei diesen Funktionen gibt?\n",
    "\n",
    "\n",
    "4. Recherchieren Sie perfekte Hash-Funktionen. Erzeugen Sie anhand einer Liste von Namen (Klassenkameraden, Familienmitglieder usw.) die Hash-Werte mit dem perfekten Hash-Algorithmus.\n",
    "\n",
    "\n",
    "5. Erzeugen Sie eine Zufallsliste von ganzen Zahlen. Zeigen Sie, wie diese Liste nach den folgenden Algorithmen sortiert ist:\n",
    "    + Bubble Sort\n",
    "    + Selection Sort\n",
    "    + Insertion Sort\n",
    "    + Shell Sort (Sie entscheiden über die Inkremente)\n",
    "    + Merge Sort\n",
    "    + Quick Sort (Sie entscheiden über den Pivot-Wert)\n",
    "\n",
    "\n",
    "6. Betrachten Sie die folgende Liste von ganzen Zahlen: [1,2,3,4,5,6,7,8,9,10]. Zeigen Sie, wie diese Liste nach den folgenden Algorithmen sortiert ist: \n",
    "    + Bubble Sort\n",
    "    + Selection Sort\n",
    "    + Insertion Sort\n",
    "    + Shell Sort (Sie entscheiden über die Inkremente)\n",
    "    + Merge Sort\n",
    "    + Quick Sort (Sie entscheiden über den Pivot-Wert)\n",
    "\n",
    "\n",
    "7. Betrachten Sie die folgende Liste von ganzen Zahlen: [10,9,8,7,6,5,4,3,2,1]. Zeigen Sie, wie diese Liste nach den folgenden Algorithmen sortiert ist: \n",
    "    + Bubble Sort\n",
    "    + Selection Sort\n",
    "    + Insertion Sort\n",
    "    + Shell Sort (Sie entscheiden über die Inkremente)\n",
    "    + Merge Sort\n",
    "    + Quick Sort (Sie entscheiden über den Pivot-Wert)\n",
    "\n",
    "\n",
    "8. Betrachten Sie die Liste der Zeichen: ['P','Y','T','H','O','N']. Zeigen Sie, wie diese Liste mit den folgenden Algorithmen sortiert ist:\n",
    "    + Bubble Sort\n",
    "    + Selection Sort\n",
    "    + Insertion Sort\n",
    "    + Shell Sort (Sie entscheiden über die Inkremente)\n",
    "    + Merge Sort\n",
    "    + Quick Sort (Sie entscheiden über den Pivot-Wert)\n",
    "\n",
    "\n",
    "9. Entwickeln Sie alternative Strategien für die Wahl des Pivot-Wertes im Quick Sort. Wählen Sie z.B. das mittlere Element. Implementieren Sie den Algorithmus erneut und führen Sie ihn dann an zufälligen Datensätzen aus. Unter welchen Kriterien schneidet Ihre neue Strategie besser oder schlechter ab als die Strategie aus diesem Kapitel?"
   ]
  },
  {
   "cell_type": "markdown",
   "metadata": {},
   "source": [
    "## Programmieraufgaben\n",
    "1. Richten Sie ein Zufallsexperiment ein, um den Unterschied zwischen einer sequentiellen Suche und einer binären Suche auf einer Liste von ganzen Zahlen zu testen.\n",
    "\n",
    "\n",
    "2. Verwenden Sie die im Text angegebenen binären Suchfunktionen (rekursiv und iterativ). Erzeugen Sie eine zufällige, geordnete Liste von ganzen Zahlen und führen Sie für jede einzelne eine Benchmark-Analyse durch. Was sind Ihre Ergebnisse? Können Sie sie erklären?\n",
    "\n",
    "\n",
    "3. Implementieren Sie die binäre Suche mittels Rekursion ohne den Slice-Operator. Denken Sie daran, dass Sie die Liste zusammen mit den Anfangs- und Endindexwerten für die Teilliste übergeben müssen. Erzeugen Sie eine zufällige, geordnete Liste von ganzen Zahlen und führen Sie eine Benchmark-Analyse durch.\n",
    "\n",
    "\n",
    "4. Implementieren Sie die `len`-Methode (__len__) für die Implementierung der Hash-Tabelle Map ADT.\n",
    "\n",
    "\n",
    "5. Implementieren Sie die `in`-Methode (__contains__) für die Implementierung der Hash-Tabelle Map ADT.\n",
    "\n",
    "\n",
    "6. Wie können Sie Elemente aus einer Hash-Tabelle löschen, die Verkettung zur Kollisionsauflösung verwendet? Wie ist es, wenn offene Adressierung verwendet wird? Was sind die besonderen Umstände, die behandelt werden müssen? Implementieren Sie die Methode `del` für die Klasse `HashTable`.\n",
    "\n",
    "\n",
    "7. Bei der Implementierung der Hash-Table-Map wurde die Größe der Hash-Tabelle mit 101 gewählt. Wenn die Tabelle voll wird, muss diese erhöht werden. Implementieren Sie die `put`-Methode neu, so dass die Tabelle automatisch ihre Größe anpasst, wenn der Ladefaktor einen vorgegebenen Wert erreicht (Sie können den Wert auf der Grundlage Ihrer Bewertung von Last und Leistung festlegen).\n",
    "\n",
    "\n",
    "8. Implementieren Sie die quadratische Untersuchung als Rehash-Technik.\n",
    "\n",
    "\n",
    "9. Erstellen Sie mit einem Zufallszahlengenerator eine Liste von 500 ganzen Zahlen. Führen Sie eine Benchmark-Analyse mit einigen der Sortieralgorithmen aus diesem Kapitel durch. Was ist der Unterschied in der Ausführungsgeschwindigkeit?\n",
    "\n",
    "\n",
    "10. Implementieren Sie den Bubble Sort mit gleichzeitiger Zuweisung.\n",
    "\n",
    "\n",
    "11. Eine Bubble-Sortierung kann in beiden Richtungen auf \"Bubble\" umgestellt werden. Der erste Durchgang bewegt sich in der Liste \"nach oben\", der zweite Durchgang \"nach unten\". Dieses alternierende Muster setzt sich fort, bis keine weiteren Durchgänge mehr erforderlich sind. Implementieren Sie diese Variation und beschreiben Sie, unter welchen Umständen sie angebracht sein könnte.\n",
    "\n",
    "\n",
    "12. Implementieren Sie den Selection Sort unter Verwendung der Simultanzuordnung.\n",
    "\n",
    "\n",
    "13. Führen Sie eine Benchmark-Analyse für den Shell Sort durch, indem Sie verschiedene Inkrementierungssätze auf derselben Liste verwenden.\n",
    "\n",
    "\n",
    "14. Implementieren Sie die Funktion `mergeSort` ohne Verwendung des Slice-Operators.\n",
    "\n",
    "\n",
    "15. Eine Möglichkeit, den Quick Sort zu verbessern, ist die Verwendung eines Insertion Sort bei Listen, die eine geringe Länge haben (nennen Sie sie \"Partition Limit\"). Warum macht dies Sinn? Implementieren Sie den Quick Sort neu und verwenden Sie ihn, um eine zufällige Liste von ganzen Zahlen zu sortieren. Führen Sie eine Analyse mit verschiedenen Listengrößen für die Partitionsbegrenzung durch.\n",
    "\n",
    "\n",
    "16. Implementieren Sie die Median-of-Three-Methode zur Auswahl eines Pivot-Wertes als Modifikation von `quickSort`. Führen Sie ein Experiment durch, um die beiden Techniken zu vergleichen."
   ]
  }
 ],
 "metadata": {
  "kernelspec": {
   "display_name": "Python 3",
   "language": "python",
   "name": "python3"
  },
  "language_info": {
   "codemirror_mode": {
    "name": "ipython",
    "version": 3
   },
   "file_extension": ".py",
   "mimetype": "text/x-python",
   "name": "python",
   "nbconvert_exporter": "python",
   "pygments_lexer": "ipython3",
   "version": "3.8.2"
  }
 },
 "nbformat": 4,
 "nbformat_minor": 4
}
