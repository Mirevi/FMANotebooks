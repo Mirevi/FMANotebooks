{
 "cells": [
  {
   "cell_type": "code",
   "execution_count": 25,
   "metadata": {},
   "outputs": [
    {
     "data": {
      "text/html": [
       "<script>\n",
       "code_show=true; \n",
       "function code_toggle() {\n",
       "  if (code_show) {\n",
       "    $('div.input').each(function(id) {\n",
       "      el = $(this).find('.cm-variable:first');\n",
       "      if (id == 0 || el.text() == 'hide_me') {\n",
       "        $(this).hide();\n",
       "      }\n",
       "    });\n",
       "    $('div.output_prompt').css('opacity', 0);\n",
       "  } else {\n",
       "    $('div.input').each(function(id) {\n",
       "      $(this).show();\n",
       "    });\n",
       "    $('div.output_prompt').css('opacity', 1);\n",
       "  }\n",
       "  code_show = !code_show\n",
       "} \n",
       "$( document ).ready(code_toggle);\n",
       "</script>\n",
       "<form action=\"javascript:code_toggle()\"><input style=\"opacity:0\" type=\"submit\" value=\"Click here to toggle on/off the raw code.\"></form>"
      ],
      "text/plain": [
       "<IPython.core.display.HTML object>"
      ]
     },
     "execution_count": 25,
     "metadata": {},
     "output_type": "execute_result"
    }
   ],
   "source": [
    "# This is a cell to hide code snippets from displaying\n",
    "# This must be at first cell!\n",
    "\n",
    "from IPython.display import HTML\n",
    "\n",
    "hide_me = ''\n",
    "HTML('''<script>\n",
    "code_show=true; \n",
    "function code_toggle() {\n",
    "  if (code_show) {\n",
    "    $('div.input').each(function(id) {\n",
    "      el = $(this).find('.cm-variable:first');\n",
    "      if (id == 0 || el.text() == 'hide_me') {\n",
    "        $(this).hide();\n",
    "      }\n",
    "    });\n",
    "    $('div.output_prompt').css('opacity', 0);\n",
    "  } else {\n",
    "    $('div.input').each(function(id) {\n",
    "      $(this).show();\n",
    "    });\n",
    "    $('div.output_prompt').css('opacity', 1);\n",
    "  }\n",
    "  code_show = !code_show\n",
    "} \n",
    "$( document ).ready(code_toggle);\n",
    "</script>\n",
    "<form action=\"javascript:code_toggle()\"><input style=\"opacity:0\" type=\"submit\" value=\"Click here to toggle on/off the raw code.\"></form>''')"
   ]
  },
  {
   "cell_type": "code",
   "execution_count": 26,
   "metadata": {},
   "outputs": [],
   "source": [
    "hide_me\n",
    "\n",
    "from metakernel import register_ipython_magics\n",
    "register_ipython_magics()\n",
    "\n",
    "import ipywidgets as widgets\n",
    "import sys\n",
    "from IPython.display import display\n",
    "from IPython.display import clear_output\n",
    "\n",
    "from pythonds.basic import Stack\n",
    "\n",
    "\n",
    "def create_multipleChoice_widget(description, options, correct_answer):\n",
    "    if correct_answer not in options:\n",
    "        options.append(correct_answer)\n",
    "    \n",
    "    correct_answer_index = options.index(correct_answer)\n",
    "    \n",
    "    radio_options = [(words, i) for i, words in enumerate(options)]\n",
    "    alternativ = widgets.RadioButtons(\n",
    "        options = radio_options,\n",
    "        description = '',\n",
    "        disabled = False\n",
    "    )\n",
    "    \n",
    "    description_out = widgets.Output()\n",
    "    with description_out:\n",
    "        print(description)\n",
    "        \n",
    "    feedback_out = widgets.Output()\n",
    "\n",
    "    def check_selection(b):\n",
    "        a = int(alternativ.value)\n",
    "        if a==correct_answer_index:\n",
    "            s = '\\x1b[6;30;42m' + \"Richtig.\" + '\\x1b[0m' +\"\\n\" #green color\n",
    "        else:\n",
    "            s = '\\x1b[5;30;41m' + \"Fail. \" + '\\x1b[0m' +\"\\n\" #red color\n",
    "        with feedback_out:\n",
    "            clear_output()\n",
    "            print(s)\n",
    "        return\n",
    "    \n",
    "    check = widgets.Button(description=\"submit\")\n",
    "    check.on_click(check_selection)\n",
    "    \n",
    "    \n",
    "    return widgets.VBox([description_out, alternativ, check, feedback_out])\n",
    "\n",
    "\n",
    "frage1 = 'Welches I/O-Prinzip liegt der Datenstruktur Stack zugrunde'\n",
    "frage2 ='Was ist das Ergebnis bei folgenden Operationen? m = Stack(), m.push(x), m.push(y), m.pop(), m.push(z), m.peek()'\n",
    "frage3 =\"\"\"Was ist das Ergebnis bei folgenden Operationen?\n",
    "\n",
    "m = Stack()\n",
    "m.push(x)\n",
    "m.push(y)\n",
    "m.push(z)\n",
    "while not m.isEmpty():\n",
    "   m.pop()\n",
    "   m.pop()\n",
    "m.peek()\n",
    "\"\"\"\n",
    "\n",
    "Q1 = create_multipleChoice_widget(frage1,['First-In, First-Out (FIFO)','Last-In, First-Out (LIFO)','Last-Out, First-In (LOFI)'],'Last-In, First-Out (LIFO)')\n",
    "Q2 = create_multipleChoice_widget(frage2,['x','y','z','Der Stapel ist leer'],'z')\n",
    "Q3 = create_multipleChoice_widget(frage3, ['x','der Stapel ist leer','ein Fehler erscheint','z'],'ein Fehler erscheint')\n"
   ]
  },
  {
   "cell_type": "markdown",
   "metadata": {},
   "source": [
    "<img src=\"Bilder/MIREVIBanner.jpg\">\n",
    "\n",
    "# Abstrakte Datenstrukturen, Teil 1"
   ]
  },
  {
   "cell_type": "markdown",
   "metadata": {},
   "source": [
    "---\n",
    "## Ziele \n",
    "- die abstrakten Datentypen Stack, Queue, Deque und List verstehen.\n",
    "- die ADTs Stack, Queue und Deque unter Verwendung von Python-Listen implementieren können.\n",
    "- die Performanz der Implementierungen von grundlegenden linearen Datenstrukturen zu verstehen.\n",
    "- Verstehen der Präfix-, Infix- und Postfix-Ausdrucksformate.\n",
    "- Verwendung von Stacks zur Auswertung von Postfix-Ausdrücken.\n",
    "- Verwendung von Stacks zur Konvertierung von Ausdrücken von Infix- in Postfix-Ausdrücke.\n",
    "- Verwendung von Warteschlangen für grundlegende Timing-Simulationen.\n",
    "- Probleme erkennen, bei denen Stacks, Warteschlangen und Deques geeignete Datenstrukturen sind.\n",
    "- den ADT Liste als verlinkte Liste unter Verwendung des Knoten- und Zeigerkonzepts implementieren zu können.\n",
    "- die Leistung der Implementierung der verknüpften Liste mit der Listenimplementierung von Python vergleichen.\n",
    "---\n",
    "### Motivation\n",
    "Wir beginnen unser Studium der Datenstrukturen mit der Betrachtung von vier einfachen, aber sehr mächtigen Konzepten: *Stapel, Warteschlangen, Deques* und *Listen* sind Beispiele für Datensammlungen, deren Elemente je nachdem, wie sie hinzugefügt oder entfernt werden, geordnet sind. Sobald ein Element hinzugefügt wird, bleibt es in dieser Position relativ zu den anderen Elementen, die davor und danach kamen. Sammlungen wie diese werden oft als lineare Datenstrukturen bezeichnet.\n",
    "\n",
    "Lineare Strukturen kann man sich vorstellen, dass sie zwei Endpunkte haben. Manchmal werden diese Enden als das \"linke\" und das \"rechte\" oder in einigen Fällen als das \"vordere\" und das \"hintere\" Ende bezeichnet. Man könnte sie auch als \"oben\" und \"unten\" bezeichnen. Die verschiedenen Namen, die den Enden gegeben werden, sind nicht entscheidend. Was eine lineare Struktur von einer anderen unterscheidet, ist die Art und Weise, in der Elemente hinzugefügt und entfernt werden, insbesondere die Stelle, an der diese Hinzufügungen und Entfernungen stattfinden. Zum Beispiel könnte eine Struktur es erlauben, dass neue Elemente nur an einem Ende hinzugefügt werden. Einige Strukturen könnten es erlauben, Elemente an beiden Enden zu entfernen.\n",
    "\n",
    "Aus diesen Variationen ergeben sich einige der nützlichsten Datenstrukturen in der Informatik. Sie kommen in vielen Algorithmen vor und können zur Lösung einer Vielzahl von wichtigen Problemen verwendet werden."
   ]
  },
  {
   "cell_type": "markdown",
   "metadata": {},
   "source": [
    "---\n",
    "## Stack, Keller und Stapel\n",
    "Ein Stapel (manchmal auch als \"Push-Down-Stapel\", Stack oder Keller bezeichnet) ist eine geordnete Sammlung von Elementen, bei der das Hinzufügen neuer Elemente und das Entfernen bestehender Elemente immer am gleichen Ende stattfindet. Dieses Ende wird allgemein als *oben* bezeichnet. Das dem oberen Ende gegenüberliegende *untere* Ende wird als \"Basis\" bezeichnet.\n",
    "\n",
    "Das untere Ende des Stapels ist von Bedeutung, da die näher am unteren Ende des Stapels gelagerten Artikel diejenigen repräsentieren, die am längsten auf dem Stapel liegen. Der zuletzt hinzugefügte Gegenstand ist derjenige, der sich in der Position befindet, zuerst entfernt zu werden. Dieses Ordnungsprinzip wird manchmal als **LIFO, last-in-first-out**, bezeichnet. Es bietet eine Ordnung, die auf der Länge der Zeit in der Sammlung basiert. Neuere Artikel befinden sich in der Nähe der Spitze, während ältere Artikel sich in der Nähe der Basis befinden.\n",
    "\n",
    "Viele Beispiele von Stapeln kommen in alltäglichen Situationen vor. Fast jede Cafeteria hat einen Stapel von Tabletts oder Tellern, bei dem man das oberste Tablett oder den Teller nimmt und so ein neues Tablett oder einen neuen Teller für den nächsten Kunden in der Reihe aufdeckt. Stellen Sie sich einen Stapel Bücher auf einem Schreibtisch vor (Abbildung 1). Das einzige Buch, dessen Einband sichtbar ist, ist das oberste. Um auf die anderen Bücher des Stapels zugreifen zu können, müssen wir die Bücher, die darauf liegen, entfernen. Abbildung 2 zeigt einen weiteren Stapel. Dieser enthält eine Reihe primitiver Python-Datenobjekte.\n",
    "\n",
    "**Abb. 1 Stack als abstrakte Datenstruktur (ADT)**\n",
    "<div>\n",
    "<img src=\"Bilder/ADT/bookstack2.png\" width=300px style=\"margin:5px\" align=\"left\">\n",
    "<img src=\"Bilder/ADT/primitive.png\"  width=300px align=\"left\"> \n",
    "</div>\n",
    "<br>\n",
    "</br>"
   ]
  },
  {
   "cell_type": "markdown",
   "metadata": {},
   "source": [
    "Eine der nützlichsten Ideen im Zusammenhang mit Stapeln ergibt sich aus der einfachen Beobachtung der Gegenstände, während sie hinzugefügt und dann wieder entfernt werden. Angenommen, Sie beginnen mit einem leeren Schreibtisch. Nun legen Sie die Bücher eins nach dem anderen übereinander. Sie konstruieren einen *Stapel*. Überlegen Sie, was passiert, wenn Sie beginnen, Bücher zu entfernen. Die Reihenfolge, in der sie entfernt werden, ist genau umgekehrt zu der Reihenfolge, in der sie platziert wurden. Stapel sind von grundlegender Bedeutung, da sie verwendet werden können, um die Reihenfolge der Elemente umzukehren. Die Reihenfolge des Einfügens ist die umgekehrte der Reihenfolge des Herausnehmens. *Abbildung 3* zeigt den Python-Datenobjekt-Stapel, wie er erstellt wurde und dann wieder wie die Elemente entfernt werden. Beachten Sie die Reihenfolge der Objekte.\n",
    "\n",
    "In Anbetracht dieser Umkehreigenschaft fallen Ihnen vielleicht Beispiele von Stapeln ein, die bei der Benutzung Ihres Computers auftreten. Zum Beispiel hat jeder Webbrowser eine Zurück-Schaltfläche. Wenn Sie von Web-Seite zu Web-Seite navigieren, werden diese Seiten auf einem Stapel abgelegt (eigentlich sind es die URLs, die auf den Stapel gelegt werden). Die aktuelle Seite, die Sie betrachten, befindet sich ganz oben und die erste Seite, die Sie sich angesehen haben, ganz unten. Wenn Sie auf die Schaltfläche Zurück klicken, beginnen Sie, sich in umgekehrter Reihenfolge durch die Seiten zu bewegen.\n",
    "\n",
    "Der abstrakte Stack-Datentyp wird durch die folgende Struktur und die folgenden Operationen definiert. Ein Stapel ist, wie oben beschrieben, als eine geordnete Sammlung von Elementen strukturiert, wobei Elemente am Ende, dem so genannten \"Anfang\", hinzugefügt und entfernt werden. Stapel sind LIFO-geordnet. Die Stapel-Operationen sind unten angegeben.\n",
    "\n",
    "- <code>stack()</code> erzeugt einen neuen Stapel, der leer ist. Es benötigt keine Parameter und gibt einen leeren Stapel zurück.\n",
    "- <code>push(item)</code> fügt einen neuen Artikel an die Spitze des Stapels hinzu. Es benötigt den Artikel und gibt nichts zurück.\n",
    "- <code>pop()</code> entfernt das oberste Element vom Stapel. Es benötigt keine Parameter und gibt das Element zurück. Der Stapel wird geändert.\n",
    "- <code>peek()</code> gibt das oberste Element vom Stapel zurück, entfernt es aber nicht. Es benötigt keine Parameter. Der Stapel wird nicht verändert.\n",
    "- <code>isEmpty()</code> prüft, ob der Stapel leer ist. Sie benötigt keine Parameter und gibt einen booleschen Wert zurück.\n",
    "- <code>size()</code> gibt die Anzahl der Elemente auf dem Stapel zurück. Sie benötigt keine Parameter und gibt eine ganze Zahl zurück.\n",
    "\n",
    "Wenn $s$ beispielsweise ein Stapel ist, der erstellt wurde und leer beginnt, dann zeigt Tabelle 1 die Ergebnisse einer Folge von Stapeloperationen. Unter Stapelinhalt wird das oberste Element ganz rechts aufgelistet.\n",
    "\n",
    "<img src=\"Bilder/ADT/StackBefehle.jpg\" width=800px>\n",
    "\n",
    "---\n",
    "### Aufgabe ADT-01: Kellerinhalt erzeugen\n",
    "Beschreiben Sie die minimale Anzahl an Operationen mit denen man von einem Keller A zum Keller B kommt. Der Anfang des Kellers (das oberste Element) ist *rechts*.\n",
    "\n",
    "<table width=250px style=\"margin:5px\" align=\"center\">\n",
    "  <thead>\n",
    "    <tr>\n",
    "      <th>A</th>\n",
    "      <th>B</th>\n",
    "    </tr>\n",
    "  </thead>\n",
    "  <tbody>\n",
    "    <tr>\n",
    "      <td>[]</td>\n",
    "      <td>[a,b,c,d,e]</td>\n",
    "    </tr>\n",
    "    <tr>\n",
    "      <td>[1,2,3,4,5]</td>\n",
    "      <td>[2,4,6]</td>\n",
    "    </tr>\n",
    "      <tr>\n",
    "      <td>[1,2,3,4,5,6]</td>\n",
    "      <td>[6,5,4,3,2,1]</td>\n",
    "    </tr>\n",
    "  </tbody>\n",
    "</table>\n",
    "\n",
    "---"
   ]
  },
  {
   "cell_type": "markdown",
   "metadata": {},
   "source": [
    "## Stack (Keller) in Python implementieren"
   ]
  },
  {
   "cell_type": "markdown",
   "metadata": {},
   "source": [
    "Da wir den Stack als abstrakten Datentyp definiert haben, werden wir unsere Aufmerksamkeit auf die Verwendung von Python zur Implementierung des Stacks richten. Erinnern Sie sich, dass wir, wenn wir einem abstrakten Datentyp eine physische Implementierung geben, die Implementierung als *Datenstruktur* bezeichnen.\n",
    "\n",
    "Wie wir in Kapitel 1 beschrieben haben, ist in Python, wie in jeder objektorientierten Programmiersprache, die beste Implementierung für einen abstrakten Datentyp wie einen Stack die Erstellung einer neuen *Klasse*. Die Stack-Operationen werden als *Methoden* implementiert. Um einen Stack zu implementieren, bei dem es sich um eine Sammlung von Elementen handelt, ist es außerdem sinnvoll, die Leistungsfähigkeit und Einfachheit der einfachen  \"Collections\" von Python zu nutzen. Wir werden das Modul *Liste* verwenden.\n",
    "\n",
    "Erinnern wir uns, dass die Klasse <code>list</code> in Python eine Reihe geeigneter Methoden bereitstellt. Wenn wir zum Beispiel die Liste haben, brauchen wir nur zu entscheiden, welches Ende der Liste als oberstes und welches als unterstes Ende des Stapels betrachtet wird. Sobald diese Entscheidung getroffen ist, können die Operationen mit den Listenmethoden wie ``append`` und ``pop`` implementiert werden.\n",
    "\n",
    "Die folgende Stack-Implementierung geht davon aus, dass das Ende der Liste das oberste Element des Stacks enthält. Wenn der Stapel wächst (bei `push`-Operationen), werden neue Elemente am Ende der Liste hinzugefügt. `pop`-Operationen manipulieren dasselbe Ende.\n",
    "\n",
    "**Listing 1**"
   ]
  },
  {
   "cell_type": "code",
   "execution_count": 32,
   "metadata": {},
   "outputs": [
    {
     "name": "stdout",
     "output_type": "stream",
     "text": [
      "True\n"
     ]
    }
   ],
   "source": [
    "class Stack:\n",
    "     def __init__(self):\n",
    "         self.items = []\n",
    "\n",
    "     def isEmpty(self):\n",
    "         return self.items == []\n",
    "\n",
    "     def push(self, item):\n",
    "         self.items.append(item)\n",
    "\n",
    "     def pop(self):\n",
    "         return self.items.pop()\n",
    "\n",
    "     def peek(self):\n",
    "         return self.items[len(self.items)-1]\n",
    "\n",
    "     def size(self):\n",
    "         return len(self.items)\n",
    "\n",
    "s=Stack()\n",
    "print(s.isEmpty())"
   ]
  },
  {
   "cell_type": "markdown",
   "metadata": {},
   "source": [
    "*Listing 1* zeigt die Klasse Stack in Aktion, während wir die Reihenfolge der Operationen aus Tabelle 1 ausführen. \n",
    "\n",
    "---\n",
    "### Aufgabe ADT-02: Kellerinhalt aus ADT-01 generieren\n",
    "Erzeugen Sie in **Listing 1** die in der Aufgabe **ADT-01** von Ihnen entwickelten Lösungen und überprüfen Sie ob die korrekten Inhalte des Stack generiert werden\n",
    "\n",
    "\n",
    "**Listing 2** Aufgabe ADT-02"
   ]
  },
  {
   "cell_type": "code",
   "execution_count": 33,
   "metadata": {},
   "outputs": [
    {
     "name": "stdout",
     "output_type": "stream",
     "text": [
      "<__main__.Stack object at 0x7ff6654e5a50>\n",
      "<__main__.Stack object at 0x7ff6654e5690>\n",
      "<__main__.Stack object at 0x7ff6657181d0>\n"
     ]
    }
   ],
   "source": [
    "# Stackobjekt s1 erzeugen\n",
    "\n",
    "s1=Stack()\n",
    "\n",
    "#Operationen Ihrer Lösung 1 anwenden\n",
    "\n",
    "#Ausgabe\n",
    "print(s1)\n",
    "\n",
    "# Stackobjekt s1 erzeugen\n",
    "\n",
    "s2=Stack()\n",
    "\n",
    "#Operationen Ihrer Lösung 2 anwenden\n",
    "\n",
    "#Ausgabe\n",
    "print(s2)\n",
    "\n",
    "\n",
    "# Stackobjekt s3 erzeugen\n",
    "\n",
    "s3=Stack()\n",
    "\n",
    "#Operationen Ihrer Lösung 3 anwenden\n",
    "\n",
    "#Ausgabe\n",
    "print(s3)\n"
   ]
  },
  {
   "cell_type": "markdown",
   "metadata": {},
   "source": [
    "### Ergänzende Bemerkung###\n",
    "An dieser Stelle sei zusätzlich bemerkt, dass wir den Stack mit einer Liste hätten implementieren können, bei der der \"Anfang\" am Anfang und nicht am Ende steht. In diesem Fall würden die bisherigen Pop- und Append-Methoden nicht mehr funktionieren und wir müssten die Position 0 (das erste Element in der Liste) explizit mit Pop und Insert indizieren. Die Implementierung ist in Listing dargestellt.\n",
    "\n",
    "**Listing 3.** *Alternative Implementation of the Stack class (stack_cl_1)*"
   ]
  },
  {
   "cell_type": "code",
   "execution_count": 35,
   "metadata": {},
   "outputs": [
    {
     "name": "stdout",
     "output_type": "stream",
     "text": [
      "true\n"
     ]
    }
   ],
   "source": [
    "class Stack:\n",
    "    def __init__(self):\n",
    "        self.items = []\n",
    "\n",
    "    def isEmpty(self):\n",
    "         return self.items == []\n",
    "\n",
    "    def push(self, item):\n",
    "         self.items.insert(0,item)\n",
    "\n",
    "    def pop(self):\n",
    "         return self.items.pop(0)\n",
    "\n",
    "    def peek(self):\n",
    "        return self.items[0]\n",
    "\n",
    "    def size(self):\n",
    "        return len(self.items)\n",
    "\n",
    "s = Stack()\n",
    "s.push('hello')\n",
    "s.push('true')\n",
    "print(s.pop())\n"
   ]
  },
  {
   "cell_type": "markdown",
   "metadata": {},
   "source": [
    "Man erkennt hier die Stärke des Konzepts eines abstrakten Datentyps und die Implementierung mit einer objektorientierte Programmiersprache. Wir können die Implementierung ändern, die Schnittstelle zur Nutzung ändert sich jedoch nicht wesentlich."
   ]
  },
  {
   "cell_type": "markdown",
   "metadata": {},
   "source": [
    "---\n",
    "### ADT-03 Selbstest\n",
    "Bearbeiten Sie die drei Fragen und die Programmieraufgabe."
   ]
  },
  {
   "cell_type": "code",
   "execution_count": 37,
   "metadata": {},
   "outputs": [
    {
     "data": {
      "application/vnd.jupyter.widget-view+json": {
       "model_id": "aa0b187cb0854fffaa1191980472abbf",
       "version_major": 2,
       "version_minor": 0
      },
      "text/plain": [
       "VBox(children=(Output(outputs=({'output_type': 'stream', 'text': 'Welches I/O-Prinzip liegt der Datenstruktur …"
      ]
     },
     "metadata": {},
     "output_type": "display_data"
    },
    {
     "data": {
      "application/vnd.jupyter.widget-view+json": {
       "model_id": "d562065064d3435ca2adc2f502b63609",
       "version_major": 2,
       "version_minor": 0
      },
      "text/plain": [
       "VBox(children=(Output(outputs=({'output_type': 'stream', 'text': 'Was ist das Ergebnis bei folgenden Operation…"
      ]
     },
     "metadata": {},
     "output_type": "display_data"
    },
    {
     "data": {
      "application/vnd.jupyter.widget-view+json": {
       "model_id": "ed031aadde044919ae47db1f7dd6dd7a",
       "version_major": 2,
       "version_minor": 0
      },
      "text/plain": [
       "VBox(children=(Output(outputs=({'output_type': 'stream', 'text': 'Was ist das Ergebnis bei folgenden Operation…"
      ]
     },
     "metadata": {},
     "output_type": "display_data"
    }
   ],
   "source": [
    "hide_me\n",
    "\n",
    "\n",
    "display(Q1)\n",
    "display(Q2)\n",
    "display(Q3)"
   ]
  },
  {
   "cell_type": "markdown",
   "metadata": {},
   "source": [
    "\n",
    "4. Programmieraufgabe: Schreiben Sie eine Funktion ``revstring(mystr)``, die einen Stack verwendet, um die Zeichen in einer Zeichenfolge umzukehren.\n",
    "\n",
    "```\n",
    "def revstr(mystr):\n",
    "    # Erzeuge Stack\n",
    "    # Speichere jeden Buchstaben auf Stack\n",
    "    # Erzeuge leeren String revstr\n",
    "    # Hänge jeden Eintrag des Stack an revstr \n",
    "    # gib revstr zurück\n",
    "#print(revstr(\"Hallo Hallo\"))\n",
    "```"
   ]
  }
 ],
 "metadata": {
  "kernelspec": {
   "display_name": "Python 3",
   "language": "python",
   "name": "python3"
  },
  "language_info": {
   "codemirror_mode": {
    "name": "ipython",
    "version": 3
   },
   "file_extension": ".py",
   "mimetype": "text/x-python",
   "name": "python",
   "nbconvert_exporter": "python",
   "pygments_lexer": "ipython3",
   "version": "3.7.6"
  }
 },
 "nbformat": 4,
 "nbformat_minor": 4
}
