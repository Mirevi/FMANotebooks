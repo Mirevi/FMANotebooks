{
 "cells": [
  {
   "cell_type": "markdown",
   "metadata": {},
   "source": [
    "# FMA Interactive Jupyter Notebooks"
   ]
  },
  {
   "cell_type": "markdown",
   "metadata": {},
   "source": [
    "Willkommen zu den Interaktiven Notebooks der Veranstaltung FMA. Diese Seite ist das Portal zu den verschiedenen Notebooks. Wenn Sie sich angemeldet haben, erzeugt der JupyterHub eine eigene Instanz für ihren Nutzeraccount. Sie können keine Daten von anderen löschen, aber ggf. Inhalte in Ihrer Instanz. Eine Synchronisation mit dem Repo ist möglich, aber für Ihre Inhalte sind Sie selbst verantwortlich."
   ]
  },
  {
   "cell_type": "markdown",
   "metadata": {},
   "source": [
    "## Dokumentation zu Jupyter\n",
    "Es gibt viele Informationen zu Jupyter Notebooks, da Jupyter für den Bereich Data Science ein wichtiges Werkzeug geworden ist. An dieser Stelle sammeln wir eine Auswahl. Wer bessere Referenzen findet, bitte im Forum kommunizieren:\n",
    "\n",
    "- Offizielle Dokumentation des [Jupyter-Projekts](https://jupyter.org/documentation)\n",
    "- Jupyter Tutorial [Link](https://jupyter-tutorial.readthedocs.io/de/latest/)\n",
    "- Tutorial des Bryn Mawr College, USA zur Nutzung des User Interface [Link](https://jupyter.brynmawr.edu/services/public/dblank/Jupyter%20Notebook%20Users%20Manual.ipynb)\n",
    "- Jupyter Notebook Tutorial von C. Schafer: Introduction, Setup, and Walkthrough [Youtube Tutorial ](https://www.youtube.com/watch?v=HW29067qVWk)"
   ]
  },
  {
   "cell_type": "markdown",
   "metadata": {},
   "source": [
    "## Aktuelle Inhalte und Nachrichten"
   ]
  },
  {
   "cell_type": "markdown",
   "metadata": {},
   "source": [
    "15.05.2020 -- Neues Notebook zu [Aufwand](Vorlesung/Alle_VL/04_Aufwand.ipynb) verfügbar. \n",
    "\n",
    "18.05.2020 -- Neues Notebook zu Abstrakten Datenstrukturen,[Teil 1](Vorlesung/Alle_VL/03_ADT-01.ipynb), [Teil 2](Vorlesung/Alle_VL/03_ADT-02.ipynb), [Teil 3](Vorlesung/Alle_VL/03_ADT-03.ipynb), [Teil 4](Vorlesung/Alle_VL/03_ADT-04.ipynb) verfügbar."
   ]
  },
  {
   "cell_type": "markdown",
   "metadata": {},
   "source": [
    "# Notebook Struktur für FMA 2020"
   ]
  },
  {
   "cell_type": "markdown",
   "metadata": {},
   "source": [
    "### Teil 1 - Einführung "
   ]
  },
  {
   "cell_type": "markdown",
   "metadata": {},
   "source": [
    "### Teil 2 - Algorithmen"
   ]
  },
  {
   "cell_type": "markdown",
   "metadata": {},
   "source": [
    "### Teil 3 - Abstrakte Datenstrukturen\n",
    "Die vier Notebooks behandeln recht ausführlich verschiedene lineare Datenstrukturen. Stack / Keller, Schlange, Deque und Liste sind aktuell vorbereitet. Eine Reihe praktischer Beispiele zum Ausprobieren sind ebenfalls umgesetzt. Versuchen Sie die einzelnen Abschnitt Schritt für Schritt nachzuvollziehen und probieren Sie die Beispiele aus. Die Aufgaben helfen dabei, alles noch besser zu verstehen. Kontaktieren Sie uns via Forum zu Fragen und Verbesserungen.\n",
    "\n",
    "- [Abstrakte Datenstrukturen, Teil 1](Vorlesung/Alle_VL/03_ADT-01.ipynb): Der erste Teil motiviert die abstrakte Datenstruktur Stack (auch Keller oder Stapel) und erläutert, wie diese implementiert wird.\n",
    "\n",
    "- [Abstrakte Datenstrukturen, Teil 2](Vorlesung/Alle_VL/03_ADT-02.ipynb): Der zweite Teil stellt drei Beispiele für den Einsatz von Kellerstrukturen dar: Das Überprüfen korrekter Klammerstrukturen, die Konvertierung von Zahlen in ein anderes Zahlensystem (z. B. binär, oktal, hexadezimal) sowie die Transformation zwischen verschiedenen Termdarstellungen (Postfix, Infix, Präfix)\n",
    "\n",
    "- [Abstrakte Datenstrukturen, Teil 3](Vorlesung/Alle_VL/03_ADT-03.ipynb):Der dritte Teil betrachtet die Queue als abstrakte Datenstruktur. Zwei umfangreiche Beispiele illustrieren die Nutzung. Insbesondere die Simulation einer Druckerwarteschlange ist ein wichtiges Beispiel, wie abstrakte Datenstrukturen für Probleme der Informatik eingesetzt werden.\n",
    "\n",
    "- [Abstrakte Datenstrukturen, Teil 4](Vorlesung/Alle_VL/03_ADT-04.ipynb): Der vierte Teil betrachtet die Liste als abstrakte Datenstruktur, die Sie vermutlich aus Java schon kennen. Ungeordnete Listen werden als verkettete lineare Datenstruktur definiert. Als fortgeschrittenere Variante wird eine geordnete Liste betrachtet, bei der verbundene Elemente bzgl einer Ordnung sortiert sind (z. B. nach Größe). Bei der Anwendung der Operationen (z. B. Einfügen, Löschen, Suchen) kann diese Ordnung erheblichen Einfluss auf die Laufzeit haben.\n"
   ]
  },
  {
   "cell_type": "markdown",
   "metadata": {},
   "source": [
    "### Teil 4 - Aufwand\n",
    "Die Laufzeit eines Algorithmus wird untersucht.Das umfangreiche Notebook beschreibt sowohl die praktische Analyse durch Zeitmessung, Einzelschritte und die Abschätzung durch das in der Informatik häufig genutzte $O$-Kalkül.\n",
    "- [Laufzeit und Aufwandabschätzung](Vorlesung/Alle_VL/04_Aufwand.ipynb): Der erste Teil motiviert die abstrakte Datenstruktur Stack (auch Keller oder Stapel) und erläutert, wie diese implementiert wird.\n",
    "- [Fallbeispiel 1: Maximale-Teilsummen-Problem](Vorlesung/MaxSumme/MaxSumme.ipynb): Das erste Fallbeispiel illustriert wie man unterschiedliche Ansätze zur Problemlösung entwickelt und diese analysiert.\n",
    "- [Fallbeispiel 2: Anagramm-Problem](Vorlesung/AnagramChecker/Anagram.ipynb): Das Fallbeispiel 2 beschreibt Lösungen für das Anagramm-Problem, das überprüft ob ein Wort eine Permutation eines anderen Wortes ist."
   ]
  },
  {
   "cell_type": "markdown",
   "metadata": {},
   "source": [
    "### Bemerkung zu den Notebooks:\n",
    "Die folgenden Ausführungen sind eine automatische Übersetzung von deepl (https://www.deepl.com/translator) der Webseite Problem Solving with Algorithms and Data Structures Using Python (https://runestone.academy/runestone/books/published/pythonds/index.html). Es wurde zum Teil nur in geringem Maße modifiziert bzw. wird ständig verbessert, daher sind einige Formulierungen und Darstellungen noch etwas \"seltsam\". Eigene Ergänzungen sind bereits zum Teil erfolgt."
   ]
  }
 ],
 "metadata": {
  "celltoolbar": "Visualize",
  "kernelspec": {
   "display_name": "Python 3",
   "language": "python",
   "name": "python3"
  },
  "language_info": {
   "codemirror_mode": {
    "name": "ipython",
    "version": 3
   },
   "file_extension": ".py",
   "mimetype": "text/x-python",
   "name": "python",
   "nbconvert_exporter": "python",
   "pygments_lexer": "ipython3",
   "version": "3.7.6"
  }
 },
 "nbformat": 4,
 "nbformat_minor": 4
}
